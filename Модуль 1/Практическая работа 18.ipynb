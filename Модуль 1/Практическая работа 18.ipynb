{
 "cells": [
  {
   "cell_type": "code",
   "execution_count": 2,
   "metadata": {},
   "outputs": [],
   "source": [
    "import pandas as pd"
   ]
  },
  {
   "cell_type": "code",
   "execution_count": 3,
   "metadata": {},
   "outputs": [
    {
     "data": {
      "text/html": [
       "<div>\n",
       "<style scoped>\n",
       "    .dataframe tbody tr th:only-of-type {\n",
       "        vertical-align: middle;\n",
       "    }\n",
       "\n",
       "    .dataframe tbody tr th {\n",
       "        vertical-align: top;\n",
       "    }\n",
       "\n",
       "    .dataframe thead th {\n",
       "        text-align: right;\n",
       "    }\n",
       "</style>\n",
       "<table border=\"1\" class=\"dataframe\">\n",
       "  <thead>\n",
       "    <tr style=\"text-align: right;\">\n",
       "      <th></th>\n",
       "      <th>id</th>\n",
       "      <th>url</th>\n",
       "      <th>region</th>\n",
       "      <th>region_url</th>\n",
       "      <th>price</th>\n",
       "      <th>year</th>\n",
       "      <th>manufacturer</th>\n",
       "      <th>model</th>\n",
       "      <th>condition</th>\n",
       "      <th>cylinders</th>\n",
       "      <th>...</th>\n",
       "      <th>type</th>\n",
       "      <th>paint_color</th>\n",
       "      <th>image_url</th>\n",
       "      <th>description</th>\n",
       "      <th>county</th>\n",
       "      <th>state</th>\n",
       "      <th>lat</th>\n",
       "      <th>long</th>\n",
       "      <th>posting_date</th>\n",
       "      <th>price_category</th>\n",
       "    </tr>\n",
       "  </thead>\n",
       "  <tbody>\n",
       "    <tr>\n",
       "      <th>0</th>\n",
       "      <td>7308295377</td>\n",
       "      <td>https://chattanooga.craigslist.org/ctd/d/chatt...</td>\n",
       "      <td>chattanooga</td>\n",
       "      <td>https://chattanooga.craigslist.org</td>\n",
       "      <td>54990</td>\n",
       "      <td>2020.0</td>\n",
       "      <td>ram</td>\n",
       "      <td>2500 crew cab big horn</td>\n",
       "      <td>good</td>\n",
       "      <td>NaN</td>\n",
       "      <td>...</td>\n",
       "      <td>pickup</td>\n",
       "      <td>silver</td>\n",
       "      <td>https://images.craigslist.org/00N0N_1xMPvfxRAI...</td>\n",
       "      <td>Carvana is the safer way to buy a car During t...</td>\n",
       "      <td>NaN</td>\n",
       "      <td>tn</td>\n",
       "      <td>35.060000</td>\n",
       "      <td>-85.250000</td>\n",
       "      <td>2021-04-17T12:30:50-0400</td>\n",
       "      <td>high</td>\n",
       "    </tr>\n",
       "    <tr>\n",
       "      <th>1</th>\n",
       "      <td>7316380095</td>\n",
       "      <td>https://newjersey.craigslist.org/ctd/d/carlsta...</td>\n",
       "      <td>north jersey</td>\n",
       "      <td>https://newjersey.craigslist.org</td>\n",
       "      <td>16942</td>\n",
       "      <td>2016.0</td>\n",
       "      <td>ford</td>\n",
       "      <td>explorer 4wd 4dr xlt</td>\n",
       "      <td>NaN</td>\n",
       "      <td>6 cylinders</td>\n",
       "      <td>...</td>\n",
       "      <td>SUV</td>\n",
       "      <td>black</td>\n",
       "      <td>https://images.craigslist.org/00x0x_26jl9F0cnL...</td>\n",
       "      <td>***Call Us for more information at: 201-635-14...</td>\n",
       "      <td>NaN</td>\n",
       "      <td>nj</td>\n",
       "      <td>40.821805</td>\n",
       "      <td>-74.061962</td>\n",
       "      <td>2021-05-03T15:40:21-0400</td>\n",
       "      <td>medium</td>\n",
       "    </tr>\n",
       "    <tr>\n",
       "      <th>2</th>\n",
       "      <td>7313733749</td>\n",
       "      <td>https://reno.craigslist.org/ctd/d/atlanta-2017...</td>\n",
       "      <td>reno / tahoe</td>\n",
       "      <td>https://reno.craigslist.org</td>\n",
       "      <td>35590</td>\n",
       "      <td>2017.0</td>\n",
       "      <td>volkswagen</td>\n",
       "      <td>golf r hatchback</td>\n",
       "      <td>good</td>\n",
       "      <td>NaN</td>\n",
       "      <td>...</td>\n",
       "      <td>sedan</td>\n",
       "      <td>NaN</td>\n",
       "      <td>https://images.craigslist.org/00y0y_eeZjWeiSfb...</td>\n",
       "      <td>Carvana is the safer way to buy a car During t...</td>\n",
       "      <td>NaN</td>\n",
       "      <td>ca</td>\n",
       "      <td>33.779214</td>\n",
       "      <td>-84.411811</td>\n",
       "      <td>2021-04-28T03:52:20-0700</td>\n",
       "      <td>high</td>\n",
       "    </tr>\n",
       "    <tr>\n",
       "      <th>3</th>\n",
       "      <td>7308210929</td>\n",
       "      <td>https://fayetteville.craigslist.org/ctd/d/rale...</td>\n",
       "      <td>fayetteville</td>\n",
       "      <td>https://fayetteville.craigslist.org</td>\n",
       "      <td>14500</td>\n",
       "      <td>2013.0</td>\n",
       "      <td>toyota</td>\n",
       "      <td>rav4</td>\n",
       "      <td>NaN</td>\n",
       "      <td>NaN</td>\n",
       "      <td>...</td>\n",
       "      <td>wagon</td>\n",
       "      <td>white</td>\n",
       "      <td>https://images.craigslist.org/00606_iGe5iXidib...</td>\n",
       "      <td>2013 Toyota RAV4 XLE 4dr SUV     Offered by: R...</td>\n",
       "      <td>NaN</td>\n",
       "      <td>nc</td>\n",
       "      <td>35.715954</td>\n",
       "      <td>-78.655304</td>\n",
       "      <td>2021-04-17T10:08:57-0400</td>\n",
       "      <td>medium</td>\n",
       "    </tr>\n",
       "    <tr>\n",
       "      <th>4</th>\n",
       "      <td>7316474668</td>\n",
       "      <td>https://newyork.craigslist.org/lgi/cto/d/baldw...</td>\n",
       "      <td>new york city</td>\n",
       "      <td>https://newyork.craigslist.org</td>\n",
       "      <td>21800</td>\n",
       "      <td>2021.0</td>\n",
       "      <td>nissan</td>\n",
       "      <td>altima</td>\n",
       "      <td>new</td>\n",
       "      <td>4 cylinders</td>\n",
       "      <td>...</td>\n",
       "      <td>NaN</td>\n",
       "      <td>NaN</td>\n",
       "      <td>https://images.craigslist.org/00V0V_3pSOiPZ3Sd...</td>\n",
       "      <td>2021 Nissan Altima Sv with Only 8 K Miles Titl...</td>\n",
       "      <td>NaN</td>\n",
       "      <td>ny</td>\n",
       "      <td>40.654800</td>\n",
       "      <td>-73.609700</td>\n",
       "      <td>2021-05-03T18:32:06-0400</td>\n",
       "      <td>medium</td>\n",
       "    </tr>\n",
       "  </tbody>\n",
       "</table>\n",
       "<p>5 rows × 27 columns</p>\n",
       "</div>"
      ],
      "text/plain": [
       "           id                                                url  \\\n",
       "0  7308295377  https://chattanooga.craigslist.org/ctd/d/chatt...   \n",
       "1  7316380095  https://newjersey.craigslist.org/ctd/d/carlsta...   \n",
       "2  7313733749  https://reno.craigslist.org/ctd/d/atlanta-2017...   \n",
       "3  7308210929  https://fayetteville.craigslist.org/ctd/d/rale...   \n",
       "4  7316474668  https://newyork.craigslist.org/lgi/cto/d/baldw...   \n",
       "\n",
       "          region                           region_url  price    year  \\\n",
       "0    chattanooga   https://chattanooga.craigslist.org  54990  2020.0   \n",
       "1   north jersey     https://newjersey.craigslist.org  16942  2016.0   \n",
       "2   reno / tahoe          https://reno.craigslist.org  35590  2017.0   \n",
       "3   fayetteville  https://fayetteville.craigslist.org  14500  2013.0   \n",
       "4  new york city       https://newyork.craigslist.org  21800  2021.0   \n",
       "\n",
       "  manufacturer                   model condition    cylinders  ...    type  \\\n",
       "0          ram  2500 crew cab big horn      good          NaN  ...  pickup   \n",
       "1         ford    explorer 4wd 4dr xlt       NaN  6 cylinders  ...     SUV   \n",
       "2   volkswagen        golf r hatchback      good          NaN  ...   sedan   \n",
       "3       toyota                    rav4       NaN          NaN  ...   wagon   \n",
       "4       nissan                  altima       new  4 cylinders  ...     NaN   \n",
       "\n",
       "   paint_color                                          image_url  \\\n",
       "0       silver  https://images.craigslist.org/00N0N_1xMPvfxRAI...   \n",
       "1        black  https://images.craigslist.org/00x0x_26jl9F0cnL...   \n",
       "2          NaN  https://images.craigslist.org/00y0y_eeZjWeiSfb...   \n",
       "3        white  https://images.craigslist.org/00606_iGe5iXidib...   \n",
       "4          NaN  https://images.craigslist.org/00V0V_3pSOiPZ3Sd...   \n",
       "\n",
       "                                         description county state        lat  \\\n",
       "0  Carvana is the safer way to buy a car During t...    NaN    tn  35.060000   \n",
       "1  ***Call Us for more information at: 201-635-14...    NaN    nj  40.821805   \n",
       "2  Carvana is the safer way to buy a car During t...    NaN    ca  33.779214   \n",
       "3  2013 Toyota RAV4 XLE 4dr SUV     Offered by: R...    NaN    nc  35.715954   \n",
       "4  2021 Nissan Altima Sv with Only 8 K Miles Titl...    NaN    ny  40.654800   \n",
       "\n",
       "        long              posting_date price_category  \n",
       "0 -85.250000  2021-04-17T12:30:50-0400           high  \n",
       "1 -74.061962  2021-05-03T15:40:21-0400         medium  \n",
       "2 -84.411811  2021-04-28T03:52:20-0700           high  \n",
       "3 -78.655304  2021-04-17T10:08:57-0400         medium  \n",
       "4 -73.609700  2021-05-03T18:32:06-0400         medium  \n",
       "\n",
       "[5 rows x 27 columns]"
      ]
     },
     "execution_count": 3,
     "metadata": {},
     "output_type": "execute_result"
    }
   ],
   "source": [
    "vehicles_df = pd.read_csv('vehicles_dataset.csv')\n",
    "vehicles_df.head()"
   ]
  },
  {
   "cell_type": "code",
   "execution_count": 4,
   "metadata": {},
   "outputs": [
    {
     "name": "stdout",
     "output_type": "stream",
     "text": [
      "(10050, 27)\n"
     ]
    },
    {
     "data": {
      "text/plain": [
       "(10000, 27)"
      ]
     },
     "execution_count": 4,
     "metadata": {},
     "output_type": "execute_result"
    }
   ],
   "source": [
    "# Удаление дубликатов\n",
    "print(vehicles_df.shape)\n",
    "vehicles_df = vehicles_df.drop_duplicates()\n",
    "vehicles_df.shape"
   ]
  },
  {
   "cell_type": "code",
   "execution_count": 5,
   "metadata": {},
   "outputs": [
    {
     "name": "stdout",
     "output_type": "stream",
     "text": [
      "<class 'pandas.core.frame.DataFrame'>\n",
      "Index: 10000 entries, 0 to 10049\n",
      "Data columns (total 27 columns):\n",
      " #   Column          Non-Null Count  Dtype  \n",
      "---  ------          --------------  -----  \n",
      " 0   id              10000 non-null  int64  \n",
      " 1   url             10000 non-null  object \n",
      " 2   region          10000 non-null  object \n",
      " 3   region_url      10000 non-null  object \n",
      " 4   price           10000 non-null  int64  \n",
      " 5   year            9964 non-null   float64\n",
      " 6   manufacturer    9618 non-null   object \n",
      " 7   model           9872 non-null   object \n",
      " 8   condition       6234 non-null   object \n",
      " 9   cylinders       5920 non-null   object \n",
      " 10  fuel            9937 non-null   object \n",
      " 11  odometer        9957 non-null   float64\n",
      " 12  title_status    9834 non-null   object \n",
      " 13  transmission    9955 non-null   object \n",
      " 14  VIN             6062 non-null   object \n",
      " 15  drive           6994 non-null   object \n",
      " 16  size            2809 non-null   object \n",
      " 17  type            7806 non-null   object \n",
      " 18  paint_color     7050 non-null   object \n",
      " 19  image_url       9998 non-null   object \n",
      " 20  description     9998 non-null   object \n",
      " 21  county          0 non-null      float64\n",
      " 22  state           10000 non-null  object \n",
      " 23  lat             9902 non-null   float64\n",
      " 24  long            9902 non-null   float64\n",
      " 25  posting_date    9998 non-null   object \n",
      " 26  price_category  10000 non-null  object \n",
      "dtypes: float64(5), int64(2), object(20)\n",
      "memory usage: 2.1+ MB\n"
     ]
    }
   ],
   "source": [
    "# Удаление \n",
    "vehicles_df.info()"
   ]
  },
  {
   "cell_type": "code",
   "execution_count": 6,
   "metadata": {},
   "outputs": [
    {
     "name": "stdout",
     "output_type": "stream",
     "text": [
      "<class 'pandas.core.frame.DataFrame'>\n",
      "Index: 10000 entries, 0 to 10049\n",
      "Data columns (total 19 columns):\n",
      " #   Column          Non-Null Count  Dtype  \n",
      "---  ------          --------------  -----  \n",
      " 0   id              10000 non-null  int64  \n",
      " 1   url             10000 non-null  object \n",
      " 2   region          10000 non-null  object \n",
      " 3   region_url      10000 non-null  object \n",
      " 4   price           10000 non-null  int64  \n",
      " 5   year            9964 non-null   float64\n",
      " 6   manufacturer    9618 non-null   object \n",
      " 7   model           9872 non-null   object \n",
      " 8   fuel            9937 non-null   object \n",
      " 9   odometer        9957 non-null   float64\n",
      " 10  title_status    9834 non-null   object \n",
      " 11  transmission    9955 non-null   object \n",
      " 12  image_url       9998 non-null   object \n",
      " 13  description     9998 non-null   object \n",
      " 14  state           10000 non-null  object \n",
      " 15  lat             9902 non-null   float64\n",
      " 16  long            9902 non-null   float64\n",
      " 17  posting_date    9998 non-null   object \n",
      " 18  price_category  10000 non-null  object \n",
      "dtypes: float64(4), int64(2), object(13)\n",
      "memory usage: 1.5+ MB\n"
     ]
    }
   ],
   "source": [
    "vehicles_df = vehicles_df[vehicles_df.columns[vehicles_df.isna().sum() / vehicles_df.shape[0] <= 0.2]]\n",
    "vehicles_df.info()"
   ]
  },
  {
   "cell_type": "code",
   "execution_count": 7,
   "metadata": {},
   "outputs": [
    {
     "data": {
      "text/plain": [
       "count    9964.000000\n",
       "mean     2010.927941\n",
       "std         9.672040\n",
       "min      1915.000000\n",
       "25%      2008.000000\n",
       "50%      2013.000000\n",
       "75%      2017.000000\n",
       "max      2022.000000\n",
       "Name: year, dtype: float64"
      ]
     },
     "execution_count": 7,
     "metadata": {},
     "output_type": "execute_result"
    }
   ],
   "source": [
    "# Пропуски года выпуска\n",
    "vehicles_df.year.describe()"
   ]
  },
  {
   "cell_type": "code",
   "execution_count": 8,
   "metadata": {},
   "outputs": [
    {
     "data": {
      "text/plain": [
       "0"
      ]
     },
     "execution_count": 8,
     "metadata": {},
     "output_type": "execute_result"
    }
   ],
   "source": [
    "vehicles_df.year = vehicles_df.year.fillna(round(vehicles_df.year.mean()))\n",
    "vehicles_df.year.isna().sum()"
   ]
  },
  {
   "cell_type": "code",
   "execution_count": 9,
   "metadata": {},
   "outputs": [
    {
     "data": {
      "text/plain": [
       "count     9937\n",
       "unique       5\n",
       "top        gas\n",
       "freq      8402\n",
       "Name: fuel, dtype: object"
      ]
     },
     "execution_count": 9,
     "metadata": {},
     "output_type": "execute_result"
    }
   ],
   "source": [
    "# Пропуски вида топлива\n",
    "vehicles_df.fuel.describe()"
   ]
  },
  {
   "cell_type": "code",
   "execution_count": 10,
   "metadata": {},
   "outputs": [
    {
     "data": {
      "text/plain": [
       "0"
      ]
     },
     "execution_count": 10,
     "metadata": {},
     "output_type": "execute_result"
    }
   ],
   "source": [
    "vehicles_df.fuel = vehicles_df.fuel.fillna(vehicles_df.fuel.mode()[0])\n",
    "vehicles_df.fuel.isna().sum()"
   ]
  },
  {
   "cell_type": "code",
   "execution_count": 11,
   "metadata": {},
   "outputs": [
    {
     "data": {
      "text/plain": [
       "count      9872\n",
       "unique     3466\n",
       "top       f-150\n",
       "freq        151\n",
       "Name: model, dtype: object"
      ]
     },
     "execution_count": 11,
     "metadata": {},
     "output_type": "execute_result"
    }
   ],
   "source": [
    "# Пропуски модели\n",
    "vehicles_df.model.describe()"
   ]
  },
  {
   "cell_type": "code",
   "execution_count": 12,
   "metadata": {},
   "outputs": [
    {
     "data": {
      "text/plain": [
       "0"
      ]
     },
     "execution_count": 12,
     "metadata": {},
     "output_type": "execute_result"
    }
   ],
   "source": [
    "vehicles_df.model = vehicles_df.model.fillna('other')\n",
    "vehicles_df.model.isna().sum()"
   ]
  },
  {
   "cell_type": "code",
   "execution_count": 13,
   "metadata": {},
   "outputs": [
    {
     "data": {
      "text/plain": [
       "title_status\n",
       "clean         9518\n",
       "rebuilt        171\n",
       "salvage         92\n",
       "lien            35\n",
       "missing         16\n",
       "parts only       2\n",
       "Name: count, dtype: int64"
      ]
     },
     "execution_count": 13,
     "metadata": {},
     "output_type": "execute_result"
    }
   ],
   "source": [
    "# Пропуски статусов автомобилей\n",
    "vehicles_df.title_status.value_counts()"
   ]
  },
  {
   "cell_type": "code",
   "execution_count": 14,
   "metadata": {},
   "outputs": [
    {
     "data": {
      "text/plain": [
       "0"
      ]
     },
     "execution_count": 14,
     "metadata": {},
     "output_type": "execute_result"
    }
   ],
   "source": [
    "vehicles_df.title_status = vehicles_df.title_status.fillna(vehicles_df.title_status.mode()[0])\n",
    "vehicles_df.title_status.isna().sum()"
   ]
  },
  {
   "cell_type": "code",
   "execution_count": 15,
   "metadata": {},
   "outputs": [
    {
     "data": {
      "text/plain": [
       "id                              int64\n",
       "url                            object\n",
       "region                         object\n",
       "region_url                     object\n",
       "price                           int64\n",
       "year                            int32\n",
       "manufacturer                   object\n",
       "model                          object\n",
       "fuel                           object\n",
       "odometer                      float64\n",
       "title_status                   object\n",
       "transmission                   object\n",
       "image_url                      object\n",
       "description                    object\n",
       "state                          object\n",
       "lat                           float64\n",
       "long                          float64\n",
       "posting_date      datetime64[ns, UTC]\n",
       "price_category                 object\n",
       "dtype: object"
      ]
     },
     "execution_count": 15,
     "metadata": {},
     "output_type": "execute_result"
    }
   ],
   "source": [
    "# Преобразование типов\n",
    "vehicles_df.year = vehicles_df.year.astype(int)\n",
    "vehicles_df.posting_date = pd.to_datetime(vehicles_df.posting_date, utc=True)\n",
    "vehicles_df.dtypes"
   ]
  },
  {
   "cell_type": "code",
   "execution_count": 16,
   "metadata": {},
   "outputs": [
    {
     "data": {
      "text/plain": [
       "id                              int64\n",
       "url                          category\n",
       "region                       category\n",
       "region_url                   category\n",
       "price                           int64\n",
       "year                            int32\n",
       "manufacturer                 category\n",
       "model                        category\n",
       "fuel                         category\n",
       "odometer                      float64\n",
       "title_status                 category\n",
       "transmission                 category\n",
       "image_url                    category\n",
       "description                  category\n",
       "state                        category\n",
       "lat                           float64\n",
       "long                          float64\n",
       "posting_date      datetime64[ns, UTC]\n",
       "price_category               category\n",
       "dtype: object"
      ]
     },
     "execution_count": 16,
     "metadata": {},
     "output_type": "execute_result"
    }
   ],
   "source": [
    "vehicles_df[vehicles_df.select_dtypes(include='object').columns] = vehicles_df.select_dtypes(include='object').astype('category')\n",
    "vehicles_df.dtypes"
   ]
  },
  {
   "cell_type": "code",
   "execution_count": 17,
   "metadata": {},
   "outputs": [
    {
     "data": {
      "text/plain": [
       "count    10000.000000\n",
       "mean      2010.928200\n",
       "std          9.654614\n",
       "min       1915.000000\n",
       "25%       2008.000000\n",
       "50%       2013.000000\n",
       "75%       2017.000000\n",
       "max       2022.000000\n",
       "Name: year, dtype: float64"
      ]
     },
     "execution_count": 17,
     "metadata": {},
     "output_type": "execute_result"
    }
   ],
   "source": [
    "# Обработка пропусков в годах\n",
    "vehicles_df.year.describe()"
   ]
  },
  {
   "cell_type": "code",
   "execution_count": 18,
   "metadata": {},
   "outputs": [
    {
     "name": "stdout",
     "output_type": "stream",
     "text": [
      "1994 2022\n"
     ]
    }
   ],
   "source": [
    "# Вычисляем границы допустимых значений (не выбросов)\n",
    "q1, q3 = vehicles_df.year.quantile(0.25), vehicles_df.year.quantile(0.75)\n",
    "iq = q3 - q1\n",
    "lb, rb = max(round(q1 - 1.5 * iq), vehicles_df.year.min()), min(round(q3 + 1.5 * iq), vehicles_df.year.max())\n",
    "print(lb, rb)"
   ]
  },
  {
   "cell_type": "code",
   "execution_count": 19,
   "metadata": {},
   "outputs": [
    {
     "data": {
      "text/plain": [
       "count    10000.000000\n",
       "mean      2011.667000\n",
       "std          6.505363\n",
       "min       1994.000000\n",
       "25%       2008.000000\n",
       "50%       2013.000000\n",
       "75%       2017.000000\n",
       "max       2022.000000\n",
       "Name: year, dtype: float64"
      ]
     },
     "execution_count": 19,
     "metadata": {},
     "output_type": "execute_result"
    }
   ],
   "source": [
    "vehicles_df.loc[(vehicles_df.year < lb), 'year'] = lb\n",
    "vehicles_df.loc[(vehicles_df.year > rb), 'year'] = rb\n",
    "vehicles_df.year.describe()"
   ]
  },
  {
   "cell_type": "code",
   "execution_count": 20,
   "metadata": {},
   "outputs": [
    {
     "name": "stdout",
     "output_type": "stream",
     "text": [
      "<class 'pandas.core.frame.DataFrame'>\n",
      "Index: 10000 entries, 0 to 10049\n",
      "Data columns (total 19 columns):\n",
      " #   Column          Non-Null Count  Dtype              \n",
      "---  ------          --------------  -----              \n",
      " 0   id              10000 non-null  int64              \n",
      " 1   url             10000 non-null  category           \n",
      " 2   region          10000 non-null  category           \n",
      " 3   region_url      10000 non-null  category           \n",
      " 4   price           10000 non-null  int64              \n",
      " 5   year            10000 non-null  int32              \n",
      " 6   manufacturer    9618 non-null   category           \n",
      " 7   model           10000 non-null  category           \n",
      " 8   fuel            10000 non-null  category           \n",
      " 9   odometer        9957 non-null   float64            \n",
      " 10  title_status    10000 non-null  category           \n",
      " 11  transmission    9955 non-null   category           \n",
      " 12  image_url       9998 non-null   category           \n",
      " 13  description     9998 non-null   category           \n",
      " 14  state           10000 non-null  category           \n",
      " 15  lat             9902 non-null   float64            \n",
      " 16  long            9902 non-null   float64            \n",
      " 17  posting_date    9998 non-null   datetime64[ns, UTC]\n",
      " 18  price_category  10000 non-null  category           \n",
      "dtypes: category(12), datetime64[ns, UTC](1), float64(3), int32(1), int64(2)\n",
      "memory usage: 1.9 MB\n"
     ]
    }
   ],
   "source": [
    "vehicles_df.info()"
   ]
  },
  {
   "cell_type": "code",
   "execution_count": 21,
   "metadata": {},
   "outputs": [],
   "source": [
    "vehicles_df.reset_index(drop=True).to_csv('vehicles_dataset2.csv')"
   ]
  }
 ],
 "metadata": {
  "kernelspec": {
   "display_name": "Python 3",
   "language": "python",
   "name": "python3"
  },
  "language_info": {
   "codemirror_mode": {
    "name": "ipython",
    "version": 3
   },
   "file_extension": ".py",
   "mimetype": "text/x-python",
   "name": "python",
   "nbconvert_exporter": "python",
   "pygments_lexer": "ipython3",
   "version": "3.10.7"
  }
 },
 "nbformat": 4,
 "nbformat_minor": 2
}
