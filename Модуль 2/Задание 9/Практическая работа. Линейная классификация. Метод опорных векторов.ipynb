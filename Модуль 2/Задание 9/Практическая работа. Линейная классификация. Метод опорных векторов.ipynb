{
 "cells": [
  {
   "cell_type": "markdown",
   "metadata": {
    "id": "CIu2DPx5tWcg"
   },
   "source": [
    "## Практическая работа"
   ]
  },
  {
   "cell_type": "markdown",
   "metadata": {
    "id": "MEdLy24do28f"
   },
   "source": [
    "## Цели практической работы\n",
    "\n",
    "*  решить реальную задачу;\n",
    "*  потренироваться в обработке данных;\n",
    "*  обучить различные модели классификации, подобрать гиперпараметры и выбрать лучшую модель;\n",
    "*  добиться наилучшего качества в задаче."
   ]
  },
  {
   "cell_type": "markdown",
   "metadata": {
    "id": "d6oxDXgFpD_6"
   },
   "source": [
    "## Что входит в практическую работу\n",
    "\n",
    "*  исследование датасета и обработка данных (работа с пропущенными и ошибочными значениями);\n",
    "*  обучение различных моделей классификации с параметрами по умолчанию;\n",
    "*  подбор гиперпараметров моделей;\n",
    "*  смешивание моделей;\n",
    "*  оценка качества моделей."
   ]
  },
  {
   "cell_type": "markdown",
   "metadata": {
    "id": "WOZ8SueHpZGd"
   },
   "source": [
    "## Что оценивается\n",
    "\n",
    "*  Выполнены все этапы задания: код запускается, отрабатывает без ошибок; подробно и обоснованно написаны текстовые выводы, где это требуется."
   ]
  },
  {
   "cell_type": "markdown",
   "metadata": {
    "id": "UMr-wvh3pbrK"
   },
   "source": [
    "## Формат сдачи\n",
    "Выполните предложенные задания: впишите свой код (или, если требуется, текст) в ячейки после комментариев. \n",
    "\n",
    "*Комментарии — это текст, который начинается с символа #. Например: # ваш код здесь.*\n",
    "\n",
    "Сохраните изменения, используя опцию Save and Checkpoint из вкладки меню File или кнопку Save and Checkpoint на панели инструментов. Итоговый файл в формате .ipynb (файл Jupyter Notebook) загрузите в личный кабинет и отправьте на проверку."
   ]
  },
  {
   "cell_type": "markdown",
   "metadata": {
    "id": "ENiWYl_EtWcm"
   },
   "source": [
    "### 1. Загрузите тренировочные и тестовые датасеты"
   ]
  },
  {
   "cell_type": "code",
   "execution_count": 1,
   "metadata": {
    "id": "_uf-KNwQtWcn"
   },
   "outputs": [],
   "source": [
    "%matplotlib inline\n",
    "import matplotlib.pyplot as plt\n",
    "import pandas as pd\n",
    "from category_encoders import TargetEncoder\n",
    "from sklearn.preprocessing import StandardScaler\n",
    "from sklearn.linear_model import LogisticRegression\n",
    "from sklearn.svm import SVC\n",
    "from sklearn.neighbors import KNeighborsClassifier\n",
    "\n",
    "Xtrain = pd.read_csv(\"TrainData.csv\")\n",
    "Xtest = pd.read_csv(\"TestData.csv\")"
   ]
  },
  {
   "cell_type": "markdown",
   "metadata": {
    "id": "CaELM2gPtWcq"
   },
   "source": [
    "### 2. Изучите тренировочные и тестовые данные на наличие:\n",
    "- пропусков,\n",
    "- ошибочных значений.\n",
    "\n",
    "Обработайте пропуски и ошибочные значения способом, выбранным по своему усмотрению."
   ]
  },
  {
   "cell_type": "code",
   "execution_count": 2,
   "metadata": {
    "id": "sqevAjp-tWcr"
   },
   "outputs": [
    {
     "data": {
      "application/vnd.microsoft.datawrangler.viewer.v0+json": {
       "columns": [
        {
         "name": "index",
         "rawType": "object",
         "type": "string"
        },
        {
         "name": "f1",
         "rawType": "float64",
         "type": "float"
        },
        {
         "name": "f2",
         "rawType": "float64",
         "type": "float"
        },
        {
         "name": "f3",
         "rawType": "float64",
         "type": "float"
        },
        {
         "name": "f4",
         "rawType": "float64",
         "type": "float"
        },
        {
         "name": "f5",
         "rawType": "float64",
         "type": "float"
        },
        {
         "name": "f6",
         "rawType": "float64",
         "type": "float"
        },
        {
         "name": "f7",
         "rawType": "float64",
         "type": "float"
        },
        {
         "name": "f8",
         "rawType": "float64",
         "type": "float"
        },
        {
         "name": "f9",
         "rawType": "float64",
         "type": "float"
        },
        {
         "name": "f10",
         "rawType": "float64",
         "type": "float"
        },
        {
         "name": "f11",
         "rawType": "float64",
         "type": "float"
        },
        {
         "name": "f12",
         "rawType": "float64",
         "type": "float"
        },
        {
         "name": "f13",
         "rawType": "float64",
         "type": "float"
        },
        {
         "name": "f14",
         "rawType": "float64",
         "type": "float"
        },
        {
         "name": "target",
         "rawType": "float64",
         "type": "float"
        }
       ],
       "conversionMethod": "pd.DataFrame",
       "ref": "c48d7119-714e-48d6-929a-c97723b161a4",
       "rows": [
        [
         "count",
         "7500.0",
         "7425.0",
         "7500.0",
         "7500.0",
         "7500.0",
         "7500.0",
         "5625.0",
         "7500.0",
         "7500.0",
         "7500.0",
         "7490.0",
         "7500.0",
         "7500.0",
         "7500.0",
         "7500.0"
        ],
        [
         "mean",
         "38.5796",
         "238.90530767637296",
         "190384.9868",
         "0.23893337264410308",
         "10.0832",
         "0.2389338001754052",
         "0.24055573627737156",
         "0.23893333333333333",
         "23.893333333333317",
         "0.2389333333333333",
         "1068.693991989319",
         "88.97493333333334",
         "40.6708",
         "0.23895498702926674",
         "0.23893333333333333"
        ],
        [
         "std",
         "13.647718925553681",
         "76.1982818501171",
         "105867.44252364665",
         "0.15173817537947576",
         "2.5460705849190015",
         "0.19028288901840448",
         "0.1473710760980109",
         "0.19336545220020082",
         "4.451530117433264",
         "0.0877077571809963",
         "7430.344770431693",
         "404.51703174962313",
         "12.330051285996152",
         "0.041684800515123056",
         "0.42646036707003976"
        ],
        [
         "min",
         "17.0",
         "64.2590702793375",
         "19302.0",
         "2.948307735566308e-05",
         "1.0",
         "0.0491270807957775",
         "0.0",
         "0.0094991364421416",
         "5.97014925373134",
         "0.1135902636916835",
         "0.0",
         "0.0",
         "1.0",
         "8.012632450609848e-05",
         "0.0"
        ],
        [
         "25%",
         "28.0",
         "218.5939300806761",
         "118019.0",
         "0.1718170580964153",
         "9.0",
         "0.0491270807957775",
         "0.1157205240174672",
         "0.0665813060179257",
         "25.606720597386428",
         "0.1135902636916835",
         "0.0",
         "0.0",
         "40.0",
         "0.2444179815421256",
         "0.0"
        ],
        [
         "50%",
         "37.0",
         "218.5939300806761",
         "179568.5",
         "0.179322429906542",
         "10.0",
         "0.0988372093023255",
         "0.2415730337078651",
         "0.1030240902101486",
         "25.606720597386428",
         "0.3002979145978153",
         "0.0",
         "0.0",
         "40.0",
         "0.2444179815421256",
         "0.0"
        ],
        [
         "75%",
         "47.0",
         "218.5939300806761",
         "239441.75",
         "0.2393162393162393",
         "12.0",
         "0.4450261780104712",
         "0.4391025641025641",
         "0.4443336656696577",
         "25.606720597386428",
         "0.3002979145978153",
         "0.0",
         "0.0",
         "45.0",
         "0.2444179815421256",
         "0.0"
        ],
        [
         "max",
         "90.0",
         "575.3968253968253",
         "1226583.0",
         "0.7293233082706767",
         "16.0",
         "0.4450261780104712",
         "0.4822222222222222",
         "0.484375",
         "25.606720597386428",
         "0.3002979145978153",
         "99999.0",
         "4356.0",
         "99.0",
         "0.4666664773000171",
         "1.0"
        ]
       ],
       "shape": {
        "columns": 15,
        "rows": 8
       }
      },
      "text/html": [
       "<div>\n",
       "<style scoped>\n",
       "    .dataframe tbody tr th:only-of-type {\n",
       "        vertical-align: middle;\n",
       "    }\n",
       "\n",
       "    .dataframe tbody tr th {\n",
       "        vertical-align: top;\n",
       "    }\n",
       "\n",
       "    .dataframe thead th {\n",
       "        text-align: right;\n",
       "    }\n",
       "</style>\n",
       "<table border=\"1\" class=\"dataframe\">\n",
       "  <thead>\n",
       "    <tr style=\"text-align: right;\">\n",
       "      <th></th>\n",
       "      <th>f1</th>\n",
       "      <th>f2</th>\n",
       "      <th>f3</th>\n",
       "      <th>f4</th>\n",
       "      <th>f5</th>\n",
       "      <th>f6</th>\n",
       "      <th>f7</th>\n",
       "      <th>f8</th>\n",
       "      <th>f9</th>\n",
       "      <th>f10</th>\n",
       "      <th>f11</th>\n",
       "      <th>f12</th>\n",
       "      <th>f13</th>\n",
       "      <th>f14</th>\n",
       "      <th>target</th>\n",
       "    </tr>\n",
       "  </thead>\n",
       "  <tbody>\n",
       "    <tr>\n",
       "      <th>count</th>\n",
       "      <td>7500.000000</td>\n",
       "      <td>7425.000000</td>\n",
       "      <td>7.500000e+03</td>\n",
       "      <td>7500.000000</td>\n",
       "      <td>7500.000000</td>\n",
       "      <td>7500.000000</td>\n",
       "      <td>5625.000000</td>\n",
       "      <td>7500.000000</td>\n",
       "      <td>7500.000000</td>\n",
       "      <td>7500.000000</td>\n",
       "      <td>7490.000000</td>\n",
       "      <td>7500.000000</td>\n",
       "      <td>7500.000000</td>\n",
       "      <td>7500.000000</td>\n",
       "      <td>7500.000000</td>\n",
       "    </tr>\n",
       "    <tr>\n",
       "      <th>mean</th>\n",
       "      <td>38.579600</td>\n",
       "      <td>238.905308</td>\n",
       "      <td>1.903850e+05</td>\n",
       "      <td>0.238933</td>\n",
       "      <td>10.083200</td>\n",
       "      <td>0.238934</td>\n",
       "      <td>0.240556</td>\n",
       "      <td>0.238933</td>\n",
       "      <td>23.893333</td>\n",
       "      <td>0.238933</td>\n",
       "      <td>1068.693992</td>\n",
       "      <td>88.974933</td>\n",
       "      <td>40.670800</td>\n",
       "      <td>0.238955</td>\n",
       "      <td>0.238933</td>\n",
       "    </tr>\n",
       "    <tr>\n",
       "      <th>std</th>\n",
       "      <td>13.647719</td>\n",
       "      <td>76.198282</td>\n",
       "      <td>1.058674e+05</td>\n",
       "      <td>0.151738</td>\n",
       "      <td>2.546071</td>\n",
       "      <td>0.190283</td>\n",
       "      <td>0.147371</td>\n",
       "      <td>0.193365</td>\n",
       "      <td>4.451530</td>\n",
       "      <td>0.087708</td>\n",
       "      <td>7430.344770</td>\n",
       "      <td>404.517032</td>\n",
       "      <td>12.330051</td>\n",
       "      <td>0.041685</td>\n",
       "      <td>0.426460</td>\n",
       "    </tr>\n",
       "    <tr>\n",
       "      <th>min</th>\n",
       "      <td>17.000000</td>\n",
       "      <td>64.259070</td>\n",
       "      <td>1.930200e+04</td>\n",
       "      <td>0.000029</td>\n",
       "      <td>1.000000</td>\n",
       "      <td>0.049127</td>\n",
       "      <td>0.000000</td>\n",
       "      <td>0.009499</td>\n",
       "      <td>5.970149</td>\n",
       "      <td>0.113590</td>\n",
       "      <td>0.000000</td>\n",
       "      <td>0.000000</td>\n",
       "      <td>1.000000</td>\n",
       "      <td>0.000080</td>\n",
       "      <td>0.000000</td>\n",
       "    </tr>\n",
       "    <tr>\n",
       "      <th>25%</th>\n",
       "      <td>28.000000</td>\n",
       "      <td>218.593930</td>\n",
       "      <td>1.180190e+05</td>\n",
       "      <td>0.171817</td>\n",
       "      <td>9.000000</td>\n",
       "      <td>0.049127</td>\n",
       "      <td>0.115721</td>\n",
       "      <td>0.066581</td>\n",
       "      <td>25.606721</td>\n",
       "      <td>0.113590</td>\n",
       "      <td>0.000000</td>\n",
       "      <td>0.000000</td>\n",
       "      <td>40.000000</td>\n",
       "      <td>0.244418</td>\n",
       "      <td>0.000000</td>\n",
       "    </tr>\n",
       "    <tr>\n",
       "      <th>50%</th>\n",
       "      <td>37.000000</td>\n",
       "      <td>218.593930</td>\n",
       "      <td>1.795685e+05</td>\n",
       "      <td>0.179322</td>\n",
       "      <td>10.000000</td>\n",
       "      <td>0.098837</td>\n",
       "      <td>0.241573</td>\n",
       "      <td>0.103024</td>\n",
       "      <td>25.606721</td>\n",
       "      <td>0.300298</td>\n",
       "      <td>0.000000</td>\n",
       "      <td>0.000000</td>\n",
       "      <td>40.000000</td>\n",
       "      <td>0.244418</td>\n",
       "      <td>0.000000</td>\n",
       "    </tr>\n",
       "    <tr>\n",
       "      <th>75%</th>\n",
       "      <td>47.000000</td>\n",
       "      <td>218.593930</td>\n",
       "      <td>2.394418e+05</td>\n",
       "      <td>0.239316</td>\n",
       "      <td>12.000000</td>\n",
       "      <td>0.445026</td>\n",
       "      <td>0.439103</td>\n",
       "      <td>0.444334</td>\n",
       "      <td>25.606721</td>\n",
       "      <td>0.300298</td>\n",
       "      <td>0.000000</td>\n",
       "      <td>0.000000</td>\n",
       "      <td>45.000000</td>\n",
       "      <td>0.244418</td>\n",
       "      <td>0.000000</td>\n",
       "    </tr>\n",
       "    <tr>\n",
       "      <th>max</th>\n",
       "      <td>90.000000</td>\n",
       "      <td>575.396825</td>\n",
       "      <td>1.226583e+06</td>\n",
       "      <td>0.729323</td>\n",
       "      <td>16.000000</td>\n",
       "      <td>0.445026</td>\n",
       "      <td>0.482222</td>\n",
       "      <td>0.484375</td>\n",
       "      <td>25.606721</td>\n",
       "      <td>0.300298</td>\n",
       "      <td>99999.000000</td>\n",
       "      <td>4356.000000</td>\n",
       "      <td>99.000000</td>\n",
       "      <td>0.466666</td>\n",
       "      <td>1.000000</td>\n",
       "    </tr>\n",
       "  </tbody>\n",
       "</table>\n",
       "</div>"
      ],
      "text/plain": [
       "                f1           f2            f3           f4           f5  \\\n",
       "count  7500.000000  7425.000000  7.500000e+03  7500.000000  7500.000000   \n",
       "mean     38.579600   238.905308  1.903850e+05     0.238933    10.083200   \n",
       "std      13.647719    76.198282  1.058674e+05     0.151738     2.546071   \n",
       "min      17.000000    64.259070  1.930200e+04     0.000029     1.000000   \n",
       "25%      28.000000   218.593930  1.180190e+05     0.171817     9.000000   \n",
       "50%      37.000000   218.593930  1.795685e+05     0.179322    10.000000   \n",
       "75%      47.000000   218.593930  2.394418e+05     0.239316    12.000000   \n",
       "max      90.000000   575.396825  1.226583e+06     0.729323    16.000000   \n",
       "\n",
       "                f6           f7           f8           f9          f10  \\\n",
       "count  7500.000000  5625.000000  7500.000000  7500.000000  7500.000000   \n",
       "mean      0.238934     0.240556     0.238933    23.893333     0.238933   \n",
       "std       0.190283     0.147371     0.193365     4.451530     0.087708   \n",
       "min       0.049127     0.000000     0.009499     5.970149     0.113590   \n",
       "25%       0.049127     0.115721     0.066581    25.606721     0.113590   \n",
       "50%       0.098837     0.241573     0.103024    25.606721     0.300298   \n",
       "75%       0.445026     0.439103     0.444334    25.606721     0.300298   \n",
       "max       0.445026     0.482222     0.484375    25.606721     0.300298   \n",
       "\n",
       "                f11          f12          f13          f14       target  \n",
       "count   7490.000000  7500.000000  7500.000000  7500.000000  7500.000000  \n",
       "mean    1068.693992    88.974933    40.670800     0.238955     0.238933  \n",
       "std     7430.344770   404.517032    12.330051     0.041685     0.426460  \n",
       "min        0.000000     0.000000     1.000000     0.000080     0.000000  \n",
       "25%        0.000000     0.000000    40.000000     0.244418     0.000000  \n",
       "50%        0.000000     0.000000    40.000000     0.244418     0.000000  \n",
       "75%        0.000000     0.000000    45.000000     0.244418     0.000000  \n",
       "max    99999.000000  4356.000000    99.000000     0.466666     1.000000  "
      ]
     },
     "execution_count": 2,
     "metadata": {},
     "output_type": "execute_result"
    }
   ],
   "source": [
    "Xtrain.describe()"
   ]
  },
  {
   "cell_type": "code",
   "execution_count": 3,
   "metadata": {},
   "outputs": [
    {
     "name": "stdout",
     "output_type": "stream",
     "text": [
      "<class 'pandas.core.frame.DataFrame'>\n",
      "RangeIndex: 7500 entries, 0 to 7499\n",
      "Data columns (total 15 columns):\n",
      " #   Column  Non-Null Count  Dtype  \n",
      "---  ------  --------------  -----  \n",
      " 0   f1      7500 non-null   int64  \n",
      " 1   f2      7425 non-null   float64\n",
      " 2   f3      7500 non-null   int64  \n",
      " 3   f4      7500 non-null   float64\n",
      " 4   f5      7500 non-null   int64  \n",
      " 5   f6      7500 non-null   float64\n",
      " 6   f7      5625 non-null   float64\n",
      " 7   f8      7500 non-null   float64\n",
      " 8   f9      7500 non-null   float64\n",
      " 9   f10     7500 non-null   float64\n",
      " 10  f11     7490 non-null   float64\n",
      " 11  f12     7500 non-null   int64  \n",
      " 12  f13     7500 non-null   int64  \n",
      " 13  f14     7500 non-null   float64\n",
      " 14  target  7500 non-null   int64  \n",
      "dtypes: float64(9), int64(6)\n",
      "memory usage: 879.0 KB\n"
     ]
    }
   ],
   "source": [
    "Xtrain.info()"
   ]
  },
  {
   "cell_type": "code",
   "execution_count": 4,
   "metadata": {},
   "outputs": [],
   "source": [
    "# Заполнение пропусков\n",
    "Xtrain['f2'] = Xtrain['f2'].fillna(Xtrain['f2'].median())\n",
    "Xtrain['f7'] = Xtrain['f7'].fillna(Xtrain['f7'].mean())\n",
    "Xtrain['f11'] = Xtrain['f11'].fillna(Xtrain['f11'].median())"
   ]
  },
  {
   "cell_type": "code",
   "execution_count": 5,
   "metadata": {},
   "outputs": [
    {
     "data": {
      "image/png": "[encoded data removed]",
      "text/plain": [
       "<Figure size 900x1200 with 15 Axes>"
      ]
     },
     "metadata": {},
     "output_type": "display_data"
    }
   ],
   "source": [
    "fig, ax = plt.subplots(5, 3)\n",
    "fig.set_figheight(12)\n",
    "fig.set_figwidth(9)\n",
    "\n",
    "for i, col in enumerate(Xtrain.drop('target', axis=1)):\n",
    "    Xtrain.boxplot(col, ax=ax[i // 3, i % 3])\n",
    "\n",
    "# plt.show()"
   ]
  },
  {
   "cell_type": "code",
   "execution_count": 6,
   "metadata": {},
   "outputs": [
    {
     "name": "stderr",
     "output_type": "stream",
     "text": [
      "C:\\Users\\Jrytoeku Qtuhtc\\AppData\\Local\\Temp\\ipykernel_10900\\4149247309.py:7: FutureWarning: Setting an item of incompatible dtype is deprecated and will raise an error in a future version of pandas. Value '421575.875' has dtype incompatible with int64, please explicitly cast to a compatible dtype first.\n",
      "  x[x > rb] = rb\n",
      "C:\\Users\\Jrytoeku Qtuhtc\\AppData\\Local\\Temp\\ipykernel_10900\\4149247309.py:6: FutureWarning: Setting an item of incompatible dtype is deprecated and will raise an error in a future version of pandas. Value '32.5' has dtype incompatible with int64, please explicitly cast to a compatible dtype first.\n",
      "  x[x < lb] = lb\n"
     ]
    }
   ],
   "source": [
    "# f3, f11, f12, f13, f14\n",
    "def replace_outliers(column):\n",
    "    x = column.copy()\n",
    "    q1, q3 = x.quantile(0.25), x.quantile(0.75)\n",
    "    lb, rb = max(x.min(), q1 - 1.5*(q3 - q1)), min(x.max(), q3 + 1.5*(q3 - q1))\n",
    "    x[x < lb] = lb\n",
    "    x[x > rb] = rb\n",
    "    return x\n",
    "\n",
    "for col in ['f3', 'f11', 'f12', 'f13', 'f14']:\n",
    "    Xtrain[col] = replace_outliers(Xtrain[col])\n"
   ]
  },
  {
   "cell_type": "code",
   "execution_count": 7,
   "metadata": {},
   "outputs": [
    {
     "data": {
      "application/vnd.microsoft.datawrangler.viewer.v0+json": {
       "columns": [
        {
         "name": "index",
         "rawType": "object",
         "type": "string"
        },
        {
         "name": "f1",
         "rawType": "float64",
         "type": "float"
        },
        {
         "name": "f2",
         "rawType": "float64",
         "type": "float"
        },
        {
         "name": "f3",
         "rawType": "float64",
         "type": "float"
        },
        {
         "name": "f4",
         "rawType": "float64",
         "type": "float"
        },
        {
         "name": "f5",
         "rawType": "float64",
         "type": "float"
        },
        {
         "name": "f6",
         "rawType": "float64",
         "type": "float"
        },
        {
         "name": "f7",
         "rawType": "float64",
         "type": "float"
        },
        {
         "name": "f8",
         "rawType": "float64",
         "type": "float"
        },
        {
         "name": "f9",
         "rawType": "float64",
         "type": "float"
        },
        {
         "name": "f10",
         "rawType": "float64",
         "type": "float"
        },
        {
         "name": "f11",
         "rawType": "float64",
         "type": "float"
        },
        {
         "name": "f12",
         "rawType": "float64",
         "type": "float"
        },
        {
         "name": "f13",
         "rawType": "float64",
         "type": "float"
        },
        {
         "name": "f14",
         "rawType": "float64",
         "type": "float"
        },
        {
         "name": "target",
         "rawType": "float64",
         "type": "float"
        }
       ],
       "conversionMethod": "pd.DataFrame",
       "ref": "c3acb764-3650-4471-8b32-a331652702bd",
       "rows": [
        [
         "count",
         "7500.0",
         "7500.0",
         "7500.0",
         "7500.0",
         "7500.0",
         "7500.0",
         "7500.0",
         "7500.0",
         "7500.0",
         "7500.0",
         "7500.0",
         "7500.0",
         "7500.0",
         "7500.0",
         "7500.0"
        ],
        [
         "mean",
         "38.5796",
         "238.70219390041598",
         "187530.31718333333",
         "0.23893337264410308",
         "10.0832",
         "0.2389338001754052",
         "0.2405557362773716",
         "0.23893333333333333",
         "23.893333333333317",
         "0.2389333333333333",
         "0.0",
         "0.0",
         "41.361333333333334",
         "0.24441798154212566",
         "0.23893333333333333"
        ],
        [
         "std",
         "13.647718925553681",
         "75.84321619480062",
         "95747.38646931044",
         "0.15173817537947576",
         "2.5460705849190015",
         "0.19028288901840448",
         "0.1276242591165185",
         "0.19336545220020082",
         "4.451530117433264",
         "0.0877077571809963",
         "0.0",
         "0.0",
         "6.232250825258513",
         "5.551485234478871e-17",
         "0.42646036707003976"
        ],
        [
         "min",
         "17.0",
         "64.2590702793375",
         "19302.0",
         "2.948307735566308e-05",
         "1.0",
         "0.0491270807957775",
         "0.0",
         "0.0094991364421416",
         "5.97014925373134",
         "0.1135902636916835",
         "0.0",
         "0.0",
         "32.5",
         "0.2444179815421256",
         "0.0"
        ],
        [
         "25%",
         "28.0",
         "218.5939300806761",
         "118019.0",
         "0.1718170580964153",
         "9.0",
         "0.0491270807957775",
         "0.131370328425821",
         "0.0665813060179257",
         "25.606720597386428",
         "0.1135902636916835",
         "0.0",
         "0.0",
         "40.0",
         "0.2444179815421256",
         "0.0"
        ],
        [
         "50%",
         "37.0",
         "218.5939300806761",
         "179568.5",
         "0.179322429906542",
         "10.0",
         "0.0988372093023255",
         "0.24055573627737156",
         "0.1030240902101486",
         "25.606720597386428",
         "0.3002979145978153",
         "0.0",
         "0.0",
         "40.0",
         "0.2444179815421256",
         "0.0"
        ],
        [
         "75%",
         "47.0",
         "218.5939300806761",
         "239441.75",
         "0.2393162393162393",
         "12.0",
         "0.4450261780104712",
         "0.2745314222712238",
         "0.4443336656696577",
         "25.606720597386428",
         "0.3002979145978153",
         "0.0",
         "0.0",
         "45.0",
         "0.2444179815421256",
         "0.0"
        ],
        [
         "max",
         "90.0",
         "575.3968253968253",
         "421575.875",
         "0.7293233082706767",
         "16.0",
         "0.4450261780104712",
         "0.4822222222222222",
         "0.484375",
         "25.606720597386428",
         "0.3002979145978153",
         "0.0",
         "0.0",
         "52.5",
         "0.2444179815421256",
         "1.0"
        ]
       ],
       "shape": {
        "columns": 15,
        "rows": 8
       }
      },
      "text/html": [
       "<div>\n",
       "<style scoped>\n",
       "    .dataframe tbody tr th:only-of-type {\n",
       "        vertical-align: middle;\n",
       "    }\n",
       "\n",
       "    .dataframe tbody tr th {\n",
       "        vertical-align: top;\n",
       "    }\n",
       "\n",
       "    .dataframe thead th {\n",
       "        text-align: right;\n",
       "    }\n",
       "</style>\n",
       "<table border=\"1\" class=\"dataframe\">\n",
       "  <thead>\n",
       "    <tr style=\"text-align: right;\">\n",
       "      <th></th>\n",
       "      <th>f1</th>\n",
       "      <th>f2</th>\n",
       "      <th>f3</th>\n",
       "      <th>f4</th>\n",
       "      <th>f5</th>\n",
       "      <th>f6</th>\n",
       "      <th>f7</th>\n",
       "      <th>f8</th>\n",
       "      <th>f9</th>\n",
       "      <th>f10</th>\n",
       "      <th>f11</th>\n",
       "      <th>f12</th>\n",
       "      <th>f13</th>\n",
       "      <th>f14</th>\n",
       "      <th>target</th>\n",
       "    </tr>\n",
       "  </thead>\n",
       "  <tbody>\n",
       "    <tr>\n",
       "      <th>count</th>\n",
       "      <td>7500.000000</td>\n",
       "      <td>7500.000000</td>\n",
       "      <td>7500.000000</td>\n",
       "      <td>7500.000000</td>\n",
       "      <td>7500.000000</td>\n",
       "      <td>7500.000000</td>\n",
       "      <td>7500.000000</td>\n",
       "      <td>7500.000000</td>\n",
       "      <td>7500.000000</td>\n",
       "      <td>7500.000000</td>\n",
       "      <td>7500.0</td>\n",
       "      <td>7500.0</td>\n",
       "      <td>7500.000000</td>\n",
       "      <td>7.500000e+03</td>\n",
       "      <td>7500.000000</td>\n",
       "    </tr>\n",
       "    <tr>\n",
       "      <th>mean</th>\n",
       "      <td>38.579600</td>\n",
       "      <td>238.702194</td>\n",
       "      <td>187530.317183</td>\n",
       "      <td>0.238933</td>\n",
       "      <td>10.083200</td>\n",
       "      <td>0.238934</td>\n",
       "      <td>0.240556</td>\n",
       "      <td>0.238933</td>\n",
       "      <td>23.893333</td>\n",
       "      <td>0.238933</td>\n",
       "      <td>0.0</td>\n",
       "      <td>0.0</td>\n",
       "      <td>41.361333</td>\n",
       "      <td>2.444180e-01</td>\n",
       "      <td>0.238933</td>\n",
       "    </tr>\n",
       "    <tr>\n",
       "      <th>std</th>\n",
       "      <td>13.647719</td>\n",
       "      <td>75.843216</td>\n",
       "      <td>95747.386469</td>\n",
       "      <td>0.151738</td>\n",
       "      <td>2.546071</td>\n",
       "      <td>0.190283</td>\n",
       "      <td>0.127624</td>\n",
       "      <td>0.193365</td>\n",
       "      <td>4.451530</td>\n",
       "      <td>0.087708</td>\n",
       "      <td>0.0</td>\n",
       "      <td>0.0</td>\n",
       "      <td>6.232251</td>\n",
       "      <td>5.551485e-17</td>\n",
       "      <td>0.426460</td>\n",
       "    </tr>\n",
       "    <tr>\n",
       "      <th>min</th>\n",
       "      <td>17.000000</td>\n",
       "      <td>64.259070</td>\n",
       "      <td>19302.000000</td>\n",
       "      <td>0.000029</td>\n",
       "      <td>1.000000</td>\n",
       "      <td>0.049127</td>\n",
       "      <td>0.000000</td>\n",
       "      <td>0.009499</td>\n",
       "      <td>5.970149</td>\n",
       "      <td>0.113590</td>\n",
       "      <td>0.0</td>\n",
       "      <td>0.0</td>\n",
       "      <td>32.500000</td>\n",
       "      <td>2.444180e-01</td>\n",
       "      <td>0.000000</td>\n",
       "    </tr>\n",
       "    <tr>\n",
       "      <th>25%</th>\n",
       "      <td>28.000000</td>\n",
       "      <td>218.593930</td>\n",
       "      <td>118019.000000</td>\n",
       "      <td>0.171817</td>\n",
       "      <td>9.000000</td>\n",
       "      <td>0.049127</td>\n",
       "      <td>0.131370</td>\n",
       "      <td>0.066581</td>\n",
       "      <td>25.606721</td>\n",
       "      <td>0.113590</td>\n",
       "      <td>0.0</td>\n",
       "      <td>0.0</td>\n",
       "      <td>40.000000</td>\n",
       "      <td>2.444180e-01</td>\n",
       "      <td>0.000000</td>\n",
       "    </tr>\n",
       "    <tr>\n",
       "      <th>50%</th>\n",
       "      <td>37.000000</td>\n",
       "      <td>218.593930</td>\n",
       "      <td>179568.500000</td>\n",
       "      <td>0.179322</td>\n",
       "      <td>10.000000</td>\n",
       "      <td>0.098837</td>\n",
       "      <td>0.240556</td>\n",
       "      <td>0.103024</td>\n",
       "      <td>25.606721</td>\n",
       "      <td>0.300298</td>\n",
       "      <td>0.0</td>\n",
       "      <td>0.0</td>\n",
       "      <td>40.000000</td>\n",
       "      <td>2.444180e-01</td>\n",
       "      <td>0.000000</td>\n",
       "    </tr>\n",
       "    <tr>\n",
       "      <th>75%</th>\n",
       "      <td>47.000000</td>\n",
       "      <td>218.593930</td>\n",
       "      <td>239441.750000</td>\n",
       "      <td>0.239316</td>\n",
       "      <td>12.000000</td>\n",
       "      <td>0.445026</td>\n",
       "      <td>0.274531</td>\n",
       "      <td>0.444334</td>\n",
       "      <td>25.606721</td>\n",
       "      <td>0.300298</td>\n",
       "      <td>0.0</td>\n",
       "      <td>0.0</td>\n",
       "      <td>45.000000</td>\n",
       "      <td>2.444180e-01</td>\n",
       "      <td>0.000000</td>\n",
       "    </tr>\n",
       "    <tr>\n",
       "      <th>max</th>\n",
       "      <td>90.000000</td>\n",
       "      <td>575.396825</td>\n",
       "      <td>421575.875000</td>\n",
       "      <td>0.729323</td>\n",
       "      <td>16.000000</td>\n",
       "      <td>0.445026</td>\n",
       "      <td>0.482222</td>\n",
       "      <td>0.484375</td>\n",
       "      <td>25.606721</td>\n",
       "      <td>0.300298</td>\n",
       "      <td>0.0</td>\n",
       "      <td>0.0</td>\n",
       "      <td>52.500000</td>\n",
       "      <td>2.444180e-01</td>\n",
       "      <td>1.000000</td>\n",
       "    </tr>\n",
       "  </tbody>\n",
       "</table>\n",
       "</div>"
      ],
      "text/plain": [
       "                f1           f2             f3           f4           f5  \\\n",
       "count  7500.000000  7500.000000    7500.000000  7500.000000  7500.000000   \n",
       "mean     38.579600   238.702194  187530.317183     0.238933    10.083200   \n",
       "std      13.647719    75.843216   95747.386469     0.151738     2.546071   \n",
       "min      17.000000    64.259070   19302.000000     0.000029     1.000000   \n",
       "25%      28.000000   218.593930  118019.000000     0.171817     9.000000   \n",
       "50%      37.000000   218.593930  179568.500000     0.179322    10.000000   \n",
       "75%      47.000000   218.593930  239441.750000     0.239316    12.000000   \n",
       "max      90.000000   575.396825  421575.875000     0.729323    16.000000   \n",
       "\n",
       "                f6           f7           f8           f9          f10  \\\n",
       "count  7500.000000  7500.000000  7500.000000  7500.000000  7500.000000   \n",
       "mean      0.238934     0.240556     0.238933    23.893333     0.238933   \n",
       "std       0.190283     0.127624     0.193365     4.451530     0.087708   \n",
       "min       0.049127     0.000000     0.009499     5.970149     0.113590   \n",
       "25%       0.049127     0.131370     0.066581    25.606721     0.113590   \n",
       "50%       0.098837     0.240556     0.103024    25.606721     0.300298   \n",
       "75%       0.445026     0.274531     0.444334    25.606721     0.300298   \n",
       "max       0.445026     0.482222     0.484375    25.606721     0.300298   \n",
       "\n",
       "          f11     f12          f13           f14       target  \n",
       "count  7500.0  7500.0  7500.000000  7.500000e+03  7500.000000  \n",
       "mean      0.0     0.0    41.361333  2.444180e-01     0.238933  \n",
       "std       0.0     0.0     6.232251  5.551485e-17     0.426460  \n",
       "min       0.0     0.0    32.500000  2.444180e-01     0.000000  \n",
       "25%       0.0     0.0    40.000000  2.444180e-01     0.000000  \n",
       "50%       0.0     0.0    40.000000  2.444180e-01     0.000000  \n",
       "75%       0.0     0.0    45.000000  2.444180e-01     0.000000  \n",
       "max       0.0     0.0    52.500000  2.444180e-01     1.000000  "
      ]
     },
     "execution_count": 7,
     "metadata": {},
     "output_type": "execute_result"
    }
   ],
   "source": [
    "Xtrain.describe()"
   ]
  },
  {
   "cell_type": "code",
   "execution_count": 8,
   "metadata": {},
   "outputs": [],
   "source": [
    "Xtrain = Xtrain.drop(['f11', 'f12'], axis=1)"
   ]
  },
  {
   "cell_type": "code",
   "execution_count": 9,
   "metadata": {},
   "outputs": [
    {
     "data": {
      "application/vnd.microsoft.datawrangler.viewer.v0+json": {
       "columns": [
        {
         "name": "index",
         "rawType": "object",
         "type": "string"
        },
        {
         "name": "f1",
         "rawType": "float64",
         "type": "float"
        },
        {
         "name": "f2",
         "rawType": "float64",
         "type": "float"
        },
        {
         "name": "f3",
         "rawType": "float64",
         "type": "float"
        },
        {
         "name": "f4",
         "rawType": "float64",
         "type": "float"
        },
        {
         "name": "f5",
         "rawType": "float64",
         "type": "float"
        },
        {
         "name": "f6",
         "rawType": "float64",
         "type": "float"
        },
        {
         "name": "f7",
         "rawType": "float64",
         "type": "float"
        },
        {
         "name": "f8",
         "rawType": "float64",
         "type": "float"
        },
        {
         "name": "f9",
         "rawType": "float64",
         "type": "float"
        },
        {
         "name": "f10",
         "rawType": "float64",
         "type": "float"
        },
        {
         "name": "f13",
         "rawType": "float64",
         "type": "float"
        },
        {
         "name": "f14",
         "rawType": "float64",
         "type": "float"
        },
        {
         "name": "target",
         "rawType": "float64",
         "type": "float"
        }
       ],
       "conversionMethod": "pd.DataFrame",
       "ref": "b01682db-381c-4601-9a7b-eefc7fbaa0fd",
       "rows": [
        [
         "count",
         "2500.0",
         "2500.0",
         "2500.0",
         "2500.0",
         "2500.0",
         "2500.0",
         "2500.0",
         "2500.0",
         "2500.0",
         "2500.0",
         "2500.0",
         "2500.0",
         "2500.0"
        ],
        [
         "mean",
         "38.0692",
         "238.9333333333334",
         "191561.4252",
         "0.23893333333333325",
         "10.0568",
         "0.23893333333333325",
         "0.23893333333333325",
         "0.23893333333333325",
         "23.893333333333327",
         "0.23893333333333325",
         "40.1088",
         "0.23893333333333325",
         "0.2348"
        ],
        [
         "std",
         "13.442168281763404",
         "8.528218643448386e-14",
         "107542.50848283166",
         "5.552225679328376e-17",
         "2.5548746963179143",
         "5.552225679328376e-17",
         "5.552225679328376e-17",
         "5.552225679328376e-17",
         "3.553424434770161e-15",
         "5.552225679328376e-17",
         "12.10991422632826",
         "5.552225679328376e-17",
         "0.42395855498213153"
        ],
        [
         "min",
         "17.0",
         "238.9333333333333",
         "19302.0",
         "0.2389333333333333",
         "1.0",
         "0.2389333333333333",
         "0.2389333333333333",
         "0.2389333333333333",
         "23.89333333333333",
         "0.2389333333333333",
         "3.0",
         "0.2389333333333333",
         "0.0"
        ],
        [
         "25%",
         "27.0",
         "238.9333333333333",
         "119098.75",
         "0.2389333333333333",
         "9.0",
         "0.2389333333333333",
         "0.2389333333333333",
         "0.2389333333333333",
         "23.89333333333333",
         "0.2389333333333333",
         "38.75",
         "0.2389333333333333",
         "0.0"
        ],
        [
         "50%",
         "37.0",
         "238.9333333333333",
         "177510.5",
         "0.2389333333333333",
         "10.0",
         "0.2389333333333333",
         "0.2389333333333333",
         "0.2389333333333333",
         "23.89333333333333",
         "0.2389333333333333",
         "40.0",
         "0.2389333333333333",
         "0.0"
        ],
        [
         "75%",
         "47.0",
         "238.9333333333333",
         "238851.25",
         "0.2389333333333333",
         "12.0",
         "0.2389333333333333",
         "0.2389333333333333",
         "0.2389333333333333",
         "23.89333333333333",
         "0.2389333333333333",
         "45.0",
         "0.2389333333333333",
         "0.0"
        ],
        [
         "max",
         "90.0",
         "238.9333333333333",
         "910398.0",
         "0.2389333333333333",
         "16.0",
         "0.2389333333333333",
         "0.2389333333333333",
         "0.2389333333333333",
         "23.89333333333333",
         "0.2389333333333333",
         "99.0",
         "0.2389333333333333",
         "1.0"
        ]
       ],
       "shape": {
        "columns": 13,
        "rows": 8
       }
      },
      "text/html": [
       "<div>\n",
       "<style scoped>\n",
       "    .dataframe tbody tr th:only-of-type {\n",
       "        vertical-align: middle;\n",
       "    }\n",
       "\n",
       "    .dataframe tbody tr th {\n",
       "        vertical-align: top;\n",
       "    }\n",
       "\n",
       "    .dataframe thead th {\n",
       "        text-align: right;\n",
       "    }\n",
       "</style>\n",
       "<table border=\"1\" class=\"dataframe\">\n",
       "  <thead>\n",
       "    <tr style=\"text-align: right;\">\n",
       "      <th></th>\n",
       "      <th>f1</th>\n",
       "      <th>f2</th>\n",
       "      <th>f3</th>\n",
       "      <th>f4</th>\n",
       "      <th>f5</th>\n",
       "      <th>f6</th>\n",
       "      <th>f7</th>\n",
       "      <th>f8</th>\n",
       "      <th>f9</th>\n",
       "      <th>f10</th>\n",
       "      <th>f13</th>\n",
       "      <th>f14</th>\n",
       "      <th>target</th>\n",
       "    </tr>\n",
       "  </thead>\n",
       "  <tbody>\n",
       "    <tr>\n",
       "      <th>count</th>\n",
       "      <td>2500.000000</td>\n",
       "      <td>2.500000e+03</td>\n",
       "      <td>2500.000000</td>\n",
       "      <td>2.500000e+03</td>\n",
       "      <td>2500.000000</td>\n",
       "      <td>2.500000e+03</td>\n",
       "      <td>2.500000e+03</td>\n",
       "      <td>2.500000e+03</td>\n",
       "      <td>2.500000e+03</td>\n",
       "      <td>2.500000e+03</td>\n",
       "      <td>2500.000000</td>\n",
       "      <td>2.500000e+03</td>\n",
       "      <td>2500.000000</td>\n",
       "    </tr>\n",
       "    <tr>\n",
       "      <th>mean</th>\n",
       "      <td>38.069200</td>\n",
       "      <td>2.389333e+02</td>\n",
       "      <td>191561.425200</td>\n",
       "      <td>2.389333e-01</td>\n",
       "      <td>10.056800</td>\n",
       "      <td>2.389333e-01</td>\n",
       "      <td>2.389333e-01</td>\n",
       "      <td>2.389333e-01</td>\n",
       "      <td>2.389333e+01</td>\n",
       "      <td>2.389333e-01</td>\n",
       "      <td>40.108800</td>\n",
       "      <td>2.389333e-01</td>\n",
       "      <td>0.234800</td>\n",
       "    </tr>\n",
       "    <tr>\n",
       "      <th>std</th>\n",
       "      <td>13.442168</td>\n",
       "      <td>8.528219e-14</td>\n",
       "      <td>107542.508483</td>\n",
       "      <td>5.552226e-17</td>\n",
       "      <td>2.554875</td>\n",
       "      <td>5.552226e-17</td>\n",
       "      <td>5.552226e-17</td>\n",
       "      <td>5.552226e-17</td>\n",
       "      <td>3.553424e-15</td>\n",
       "      <td>5.552226e-17</td>\n",
       "      <td>12.109914</td>\n",
       "      <td>5.552226e-17</td>\n",
       "      <td>0.423959</td>\n",
       "    </tr>\n",
       "    <tr>\n",
       "      <th>min</th>\n",
       "      <td>17.000000</td>\n",
       "      <td>2.389333e+02</td>\n",
       "      <td>19302.000000</td>\n",
       "      <td>2.389333e-01</td>\n",
       "      <td>1.000000</td>\n",
       "      <td>2.389333e-01</td>\n",
       "      <td>2.389333e-01</td>\n",
       "      <td>2.389333e-01</td>\n",
       "      <td>2.389333e+01</td>\n",
       "      <td>2.389333e-01</td>\n",
       "      <td>3.000000</td>\n",
       "      <td>2.389333e-01</td>\n",
       "      <td>0.000000</td>\n",
       "    </tr>\n",
       "    <tr>\n",
       "      <th>25%</th>\n",
       "      <td>27.000000</td>\n",
       "      <td>2.389333e+02</td>\n",
       "      <td>119098.750000</td>\n",
       "      <td>2.389333e-01</td>\n",
       "      <td>9.000000</td>\n",
       "      <td>2.389333e-01</td>\n",
       "      <td>2.389333e-01</td>\n",
       "      <td>2.389333e-01</td>\n",
       "      <td>2.389333e+01</td>\n",
       "      <td>2.389333e-01</td>\n",
       "      <td>38.750000</td>\n",
       "      <td>2.389333e-01</td>\n",
       "      <td>0.000000</td>\n",
       "    </tr>\n",
       "    <tr>\n",
       "      <th>50%</th>\n",
       "      <td>37.000000</td>\n",
       "      <td>2.389333e+02</td>\n",
       "      <td>177510.500000</td>\n",
       "      <td>2.389333e-01</td>\n",
       "      <td>10.000000</td>\n",
       "      <td>2.389333e-01</td>\n",
       "      <td>2.389333e-01</td>\n",
       "      <td>2.389333e-01</td>\n",
       "      <td>2.389333e+01</td>\n",
       "      <td>2.389333e-01</td>\n",
       "      <td>40.000000</td>\n",
       "      <td>2.389333e-01</td>\n",
       "      <td>0.000000</td>\n",
       "    </tr>\n",
       "    <tr>\n",
       "      <th>75%</th>\n",
       "      <td>47.000000</td>\n",
       "      <td>2.389333e+02</td>\n",
       "      <td>238851.250000</td>\n",
       "      <td>2.389333e-01</td>\n",
       "      <td>12.000000</td>\n",
       "      <td>2.389333e-01</td>\n",
       "      <td>2.389333e-01</td>\n",
       "      <td>2.389333e-01</td>\n",
       "      <td>2.389333e+01</td>\n",
       "      <td>2.389333e-01</td>\n",
       "      <td>45.000000</td>\n",
       "      <td>2.389333e-01</td>\n",
       "      <td>0.000000</td>\n",
       "    </tr>\n",
       "    <tr>\n",
       "      <th>max</th>\n",
       "      <td>90.000000</td>\n",
       "      <td>2.389333e+02</td>\n",
       "      <td>910398.000000</td>\n",
       "      <td>2.389333e-01</td>\n",
       "      <td>16.000000</td>\n",
       "      <td>2.389333e-01</td>\n",
       "      <td>2.389333e-01</td>\n",
       "      <td>2.389333e-01</td>\n",
       "      <td>2.389333e+01</td>\n",
       "      <td>2.389333e-01</td>\n",
       "      <td>99.000000</td>\n",
       "      <td>2.389333e-01</td>\n",
       "      <td>1.000000</td>\n",
       "    </tr>\n",
       "  </tbody>\n",
       "</table>\n",
       "</div>"
      ],
      "text/plain": [
       "                f1            f2             f3            f4           f5  \\\n",
       "count  2500.000000  2.500000e+03    2500.000000  2.500000e+03  2500.000000   \n",
       "mean     38.069200  2.389333e+02  191561.425200  2.389333e-01    10.056800   \n",
       "std      13.442168  8.528219e-14  107542.508483  5.552226e-17     2.554875   \n",
       "min      17.000000  2.389333e+02   19302.000000  2.389333e-01     1.000000   \n",
       "25%      27.000000  2.389333e+02  119098.750000  2.389333e-01     9.000000   \n",
       "50%      37.000000  2.389333e+02  177510.500000  2.389333e-01    10.000000   \n",
       "75%      47.000000  2.389333e+02  238851.250000  2.389333e-01    12.000000   \n",
       "max      90.000000  2.389333e+02  910398.000000  2.389333e-01    16.000000   \n",
       "\n",
       "                 f6            f7            f8            f9           f10  \\\n",
       "count  2.500000e+03  2.500000e+03  2.500000e+03  2.500000e+03  2.500000e+03   \n",
       "mean   2.389333e-01  2.389333e-01  2.389333e-01  2.389333e+01  2.389333e-01   \n",
       "std    5.552226e-17  5.552226e-17  5.552226e-17  3.553424e-15  5.552226e-17   \n",
       "min    2.389333e-01  2.389333e-01  2.389333e-01  2.389333e+01  2.389333e-01   \n",
       "25%    2.389333e-01  2.389333e-01  2.389333e-01  2.389333e+01  2.389333e-01   \n",
       "50%    2.389333e-01  2.389333e-01  2.389333e-01  2.389333e+01  2.389333e-01   \n",
       "75%    2.389333e-01  2.389333e-01  2.389333e-01  2.389333e+01  2.389333e-01   \n",
       "max    2.389333e-01  2.389333e-01  2.389333e-01  2.389333e+01  2.389333e-01   \n",
       "\n",
       "               f13           f14       target  \n",
       "count  2500.000000  2.500000e+03  2500.000000  \n",
       "mean     40.108800  2.389333e-01     0.234800  \n",
       "std      12.109914  5.552226e-17     0.423959  \n",
       "min       3.000000  2.389333e-01     0.000000  \n",
       "25%      38.750000  2.389333e-01     0.000000  \n",
       "50%      40.000000  2.389333e-01     0.000000  \n",
       "75%      45.000000  2.389333e-01     0.000000  \n",
       "max      99.000000  2.389333e-01     1.000000  "
      ]
     },
     "execution_count": 9,
     "metadata": {},
     "output_type": "execute_result"
    }
   ],
   "source": [
    "Xtest = Xtest.drop(['f11', 'f12'], axis=1)\n",
    "Xtest.describe()"
   ]
  },
  {
   "cell_type": "code",
   "execution_count": 10,
   "metadata": {},
   "outputs": [
    {
     "data": {
      "image/png": "[encoded data removed]",
      "text/plain": [
       "<Figure size 600x600 with 4 Axes>"
      ]
     },
     "metadata": {},
     "output_type": "display_data"
    }
   ],
   "source": [
    "Xtest = Xtest.drop(['f2', 'f4', 'f6', 'f7', 'f8', 'f9', 'f10', 'f14'], axis=1)\n",
    "Xtrain = Xtrain.drop(['f2', 'f4', 'f6', 'f7', 'f8', 'f9', 'f10', 'f14'], axis=1)\n",
    "\n",
    "fig, ax = plt.subplots(2, 2)\n",
    "fig.set_figheight(6)\n",
    "fig.set_figwidth(6)\n",
    "\n",
    "for i, col in enumerate(Xtest.drop('target', axis=1)):\n",
    "    Xtest.boxplot(col, ax=ax[i // 2, i % 2])"
   ]
  },
  {
   "cell_type": "code",
   "execution_count": 11,
   "metadata": {},
   "outputs": [
    {
     "name": "stderr",
     "output_type": "stream",
     "text": [
      "C:\\Users\\Jrytoeku Qtuhtc\\AppData\\Local\\Temp\\ipykernel_10900\\4149247309.py:6: FutureWarning: Setting an item of incompatible dtype is deprecated and will raise an error in a future version of pandas. Value '29.375' has dtype incompatible with int64, please explicitly cast to a compatible dtype first.\n",
      "  x[x < lb] = lb\n"
     ]
    }
   ],
   "source": [
    "for col in ['f3', 'f13']:\n",
    "    Xtest[col] = replace_outliers(Xtest[col])\n"
   ]
  },
  {
   "cell_type": "markdown",
   "metadata": {
    "id": "oQkpwQGHtWcr"
   },
   "source": [
    "### 3. Оцените баланс классов в задаче\n",
    "- Затем попытайтесь устно ответить на вопрос, можно ли использовать accuracy как метрику качества в задаче? "
   ]
  },
  {
   "cell_type": "code",
   "execution_count": 12,
   "metadata": {
    "id": "csjvNCCutWcs"
   },
   "outputs": [
    {
     "data": {
      "text/plain": [
       "target\n",
       "0    5708\n",
       "1    1792\n",
       "Name: count, dtype: int64"
      ]
     },
     "execution_count": 12,
     "metadata": {},
     "output_type": "execute_result"
    }
   ],
   "source": [
    "Xtrain['target'].value_counts()"
   ]
  },
  {
   "cell_type": "code",
   "execution_count": 13,
   "metadata": {},
   "outputs": [
    {
     "data": {
      "text/plain": [
       "target\n",
       "0    1913\n",
       "1     587\n",
       "Name: count, dtype: int64"
      ]
     },
     "execution_count": 13,
     "metadata": {},
     "output_type": "execute_result"
    }
   ],
   "source": [
    "Xtest['target'].value_counts()"
   ]
  },
  {
   "cell_type": "markdown",
   "metadata": {
    "id": "xB_ReQ62tWct"
   },
   "source": [
    "### 3. Постройте baseline-модель:\n",
    "- разбейте TrainData на тренировочные (Train) и тестовые данные (Test); \n",
    "- обучите KNN, LogisticRegression и SVC с параметрами по умолчанию на тренировочных данных (Train);\n",
    "- примените модели на тестовых данных (Test) и вычислите значение метрики f1."
   ]
  },
  {
   "cell_type": "code",
   "execution_count": 64,
   "metadata": {
    "id": "WUfRVj5ctWcu"
   },
   "outputs": [
    {
     "name": "stderr",
     "output_type": "stream",
     "text": [
      "c:\\Users\\Jrytoeku Qtuhtc\\AppData\\Local\\Programs\\Python\\Python310\\lib\\site-packages\\sklearn\\linear_model\\_logistic.py:465: ConvergenceWarning: lbfgs failed to converge (status=1):\n",
      "STOP: TOTAL NO. of ITERATIONS REACHED LIMIT.\n",
      "\n",
      "Increase the number of iterations (max_iter) or scale the data as shown in:\n",
      "    https://scikit-learn.org/stable/modules/preprocessing.html\n",
      "Please also refer to the documentation for alternative solver options:\n",
      "    https://scikit-learn.org/stable/modules/linear_model.html#logistic-regression\n",
      "  n_iter_i = _check_optimize_result(\n"
     ]
    },
    {
     "data": {
      "text/plain": [
       "(0.17298937784522003, 0.04680851063829787, 0.0)"
      ]
     },
     "execution_count": 64,
     "metadata": {},
     "output_type": "execute_result"
    }
   ],
   "source": [
    "from sklearn.metrics import f1_score\n",
    "from sklearn.model_selection import train_test_split\n",
    "\n",
    "x_train, x_test, y_train, y_test =  train_test_split(Xtrain.drop('target', axis=1), Xtrain['target'], test_size=0.25)\n",
    "\n",
    "knn = KNeighborsClassifier()\n",
    "logr = LogisticRegression()\n",
    "svc = SVC()\n",
    "\n",
    "knn.fit(x_train, y_train)\n",
    "logr.fit(x_train, y_train)\n",
    "svc.fit(x_train, y_train)\n",
    "\n",
    "knn_pred = knn.predict(x_test)\n",
    "logr_pred = logr.predict(x_test)\n",
    "svc_pred = svc.predict(x_test)\n",
    "\n",
    "f1_score(y_test, knn_pred), f1_score(y_test, logr_pred), f1_score(y_test, svc_pred)"
   ]
  },
  {
   "cell_type": "markdown",
   "metadata": {
    "id": "KYQnr8CftWcv"
   },
   "source": [
    "### 4. Улучшите модели\n",
    "Попробуйте улучшить качество обученных моделей:\n",
    "- можете подбирать гиперпараметры моделей (лучше это делать по кросс-валидации на Train, то есть с помощью использования GridSearchCV на Train);\n",
    "- можете задавать class_weights;\n",
    "- можете вручную или при помощи методов Python генерировать новые признаки и/или удалять существующие.\n",
    "\n",
    "Это самая важная и творческая часть задания. Проводите как можно больше экспериментов!\n",
    "\n",
    "Проведите минимиум три эксперимента: для каждого типа модели минимум один эксперимент."
   ]
  },
  {
   "cell_type": "code",
   "execution_count": 65,
   "metadata": {},
   "outputs": [],
   "source": [
    "import numpy as np\n",
    "from sklearn.metrics import make_scorer\n",
    "from sklearn.model_selection import cross_val_score, RandomizedSearchCV"
   ]
  },
  {
   "cell_type": "code",
   "execution_count": 66,
   "metadata": {},
   "outputs": [
    {
     "data": {
      "text/plain": [
       "(2, 0.3060639586805233)"
      ]
     },
     "execution_count": 66,
     "metadata": {},
     "output_type": "execute_result"
    }
   ],
   "source": [
    "k = 2\n",
    "best_score = 0\n",
    "for i in range(2, 44, 2):\n",
    "    knn = KNeighborsClassifier(n_neighbors=i, weights='distance', n_jobs=-1)\n",
    "    knn.fit(x_train, y_train)\n",
    "    score = cross_val_score(knn, x_train, y_train, scoring=make_scorer(f1_score))\n",
    "    if score.mean() > best_score:\n",
    "        k = i\n",
    "        best_score = score.mean()\n",
    "\n",
    "k, best_score"
   ]
  },
  {
   "cell_type": "code",
   "execution_count": 67,
   "metadata": {},
   "outputs": [
    {
     "data": {
      "text/plain": [
       "0.27699018538713194"
      ]
     },
     "execution_count": 67,
     "metadata": {},
     "output_type": "execute_result"
    }
   ],
   "source": [
    "knn = KNeighborsClassifier(n_neighbors=2, weights='distance', n_jobs=-1)\n",
    "knn.fit(x_train, y_train)\n",
    "f1_score(y_test, knn.predict(x_test))"
   ]
  },
  {
   "cell_type": "code",
   "execution_count": 69,
   "metadata": {},
   "outputs": [
    {
     "data": {
      "text/plain": [
       "({'penalty': 'l1', 'max_iter': 400, 'C': 32.16198202838255},\n",
       " 0.5466089017255467)"
      ]
     },
     "execution_count": 69,
     "metadata": {},
     "output_type": "execute_result"
    }
   ],
   "source": [
    "logr = LogisticRegression(solver='liblinear', class_weight='balanced')\n",
    "\n",
    "param_dist = {\n",
    "    'C': np.random.uniform(1e-2, 100, 100), \n",
    "    'penalty': ['l1', 'l2'], \n",
    "    'max_iter': list(range(100, 800, 100)),  \n",
    "}\n",
    "\n",
    "rs = RandomizedSearchCV(\n",
    "    estimator=logr,\n",
    "    param_distributions=param_dist,\n",
    "    n_iter=400,  \n",
    "    scoring=make_scorer(f1_score),  \n",
    "    cv=5,\n",
    "    random_state=42,  \n",
    "    n_jobs=-1\n",
    ")\n",
    "\n",
    "rs.fit(x_train, y_train)\n",
    "rs.best_params_, rs.best_score_"
   ]
  },
  {
   "cell_type": "code",
   "execution_count": 74,
   "metadata": {},
   "outputs": [
    {
     "data": {
      "text/plain": [
       "(0.53, 0.5515320334261838)"
      ]
     },
     "execution_count": 74,
     "metadata": {},
     "output_type": "execute_result"
    }
   ],
   "source": [
    "logr = LogisticRegression(penalty='l1', max_iter=400, C=32.16, solver='liblinear', class_weight='balanced')\n",
    "logr.fit(x_train, y_train)\n",
    "val_proba = logr.predict_proba(x_test)[:, 1]\n",
    "\n",
    "best_score = 0\n",
    "thr = 0.5\n",
    "for threshold in np.arange(0.01, 0.9, 0.01):\n",
    "    score = f1_score(y_test, (val_proba > threshold).astype(int))\n",
    "    if score > best_score:\n",
    "        thr = threshold\n",
    "        best_score = score\n",
    "\n",
    "thr, f1_score(y_test, (logr.predict_proba(x_test)[:, 1] > thr).astype(int))"
   ]
  },
  {
   "cell_type": "code",
   "execution_count": 73,
   "metadata": {},
   "outputs": [
    {
     "name": "stdout",
     "output_type": "stream",
     "text": [
      "0.01 0.3711453744493392\n",
      "0.02 0.37787567302985803\n",
      "0.03 0.3784313725490196\n",
      "0.05 0.3785644051130777\n"
     ]
    },
    {
     "data": {
      "text/plain": [
       "0.05"
      ]
     },
     "execution_count": 73,
     "metadata": {},
     "output_type": "execute_result"
    }
   ],
   "source": [
    "# linear 0.40667196187450355\n",
    "# rbf 0.37166424065987386 \n",
    "# rbf 0.15 0.38159070598748884\n",
    "\n",
    "breg = 0.01\n",
    "best_score = 0\n",
    "reg = breg\n",
    "while reg < 0.5:\n",
    "    svc = SVC(C=reg, class_weight='balanced')\n",
    "    svc.fit(x_train, y_train)\n",
    "    score = f1_score(y_test, svc.predict(x_test))\n",
    "    if score > best_score:\n",
    "        breg = reg\n",
    "        best_score = score\n",
    "        print(breg, best_score)\n",
    "\n",
    "    reg += 0.01\n",
    "\n",
    "breg"
   ]
  },
  {
   "cell_type": "markdown",
   "metadata": {
    "id": "yfu3yy_7tWcy"
   },
   "source": [
    "### 5. Оцените на отложенной выборке качество наилучшей модели\n",
    "В пунктах 3 и 4 вы построили много разных моделей.\n",
    "\n",
    "Возьмите ту, которая дала наилучшее качество на тестовых данных (Test). Примените её на отложенной выборке (TestData) и выведите на экран значение метрики f1."
   ]
  },
  {
   "cell_type": "code",
   "execution_count": 78,
   "metadata": {
    "id": "upHUOfrktWcy"
   },
   "outputs": [
    {
     "data": {
      "text/plain": [
       "0.5602165087956699"
      ]
     },
     "execution_count": 78,
     "metadata": {},
     "output_type": "execute_result"
    }
   ],
   "source": [
    "x_side, y_side = Xtest.drop('target', axis=1), Xtest['target']\n",
    "\n",
    "logr = LogisticRegression(penalty='l1', max_iter=400, C=32.16, solver='liblinear', class_weight='balanced')\n",
    "logr.fit(x_train, y_train)\n",
    "f1_score(y_side, logr.predict(x_side))"
   ]
  },
  {
   "cell_type": "markdown",
   "metadata": {
    "id": "YZT0rMuStWcz"
   },
   "source": [
    "### 6. Выполните хитрый трюк\n",
    "Часто смешивание различных моделей даёт улучшение итогового предсказания. Попробуйте смешать две лучшие модели по формуле:\n",
    "\n",
    "$$pred_{final} = \\alpha\\cdot pred_1 + (1-\\alpha)\\cdot pred_2.$$\n",
    "\n",
    "Значение $\\alpha$ подберите в цикле по Test-выборке. Оцените качество на отложенной выборке.\n",
    "\n",
    "Удалось ли добиться улучшения качества?"
   ]
  },
  {
   "cell_type": "code",
   "execution_count": 82,
   "metadata": {
    "id": "3DdSsk6gtWc7"
   },
   "outputs": [
    {
     "name": "stdout",
     "output_type": "stream",
     "text": [
      "0.01 0.3785644051130777\n",
      "0.47000000000000003 0.5080568720379147\n",
      "0.54 0.5449826989619377\n"
     ]
    },
    {
     "data": {
      "text/plain": [
       "0.5614035087719298"
      ]
     },
     "execution_count": 82,
     "metadata": {},
     "output_type": "execute_result"
    }
   ],
   "source": [
    "logr = LogisticRegression(penalty='l1', max_iter=400, C=32.16, solver='liblinear', class_weight='balanced')\n",
    "logr.fit(x_train, y_train)\n",
    "logr_pred = logr.predict(x_test)\n",
    "\n",
    "svc = SVC(C=0.05, class_weight='balanced')\n",
    "svc.fit(x_train, y_train)\n",
    "svc_pred = svc.predict(x_test)\n",
    "\n",
    "ba = 0.01\n",
    "best_score = 0\n",
    "for alpha in np.arange(0.01, 0.99, 0.01):\n",
    "    y_pred = alpha*logr_pred + (1 - alpha)*svc_pred\n",
    "    y_pred = (y_pred > 0.53).astype(int)\n",
    "    score = f1_score(y_test, y_pred)\n",
    "    if score > best_score:\n",
    "        ba = alpha\n",
    "        best_score = score\n",
    "        print(ba, best_score)\n",
    "\n",
    "y_pred = ba*logr.predict(x_side) + (1 - ba)*svc.predict(x_side)\n",
    "y_pred = (y_pred > 0.53).astype(int)\n",
    "f1_score(y_side, y_pred)"
   ]
  },
  {
   "cell_type": "code",
   "execution_count": 86,
   "metadata": {},
   "outputs": [
    {
     "data": {
      "text/plain": [
       "False"
      ]
     },
     "execution_count": 86,
     "metadata": {},
     "output_type": "execute_result"
    }
   ],
   "source": [
    "f1_score(y_side, (ba*logr.predict(x_side) + (1 - ba)*svc.predict(x_side) > 0.53).astype(int)) > f1_score(y_side, logr.predict(x_side))"
   ]
  },
  {
   "cell_type": "markdown",
   "metadata": {},
   "source": [
    "В итоге значимо улучшить качество предсказания путём смешения моделей не удалось."
   ]
  },
  {
   "cell_type": "markdown",
   "metadata": {
    "id": "9b9imFkLtWc8"
   },
   "source": [
    "### 7. Сделайте выводы\n",
    "\n",
    "Запишите в отдельной ячейке текстом выводы о проделанной работе. Для этого ответьте на вопросы:\n",
    "- Какие подходы вы использовали для улучшения работы baseline-моделей?\n",
    "- Какого максимального качества удалось добиться на Test-данных?\n",
    "- Какое при этом получилось качество на отложенной выборке? \n",
    "- Ваша модель переобучилась, недообучилась или обучилась как надо?"
   ]
  },
  {
   "cell_type": "markdown",
   "metadata": {},
   "source": [
    "Были использованы кросс-валидация, случайный поиск и сравнение точности на тестовой выборке, указанием class_weights='balanced', а также подбор порога для логистической регрессии (порог по умолчанию оказался лучшим).\n",
    "\n",
    "Максимальное качество на тестах 0.5515320334261838.\n",
    "\n",
    "На отложенной выборке 0.5614035087719298.\n",
    "\n",
    "Полученная модель точно не переобучилась, но при этом не совсем обучилась как надо из-за невысокого показателя метрики."
   ]
  },
  {
   "cell_type": "markdown",
   "metadata": {
    "id": "cnFjm55atWc-"
   },
   "source": [
    "Важный комментарий! В реальных задачах не следует ожидать, что машинным обучением всегда удастся решить задачу с хорошим качеством. Но использовать все имеющиеся у вас в арсенале методы для достижения наилучшего результата нужно."
   ]
  }
 ],
 "metadata": {
  "colab": {
   "collapsed_sections": [],
   "provenance": []
  },
  "kernelspec": {
   "display_name": "Python 3",
   "language": "python",
   "name": "python3"
  },
  "language_info": {
   "codemirror_mode": {
    "name": "ipython",
    "version": 3
   },
   "file_extension": ".py",
   "mimetype": "text/x-python",
   "name": "python",
   "nbconvert_exporter": "python",
   "pygments_lexer": "ipython3",
   "version": "3.10.7"
  }
 },
 "nbformat": 4,
 "nbformat_minor": 0
}
