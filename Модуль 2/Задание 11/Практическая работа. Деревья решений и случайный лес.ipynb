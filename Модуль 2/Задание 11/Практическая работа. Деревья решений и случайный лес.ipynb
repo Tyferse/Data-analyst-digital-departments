{
  "cells": [
    {
      "cell_type": "markdown",
      "metadata": {
        "id": "wGUh9-kKDVk_"
      },
      "source": [
        "# Случайный лес\n",
        "\n",
        "В этом практическом задании вы решите задачу регрессии на реальных данных при помощи линейной модели и случайного леса. "
      ]
    },
    {
      "cell_type": "markdown",
      "metadata": {
        "id": "RS-i_3wQqtxS"
      },
      "source": [
        "## Цели практической работы\n",
        "\n",
        "* Научиться применять случайный лес в задаче регрессии.\n",
        "* Научиться сравнивать качество случайного леса с качеством линейной модели.\n",
        "* Научиться настраивать гиперпараметры леса."
      ]
    },
    {
      "cell_type": "markdown",
      "metadata": {
        "id": "4Uo9gVtsqbJX"
      },
      "source": [
        "## Что входит в работу\n",
        "\n",
        "* Выполнить предобработку данных.\n",
        "* Обучить линейную регрессию на данных задачи.\n",
        "* Обучить случайный лес на данных задачи.\n",
        "* Подобрать гиперпараметры для леса.\n",
        "* Визуализировать важность признаков у леса."
      ]
    },
    {
      "cell_type": "markdown",
      "metadata": {
        "id": "9WSnh3hKrFZX"
      },
      "source": [
        "## Что оценивается\n",
        "\n",
        "*  Все ячейки заполнены; при запуске ячеек  Python не выдаёт информацию об ошибках.\n",
        "*  Качество итоговой модели $R^2$ превышает 0,95.\n"
      ]
    },
    {
      "cell_type": "markdown",
      "metadata": {
        "id": "Tb-5iUrybT-m"
      },
      "source": [
        "## Что нужно сделать\n",
        "\n",
        "Постройте модели, предсказывающие стоимость автомобилей по характеристикам.\n",
        "\n",
        "Признаков у машин много, но в этой работе обойдёмся только числовыми признаками:\n",
        "*  year — год производства автомобиля;\n",
        "*  km_driven — пробег;\n",
        "*  seats — количество посадочных мест;\n",
        "*  mileage — другая характеристика пробега;\n",
        "*  engine — мощность двигателя;\n",
        "*  max_power — мощность автомобиля.\n",
        "\n",
        "Целевая переменная — selling_price."
      ]
    },
    {
      "cell_type": "code",
      "execution_count": 36,
      "metadata": {
        "id": "0smCupJnhCRx"
      },
      "outputs": [],
      "source": [
        "import pandas as pd\n",
        "import numpy as np\n",
        "\n",
        "train = pd.read_csv(\"cars_train.csv\")\n",
        "test = pd.read_csv(\"cars_test.csv\")"
      ]
    },
    {
      "cell_type": "markdown",
      "metadata": {
        "id": "jTjAo4UEL3IG"
      },
      "source": [
        "Создайте объекты Xtrain, ytrain, Xtest, ytest. Запишите в них матрицы «объект — признак» и векторы целевой переменной для тренировочного и тестового датасетов."
      ]
    },
    {
      "cell_type": "code",
      "execution_count": 37,
      "metadata": {
        "id": "2tLR6TQAiuXf"
      },
      "outputs": [],
      "source": [
        "x_train, y_train = train.drop('selling_price', axis=1), train['selling_price']\n",
        "x_test, y_test = test.drop('selling_price', axis=1), test['selling_price']"
      ]
    },
    {
      "cell_type": "markdown",
      "metadata": {
        "id": "TWiEH5reAKTF"
      },
      "source": [
        "В тренировочных данных есть автомобили, для которых неизвестна стоимость. Удалите эти автомобили из трейна."
      ]
    },
    {
      "cell_type": "code",
      "execution_count": 38,
      "metadata": {
        "id": "B151ci2AASUb"
      },
      "outputs": [],
      "source": [
        "x_train = x_train[~y_train.isna()]\n",
        "y_train = y_train.dropna()"
      ]
    },
    {
      "cell_type": "markdown",
      "metadata": {
        "id": "3HbVvXLSlVK-"
      },
      "source": [
        "Перед обучением моделей обработайте данные.\n",
        "\n",
        "Обратите внимание, что столбцы mileage, engine и max_power по смыслу числовые. Чтобы превратить их в числовые столбцы, отбросьте единицы измерения и оставьте только числа. В столбцах есть пропущенные значения, их при обработке трогать не нужно."
      ]
    },
    {
      "cell_type": "code",
      "execution_count": 39,
      "metadata": {
        "id": "OdvsVN9Blg7r"
      },
      "outputs": [
        {
          "data": {
            "application/vnd.microsoft.datawrangler.viewer.v0+json": {
              "columns": [
                {
                  "name": "index",
                  "rawType": "int64",
                  "type": "integer"
                },
                {
                  "name": "mileage",
                  "rawType": "float64",
                  "type": "float"
                },
                {
                  "name": "engine",
                  "rawType": "float64",
                  "type": "float"
                },
                {
                  "name": "max_power",
                  "rawType": "float64",
                  "type": "float"
                }
              ],
              "conversionMethod": "pd.DataFrame",
              "ref": "dc95d964-6684-49d1-8d4d-44b773dca0df",
              "rows": [
                [
                  "0",
                  "23.4",
                  "1248.0",
                  "74.0"
                ],
                [
                  "1",
                  "21.14",
                  "1498.0",
                  "103.52"
                ],
                [
                  "2",
                  "23.0",
                  "1396.0",
                  "90.0"
                ],
                [
                  "4",
                  "20.14",
                  "1197.0",
                  "81.86"
                ],
                [
                  "6",
                  "16.1",
                  "796.0",
                  "37.0"
                ],
                [
                  "7",
                  "23.59",
                  "1364.0",
                  "67.1"
                ],
                [
                  "8",
                  "20.0",
                  "1399.0",
                  "68.1"
                ],
                [
                  "9",
                  "19.01",
                  "1461.0",
                  "108.45"
                ],
                [
                  "10",
                  "17.3",
                  "993.0",
                  "60.0"
                ],
                [
                  "11",
                  "19.3",
                  "1248.0",
                  "73.9"
                ],
                [
                  "12",
                  null,
                  null,
                  null
                ],
                [
                  "13",
                  "18.9",
                  "1061.0",
                  "67.0"
                ],
                [
                  "14",
                  "18.15",
                  "1198.0",
                  "82.0"
                ],
                [
                  "15",
                  "23.0",
                  "1396.0",
                  "90.0"
                ],
                [
                  "16",
                  "19.7",
                  "796.0",
                  "46.3"
                ],
                [
                  "17",
                  "22.54",
                  "1396.0",
                  "88.73"
                ],
                [
                  "18",
                  "21.0",
                  "1461.0",
                  "64.1"
                ],
                [
                  "19",
                  "25.5",
                  "1498.0",
                  "98.6"
                ],
                [
                  "20",
                  "26.59",
                  "1248.0",
                  "74.0"
                ],
                [
                  "21",
                  "21.5",
                  "1248.0",
                  "88.8"
                ],
                [
                  "22",
                  "21.4",
                  "1197.0",
                  "83.1"
                ],
                [
                  "23",
                  "24.7",
                  "796.0",
                  "47.3"
                ],
                [
                  "24",
                  "18.2",
                  "1248.0",
                  "73.8"
                ],
                [
                  "25",
                  "18.9",
                  "1061.0",
                  "67.0"
                ],
                [
                  "26",
                  "16.8",
                  "796.0",
                  "34.2"
                ],
                [
                  "27",
                  "24.3",
                  "1248.0",
                  "88.5"
                ],
                [
                  "28",
                  null,
                  null,
                  null
                ],
                [
                  "29",
                  "14.0",
                  "796.0",
                  "35.0"
                ],
                [
                  "30",
                  "24.3",
                  "1248.0",
                  "88.5"
                ],
                [
                  "31",
                  "33.44",
                  "796.0",
                  "40.3"
                ],
                [
                  "32",
                  "23.95",
                  "998.0",
                  "67.1"
                ],
                [
                  "33",
                  "17.0",
                  "1591.0",
                  "121.3"
                ],
                [
                  "34",
                  "20.63",
                  "1198.0",
                  "67.0"
                ],
                [
                  "35",
                  "13.93",
                  "2179.0",
                  "138.03"
                ],
                [
                  "36",
                  "16.1",
                  "796.0",
                  "37.0"
                ],
                [
                  "37",
                  "16.0",
                  "1368.0",
                  "160.77"
                ],
                [
                  "38",
                  "17.8",
                  "1497.0",
                  "117.3"
                ],
                [
                  "39",
                  "16.8",
                  "1497.0",
                  "116.3"
                ],
                [
                  "40",
                  "24.3",
                  "1248.0",
                  "88.5"
                ],
                [
                  "41",
                  "23.95",
                  "998.0",
                  "67.05"
                ],
                [
                  "42",
                  "12.55",
                  "2982.0",
                  "168.5"
                ],
                [
                  "43",
                  "12.99",
                  "2494.0",
                  "100.0"
                ],
                [
                  "44",
                  "14.8",
                  "2143.0",
                  "120.7"
                ],
                [
                  "45",
                  "24.7",
                  "1498.0",
                  "98.63"
                ],
                [
                  "46",
                  "13.5",
                  "2477.0",
                  "175.56"
                ],
                [
                  "47",
                  "26.0",
                  "1498.0",
                  "98.6"
                ],
                [
                  "48",
                  "27.3",
                  "1498.0",
                  "98.6"
                ],
                [
                  "49",
                  "11.36",
                  "2755.0",
                  "171.5"
                ],
                [
                  "50",
                  "12.99",
                  "2494.0",
                  "100.6"
                ],
                [
                  "51",
                  "17.68",
                  "1968.0",
                  "174.33"
                ]
              ],
              "shape": {
                "columns": 3,
                "rows": 6699
              }
            },
            "text/html": [
              "<div>\n",
              "<style scoped>\n",
              "    .dataframe tbody tr th:only-of-type {\n",
              "        vertical-align: middle;\n",
              "    }\n",
              "\n",
              "    .dataframe tbody tr th {\n",
              "        vertical-align: top;\n",
              "    }\n",
              "\n",
              "    .dataframe thead th {\n",
              "        text-align: right;\n",
              "    }\n",
              "</style>\n",
              "<table border=\"1\" class=\"dataframe\">\n",
              "  <thead>\n",
              "    <tr style=\"text-align: right;\">\n",
              "      <th></th>\n",
              "      <th>mileage</th>\n",
              "      <th>engine</th>\n",
              "      <th>max_power</th>\n",
              "    </tr>\n",
              "  </thead>\n",
              "  <tbody>\n",
              "    <tr>\n",
              "      <th>0</th>\n",
              "      <td>23.40</td>\n",
              "      <td>1248.0</td>\n",
              "      <td>74.00</td>\n",
              "    </tr>\n",
              "    <tr>\n",
              "      <th>1</th>\n",
              "      <td>21.14</td>\n",
              "      <td>1498.0</td>\n",
              "      <td>103.52</td>\n",
              "    </tr>\n",
              "    <tr>\n",
              "      <th>2</th>\n",
              "      <td>23.00</td>\n",
              "      <td>1396.0</td>\n",
              "      <td>90.00</td>\n",
              "    </tr>\n",
              "    <tr>\n",
              "      <th>4</th>\n",
              "      <td>20.14</td>\n",
              "      <td>1197.0</td>\n",
              "      <td>81.86</td>\n",
              "    </tr>\n",
              "    <tr>\n",
              "      <th>6</th>\n",
              "      <td>16.10</td>\n",
              "      <td>796.0</td>\n",
              "      <td>37.00</td>\n",
              "    </tr>\n",
              "    <tr>\n",
              "      <th>...</th>\n",
              "      <td>...</td>\n",
              "      <td>...</td>\n",
              "      <td>...</td>\n",
              "    </tr>\n",
              "    <tr>\n",
              "      <th>6992</th>\n",
              "      <td>18.90</td>\n",
              "      <td>998.0</td>\n",
              "      <td>67.10</td>\n",
              "    </tr>\n",
              "    <tr>\n",
              "      <th>6993</th>\n",
              "      <td>18.50</td>\n",
              "      <td>1197.0</td>\n",
              "      <td>82.85</td>\n",
              "    </tr>\n",
              "    <tr>\n",
              "      <th>6995</th>\n",
              "      <td>19.30</td>\n",
              "      <td>1248.0</td>\n",
              "      <td>73.90</td>\n",
              "    </tr>\n",
              "    <tr>\n",
              "      <th>6996</th>\n",
              "      <td>23.57</td>\n",
              "      <td>1396.0</td>\n",
              "      <td>70.00</td>\n",
              "    </tr>\n",
              "    <tr>\n",
              "      <th>6997</th>\n",
              "      <td>23.57</td>\n",
              "      <td>1396.0</td>\n",
              "      <td>70.00</td>\n",
              "    </tr>\n",
              "  </tbody>\n",
              "</table>\n",
              "<p>6699 rows × 3 columns</p>\n",
              "</div>"
            ],
            "text/plain": [
              "      mileage  engine  max_power\n",
              "0       23.40  1248.0      74.00\n",
              "1       21.14  1498.0     103.52\n",
              "2       23.00  1396.0      90.00\n",
              "4       20.14  1197.0      81.86\n",
              "6       16.10   796.0      37.00\n",
              "...       ...     ...        ...\n",
              "6992    18.90   998.0      67.10\n",
              "6993    18.50  1197.0      82.85\n",
              "6995    19.30  1248.0      73.90\n",
              "6996    23.57  1396.0      70.00\n",
              "6997    23.57  1396.0      70.00\n",
              "\n",
              "[6699 rows x 3 columns]"
            ]
          },
          "execution_count": 39,
          "metadata": {},
          "output_type": "execute_result"
        }
      ],
      "source": [
        "for col in ['mileage', 'engine', 'max_power']:\n",
        "    x_train[col] = x_train[col].apply(lambda x: float(x.split(' ')[0]) if isinstance(x, str) else x)\n",
        "    x_test[col] = x_test[col].apply(lambda x: float(x.split(' ')[0]) if isinstance(x, str) else x)\n",
        "\n",
        "x_train[['mileage', 'engine', 'max_power']]"
      ]
    },
    {
      "cell_type": "markdown",
      "metadata": {
        "id": "p43qUhHg-_-e"
      },
      "source": [
        "Оставьте в данных только шесть числовых столбцов:\n",
        "\n",
        "year, km_driven, seats, engine, mileage, max_power"
      ]
    },
    {
      "cell_type": "code",
      "execution_count": 40,
      "metadata": {
        "id": "vP0FYosyix7_"
      },
      "outputs": [],
      "source": [
        "x_train = x_train[['year', 'km_driven', 'seats', 'engine', 'mileage', 'max_power']]\n",
        "x_test = x_test[['year', 'km_driven', 'seats', 'engine', 'mileage', 'max_power']]"
      ]
    },
    {
      "cell_type": "markdown",
      "metadata": {
        "id": "Q0AsRR_69ZFH"
      },
      "source": [
        "Теперь заполните пропуски следующим образом:\n",
        "\n",
        "*    вычислите средние значения по столбцам тренировочной выборки;\n",
        "\n",
        "*    добавьте в пропуски в тренировочных и тестовых данных вычисленные средние."
      ]
    },
    {
      "cell_type": "code",
      "execution_count": 41,
      "metadata": {
        "id": "yk0P1b6X9qqh"
      },
      "outputs": [],
      "source": [
        "for col in x_train:\n",
        "    mn = x_train[col].mean()\n",
        "    x_train[col] = x_train[col].fillna(mn)\n",
        "    x_test[col] = x_test[col].fillna(mn)\n"
      ]
    },
    {
      "cell_type": "markdown",
      "metadata": {
        "id": "BUatWsDGi_rj"
      },
      "source": [
        "Теперь на обработанных тренировочных данных обучите:\n",
        "\n",
        "*  линейную регрессию,\n",
        "*  случайный лес с параметрами по умолчанию.\n",
        "\n",
        "На обработанных тестовых данных сделайте предсказание и вычислите метрику $R^2$. "
      ]
    },
    {
      "cell_type": "code",
      "execution_count": 42,
      "metadata": {
        "id": "cQ7iS1eu-s_8"
      },
      "outputs": [
        {
          "data": {
            "text/plain": [
              "(0.6485839251280118, 0.9651314183539313)"
            ]
          },
          "execution_count": 42,
          "metadata": {},
          "output_type": "execute_result"
        }
      ],
      "source": [
        "from sklearn.ensemble import RandomForestRegressor\n",
        "from sklearn.linear_model import LinearRegression\n",
        "from sklearn.metrics import r2_score\n",
        "\n",
        "lnr = LinearRegression()\n",
        "rfr = RandomForestRegressor()\n",
        "\n",
        "lnr.fit(x_train, y_train)\n",
        "rfr.fit(x_train, y_train)\n",
        "\n",
        "lnr_pred = lnr.predict(x_test)\n",
        "rfr_pred = rfr.predict(x_test)\n",
        "r2_score(y_test, lnr_pred), r2_score(y_test, rfr_pred)"
      ]
    },
    {
      "cell_type": "markdown",
      "metadata": {
        "id": "LbbD1-qC76HW"
      },
      "source": [
        "Какая модель получилась лучше?"
      ]
    },
    {
      "cell_type": "markdown",
      "metadata": {},
      "source": [
        "Лучше показала себя модел случайного леса"
      ]
    },
    {
      "cell_type": "markdown",
      "metadata": {
        "id": "J36iRaNoBEkT"
      },
      "source": [
        "Улучшите качество предсказания случайного леса путём подбора гиперпараметров:\n",
        "\n",
        "*   n_estimators,\n",
        "*   max_depth,\n",
        "*   max_features,\n",
        "*   min_samples_leaf,\n",
        "*   min_samples_split.\n",
        "\n",
        "Для подбора гиперпараметров используйте GridSearchCV. Обучайте GridSearchCV по тренировочным данным с разбивкой на три фолда и метрикой $R^2$."
      ]
    },
    {
      "cell_type": "code",
      "execution_count": null,
      "metadata": {
        "id": "3IWEulMqBXlv"
      },
      "outputs": [
        {
          "data": {
            "text/plain": [
              "({'max_features': 8, 'min_samples_split': 4, 'n_estimators': 50},\n",
              " 0.9554153941394055)"
            ]
          },
          "execution_count": 45,
          "metadata": {},
          "output_type": "execute_result"
        }
      ],
      "source": [
        "from sklearn.metrics import make_scorer\n",
        "from sklearn.model_selection import GridSearchCV\n",
        "\n",
        "\n",
        "rfr = RandomForestRegressor(n_jobs=-1)\n",
        "\n",
        "params = {\n",
        "    'n_estimators': list(range(25, 150, 25)),\n",
        "    'max_depth': list(range(8, 33, 8)),\n",
        "    'max_features': ['sqrt', 'log2'] + list(range(3, 11)),\n",
        "    'min_samples_leaf': list(range(1, 5)),\n",
        "    'min_samples_split': list(range(2, 9, 2)),\n",
        "}\n",
        "\n",
        "gs = GridSearchCV(\n",
        "    rfr, \n",
        "    param_grid=params, \n",
        "    scoring=make_scorer(r2_score),\n",
        "    cv=3, \n",
        "    n_jobs=-1\n",
        ")\n",
        "\n",
        "gs.fit(x_train, y_train)\n",
        "gs.best_params_, gs.best_score_"
      ]
    },
    {
      "cell_type": "markdown",
      "metadata": {
        "id": "TPNNp6cPDsjD"
      },
      "source": [
        "Теперь обучите на тренировочных данных случайный лес с найденными гиперпараметрами. Сделайте предсказание на тестовых данных и оцените его качество ($R^2$)."
      ]
    },
    {
      "cell_type": "code",
      "execution_count": 46,
      "metadata": {
        "id": "MPdZ9qCxDrkF"
      },
      "outputs": [
        {
          "data": {
            "text/plain": [
              "0.9635463346030746"
            ]
          },
          "execution_count": 46,
          "metadata": {},
          "output_type": "execute_result"
        }
      ],
      "source": [
        "# {'max_depth': 16, 'max_features': 8, 'min_samples_leaf': 1, 'min_samples_split': 4, 'n_estimators': 50}\n",
        "rfr = RandomForestRegressor(**{'max_depth': 16, 'max_features': 8, 'min_samples_leaf': 1, \n",
        "                               'min_samples_split': 4, 'n_estimators': 50}, n_jobs=-1)\n",
        "rfr.fit(x_train, y_train)\n",
        "\n",
        "y_pred = rfr.predict(x_test)\n",
        "r2_score(y_test, y_pred)"
      ]
    },
    {
      "cell_type": "markdown",
      "metadata": {
        "id": "dpWSQeD4ENby"
      },
      "source": [
        "Модель готова. Осталось её проинтерпретировать.\n",
        "\n",
        "При помощи метода model.feature_importances_ визуализируйте гистограмму важности признаков у случайного леса с настроенными гиперпараметрами."
      ]
    },
    {
      "cell_type": "code",
      "execution_count": 49,
      "metadata": {},
      "outputs": [
        {
          "data": {
            "text/plain": [
              "array(['year', 'km_driven', 'seats', 'engine', 'mileage', 'max_power'],\n",
              "      dtype=object)"
            ]
          },
          "execution_count": 49,
          "metadata": {},
          "output_type": "execute_result"
        }
      ],
      "source": [
        "rfr.feature_names_in_"
      ]
    },
    {
      "cell_type": "code",
      "execution_count": 60,
      "metadata": {
        "id": "7uZzKbUnD54w"
      },
      "outputs": [
        {
          "data": {
            "image/png": "[encoded data removed]",
            "text/plain": [
              "<Figure size 640x480 with 1 Axes>"
            ]
          },
          "metadata": {},
          "output_type": "display_data"
        }
      ],
      "source": [
        "import matplotlib.pyplot as plt\n",
        "\n",
        "\n",
        "pd.DataFrame(rfr.feature_importances_.reshape((6, 1)), index=rfr.feature_names_in_, columns=['importance']).plot.bar()\n",
        "plt.xticks(rotation=0);"
      ]
    }
  ],
  "metadata": {
    "colab": {
      "provenance": []
    },
    "kernelspec": {
      "display_name": "Python 3",
      "name": "python3"
    },
    "language_info": {
      "codemirror_mode": {
        "name": "ipython",
        "version": 3
      },
      "file_extension": ".py",
      "mimetype": "text/x-python",
      "name": "python",
      "nbconvert_exporter": "python",
      "pygments_lexer": "ipython3",
      "version": "3.10.7"
    }
  },
  "nbformat": 4,
  "nbformat_minor": 0
}
