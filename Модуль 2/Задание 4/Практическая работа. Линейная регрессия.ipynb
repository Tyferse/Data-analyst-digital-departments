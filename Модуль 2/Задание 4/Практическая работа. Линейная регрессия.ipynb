{
  "cells": [
    {
      "cell_type": "markdown",
      "metadata": {
        "id": "UxKcKjF8qNWZ"
      },
      "source": [
        "\n",
        "# Линейная регрессия. Практическая работа"
      ]
    },
    {
      "cell_type": "markdown",
      "metadata": {
        "id": "_ohvVK9tqXJI"
      },
      "source": [
        "## Цель практической работы\n",
        "\n",
        "Научиться строить модель линейной регрессии на реальных данных."
      ]
    },
    {
      "cell_type": "markdown",
      "metadata": {
        "id": "pTiwLOIHqXRw"
      },
      "source": [
        "## Что входит в практическую работу\n",
        "\n",
        "\n",
        "1. Загрузить данные и ознакомиться с ними.\n",
        "2. Изучить данные и провести анализ.\n",
        "3. Разделить данные на обучающую и тестовую выборки.\n",
        "4. Реализовать построение модели с помощью  библиотеки scikit-learn.\n",
        "5. Получить качество модели с помощью MSE, MAE.\n"
      ]
    },
    {
      "cell_type": "markdown",
      "metadata": {
        "id": "fWl_mCkdqXUG"
      },
      "source": [
        "## Что оценивается \n",
        "\n",
        "* Выполнены все этапы работы.\n",
        "* Сделан вывод по результатам.\n",
        "* Модель не переобучена.\n",
        "* Получена модель хорошего качества."
      ]
    },
    {
      "cell_type": "markdown",
      "metadata": {
        "id": "mQ04nzTSqXWw"
      },
      "source": [
        "## Как отправить работу на проверку\n",
        "\n",
        "Скачайте файл с заданиями в материалах, откройте его через Jupyter Notebook и выполните задачи. Сохраните изменения при помощи опции Save and Checkpoint из вкладки меню File или кнопки Save and Checkpoint на панели инструментов. Отправьте через форму ниже итоговый файл Jupyter Notebook (в формате .ipynb) или ссылку на него.\n",
        "\n"
      ]
    },
    {
      "cell_type": "markdown",
      "metadata": {
        "id": "NkvSJDW6qhe-"
      },
      "source": [
        "## Что нужно сделать\n",
        "\n",
        "Пусть у нас имеется некоторый набор данных `sales.csv` о продажах квартир:\n",
        "\n",
        "- **SalePrice** (цена продажи, *зависимая переменная*).\n",
        "- **GrLivArea** (наземная жилая зона).\n",
        "- **OverallQuality** (общее качество).\n",
        "- **GarageArea** (территория гаража).\n",
        "- **SaleCondition** (условия сделки).\n",
        "\n",
        "Реализуйте построение модели линейной регрессии на этих данных. Проверьте качество модели на обучающей и тестовой выборках с помощью MAE, MSE. Определите, что вы не переобучились."
      ]
    },
    {
      "cell_type": "markdown",
      "metadata": {
        "id": "EMiWw404BPe9"
      },
      "source": [
        "### 1. Импорт библиотек"
      ]
    },
    {
      "cell_type": "code",
      "execution_count": 124,
      "metadata": {
        "id": "tIB3665tpwY5"
      },
      "outputs": [],
      "source": [
        "%matplotlib inline\n",
        "import matplotlib.pyplot as plt\n",
        "import pandas as pd\n",
        "import seaborn as sns\n",
        "from sklearn.linear_model import LinearRegression\n",
        "from sklearn.metrics import mean_absolute_error, mean_squared_error\n",
        "from sklearn.model_selection import train_test_split"
      ]
    },
    {
      "cell_type": "markdown",
      "metadata": {
        "id": "ZWCSzs2aBPfB"
      },
      "source": [
        "### 2. Загрузка данных"
      ]
    },
    {
      "cell_type": "code",
      "execution_count": 125,
      "metadata": {
        "id": "k-IvYesvrbcW"
      },
      "outputs": [
        {
          "data": {
            "application/vnd.microsoft.datawrangler.viewer.v0+json": {
              "columns": [
                {
                  "name": "index",
                  "rawType": "int64",
                  "type": "integer"
                },
                {
                  "name": "SalePrice",
                  "rawType": "int64",
                  "type": "integer"
                },
                {
                  "name": "GrLivArea",
                  "rawType": "int64",
                  "type": "integer"
                },
                {
                  "name": "GarageArea",
                  "rawType": "int64",
                  "type": "integer"
                },
                {
                  "name": "OverallQual",
                  "rawType": "int64",
                  "type": "integer"
                },
                {
                  "name": "Street",
                  "rawType": "object",
                  "type": "string"
                },
                {
                  "name": "SaleCondition",
                  "rawType": "object",
                  "type": "string"
                }
              ],
              "conversionMethod": "pd.DataFrame",
              "ref": "309ecf4d-e73a-4086-bb34-cd15b9a38238",
              "rows": [
                [
                  "0",
                  "208500",
                  "1710",
                  "548",
                  "7",
                  "Pave",
                  "Normal"
                ],
                [
                  "1",
                  "181500",
                  "1262",
                  "460",
                  "6",
                  "Pave",
                  "Normal"
                ],
                [
                  "2",
                  "223500",
                  "1786",
                  "608",
                  "7",
                  "Pave",
                  "Normal"
                ],
                [
                  "3",
                  "140000",
                  "1717",
                  "642",
                  "7",
                  "Pave",
                  "Abnorml"
                ],
                [
                  "4",
                  "250000",
                  "2198",
                  "836",
                  "8",
                  "Pave",
                  "Normal"
                ]
              ],
              "shape": {
                "columns": 6,
                "rows": 5
              }
            },
            "text/html": [
              "<div>\n",
              "<style scoped>\n",
              "    .dataframe tbody tr th:only-of-type {\n",
              "        vertical-align: middle;\n",
              "    }\n",
              "\n",
              "    .dataframe tbody tr th {\n",
              "        vertical-align: top;\n",
              "    }\n",
              "\n",
              "    .dataframe thead th {\n",
              "        text-align: right;\n",
              "    }\n",
              "</style>\n",
              "<table border=\"1\" class=\"dataframe\">\n",
              "  <thead>\n",
              "    <tr style=\"text-align: right;\">\n",
              "      <th></th>\n",
              "      <th>SalePrice</th>\n",
              "      <th>GrLivArea</th>\n",
              "      <th>GarageArea</th>\n",
              "      <th>OverallQual</th>\n",
              "      <th>Street</th>\n",
              "      <th>SaleCondition</th>\n",
              "    </tr>\n",
              "  </thead>\n",
              "  <tbody>\n",
              "    <tr>\n",
              "      <th>0</th>\n",
              "      <td>208500</td>\n",
              "      <td>1710</td>\n",
              "      <td>548</td>\n",
              "      <td>7</td>\n",
              "      <td>Pave</td>\n",
              "      <td>Normal</td>\n",
              "    </tr>\n",
              "    <tr>\n",
              "      <th>1</th>\n",
              "      <td>181500</td>\n",
              "      <td>1262</td>\n",
              "      <td>460</td>\n",
              "      <td>6</td>\n",
              "      <td>Pave</td>\n",
              "      <td>Normal</td>\n",
              "    </tr>\n",
              "    <tr>\n",
              "      <th>2</th>\n",
              "      <td>223500</td>\n",
              "      <td>1786</td>\n",
              "      <td>608</td>\n",
              "      <td>7</td>\n",
              "      <td>Pave</td>\n",
              "      <td>Normal</td>\n",
              "    </tr>\n",
              "    <tr>\n",
              "      <th>3</th>\n",
              "      <td>140000</td>\n",
              "      <td>1717</td>\n",
              "      <td>642</td>\n",
              "      <td>7</td>\n",
              "      <td>Pave</td>\n",
              "      <td>Abnorml</td>\n",
              "    </tr>\n",
              "    <tr>\n",
              "      <th>4</th>\n",
              "      <td>250000</td>\n",
              "      <td>2198</td>\n",
              "      <td>836</td>\n",
              "      <td>8</td>\n",
              "      <td>Pave</td>\n",
              "      <td>Normal</td>\n",
              "    </tr>\n",
              "  </tbody>\n",
              "</table>\n",
              "</div>"
            ],
            "text/plain": [
              "   SalePrice  GrLivArea  GarageArea  OverallQual Street SaleCondition\n",
              "0     208500       1710         548            7   Pave        Normal\n",
              "1     181500       1262         460            6   Pave        Normal\n",
              "2     223500       1786         608            7   Pave        Normal\n",
              "3     140000       1717         642            7   Pave       Abnorml\n",
              "4     250000       2198         836            8   Pave        Normal"
            ]
          },
          "execution_count": 125,
          "metadata": {},
          "output_type": "execute_result"
        }
      ],
      "source": [
        "df = pd.read_csv('sales.csv')\n",
        "df.head()"
      ]
    },
    {
      "cell_type": "markdown",
      "metadata": {
        "id": "4f-uZc_rBPfE"
      },
      "source": [
        "### 3. Первичный анализ\n",
        "\n",
        "1. Проведите анализ данных, посмотрите на индивидуальные графики зависимости целевой функции и отдельной переменной. Нередко, если признаков в выборке не так много, удобно построить [sns.pairplot](https://seaborn.pydata.org/generated/seaborn.pairplot.html).\n",
        "2. Закодируйте категориальные признаки (например, с помощью [pd.get_dummies](https://pandas.pydata.org/docs/reference/api/pandas.get_dummies.html)).\n",
        "3. Подумайте, можно ли здесь создать дополнительные переменные из имеющихся.\n",
        "4. Сделайте предварительные выводы."
      ]
    },
    {
      "cell_type": "code",
      "execution_count": 126,
      "metadata": {
        "id": "7j1gr1MhvWB-"
      },
      "outputs": [
        {
          "data": {
            "text/plain": [
              "<seaborn.axisgrid.PairGrid at 0x1561e6dd2a0>"
            ]
          },
          "execution_count": 126,
          "metadata": {},
          "output_type": "execute_result"
        },
        {
          "data": {
            "image/png": "[encoded data removed]",
            "text/plain": [
              "<Figure size 1000x1000 with 20 Axes>"
            ]
          },
          "metadata": {},
          "output_type": "display_data"
        }
      ],
      "source": [
        "sns.pairplot(df)"
      ]
    },
    {
      "cell_type": "code",
      "execution_count": 127,
      "metadata": {},
      "outputs": [
        {
          "data": {
            "application/vnd.microsoft.datawrangler.viewer.v0+json": {
              "columns": [
                {
                  "name": "index",
                  "rawType": "int64",
                  "type": "integer"
                },
                {
                  "name": "SalePrice",
                  "rawType": "int64",
                  "type": "integer"
                },
                {
                  "name": "GrLivArea",
                  "rawType": "int64",
                  "type": "integer"
                },
                {
                  "name": "GarageArea",
                  "rawType": "int64",
                  "type": "integer"
                },
                {
                  "name": "OverallQual",
                  "rawType": "int64",
                  "type": "integer"
                },
                {
                  "name": "Grvl",
                  "rawType": "int32",
                  "type": "integer"
                },
                {
                  "name": "Abnorml",
                  "rawType": "int32",
                  "type": "integer"
                },
                {
                  "name": "AdjLand",
                  "rawType": "int32",
                  "type": "integer"
                },
                {
                  "name": "Alloca",
                  "rawType": "int32",
                  "type": "integer"
                },
                {
                  "name": "Family",
                  "rawType": "int32",
                  "type": "integer"
                },
                {
                  "name": "Normal",
                  "rawType": "int32",
                  "type": "integer"
                }
              ],
              "conversionMethod": "pd.DataFrame",
              "ref": "7241b168-311d-4660-860e-cb10badcf859",
              "rows": [
                [
                  "0",
                  "208500",
                  "1710",
                  "548",
                  "7",
                  "0",
                  "0",
                  "0",
                  "0",
                  "0",
                  "1"
                ],
                [
                  "1",
                  "181500",
                  "1262",
                  "460",
                  "6",
                  "0",
                  "0",
                  "0",
                  "0",
                  "0",
                  "1"
                ],
                [
                  "2",
                  "223500",
                  "1786",
                  "608",
                  "7",
                  "0",
                  "0",
                  "0",
                  "0",
                  "0",
                  "1"
                ],
                [
                  "3",
                  "140000",
                  "1717",
                  "642",
                  "7",
                  "0",
                  "1",
                  "0",
                  "0",
                  "0",
                  "0"
                ],
                [
                  "4",
                  "250000",
                  "2198",
                  "836",
                  "8",
                  "0",
                  "0",
                  "0",
                  "0",
                  "0",
                  "1"
                ]
              ],
              "shape": {
                "columns": 10,
                "rows": 5
              }
            },
            "text/html": [
              "<div>\n",
              "<style scoped>\n",
              "    .dataframe tbody tr th:only-of-type {\n",
              "        vertical-align: middle;\n",
              "    }\n",
              "\n",
              "    .dataframe tbody tr th {\n",
              "        vertical-align: top;\n",
              "    }\n",
              "\n",
              "    .dataframe thead th {\n",
              "        text-align: right;\n",
              "    }\n",
              "</style>\n",
              "<table border=\"1\" class=\"dataframe\">\n",
              "  <thead>\n",
              "    <tr style=\"text-align: right;\">\n",
              "      <th></th>\n",
              "      <th>SalePrice</th>\n",
              "      <th>GrLivArea</th>\n",
              "      <th>GarageArea</th>\n",
              "      <th>OverallQual</th>\n",
              "      <th>Grvl</th>\n",
              "      <th>Abnorml</th>\n",
              "      <th>AdjLand</th>\n",
              "      <th>Alloca</th>\n",
              "      <th>Family</th>\n",
              "      <th>Normal</th>\n",
              "    </tr>\n",
              "  </thead>\n",
              "  <tbody>\n",
              "    <tr>\n",
              "      <th>0</th>\n",
              "      <td>208500</td>\n",
              "      <td>1710</td>\n",
              "      <td>548</td>\n",
              "      <td>7</td>\n",
              "      <td>0</td>\n",
              "      <td>0</td>\n",
              "      <td>0</td>\n",
              "      <td>0</td>\n",
              "      <td>0</td>\n",
              "      <td>1</td>\n",
              "    </tr>\n",
              "    <tr>\n",
              "      <th>1</th>\n",
              "      <td>181500</td>\n",
              "      <td>1262</td>\n",
              "      <td>460</td>\n",
              "      <td>6</td>\n",
              "      <td>0</td>\n",
              "      <td>0</td>\n",
              "      <td>0</td>\n",
              "      <td>0</td>\n",
              "      <td>0</td>\n",
              "      <td>1</td>\n",
              "    </tr>\n",
              "    <tr>\n",
              "      <th>2</th>\n",
              "      <td>223500</td>\n",
              "      <td>1786</td>\n",
              "      <td>608</td>\n",
              "      <td>7</td>\n",
              "      <td>0</td>\n",
              "      <td>0</td>\n",
              "      <td>0</td>\n",
              "      <td>0</td>\n",
              "      <td>0</td>\n",
              "      <td>1</td>\n",
              "    </tr>\n",
              "    <tr>\n",
              "      <th>3</th>\n",
              "      <td>140000</td>\n",
              "      <td>1717</td>\n",
              "      <td>642</td>\n",
              "      <td>7</td>\n",
              "      <td>0</td>\n",
              "      <td>1</td>\n",
              "      <td>0</td>\n",
              "      <td>0</td>\n",
              "      <td>0</td>\n",
              "      <td>0</td>\n",
              "    </tr>\n",
              "    <tr>\n",
              "      <th>4</th>\n",
              "      <td>250000</td>\n",
              "      <td>2198</td>\n",
              "      <td>836</td>\n",
              "      <td>8</td>\n",
              "      <td>0</td>\n",
              "      <td>0</td>\n",
              "      <td>0</td>\n",
              "      <td>0</td>\n",
              "      <td>0</td>\n",
              "      <td>1</td>\n",
              "    </tr>\n",
              "  </tbody>\n",
              "</table>\n",
              "</div>"
            ],
            "text/plain": [
              "   SalePrice  GrLivArea  GarageArea  ...  Alloca  Family  Normal\n",
              "0     208500       1710         548  ...       0       0       1\n",
              "1     181500       1262         460  ...       0       0       1\n",
              "2     223500       1786         608  ...       0       0       1\n",
              "3     140000       1717         642  ...       0       0       0\n",
              "4     250000       2198         836  ...       0       0       1\n",
              "\n",
              "[5 rows x 10 columns]"
            ]
          },
          "execution_count": 127,
          "metadata": {},
          "output_type": "execute_result"
        }
      ],
      "source": [
        "df = pd.concat([df.drop(['Street', 'SaleCondition'], axis=1), \n",
        "                pd.get_dummies(df['Street']).astype(int).iloc[:, :-1], \n",
        "                pd.get_dummies(df['SaleCondition']).astype(int).iloc[:, :-1]], axis=1)\n",
        "df.head()"
      ]
    },
    {
      "cell_type": "code",
      "execution_count": 128,
      "metadata": {},
      "outputs": [
        {
          "data": {
            "application/vnd.microsoft.datawrangler.viewer.v0+json": {
              "columns": [
                {
                  "name": "index",
                  "rawType": "object",
                  "type": "string"
                },
                {
                  "name": "SalePrice",
                  "rawType": "float64",
                  "type": "float"
                },
                {
                  "name": "GrLivArea",
                  "rawType": "float64",
                  "type": "float"
                },
                {
                  "name": "GarageArea",
                  "rawType": "float64",
                  "type": "float"
                },
                {
                  "name": "OverallQual",
                  "rawType": "float64",
                  "type": "float"
                },
                {
                  "name": "Grvl",
                  "rawType": "float64",
                  "type": "float"
                },
                {
                  "name": "Abnorml",
                  "rawType": "float64",
                  "type": "float"
                },
                {
                  "name": "AdjLand",
                  "rawType": "float64",
                  "type": "float"
                },
                {
                  "name": "Alloca",
                  "rawType": "float64",
                  "type": "float"
                },
                {
                  "name": "Family",
                  "rawType": "float64",
                  "type": "float"
                },
                {
                  "name": "Normal",
                  "rawType": "float64",
                  "type": "float"
                }
              ],
              "conversionMethod": "pd.DataFrame",
              "ref": "053a61b8-18a3-4d72-9072-0f99a6ad846f",
              "rows": [
                [
                  "SalePrice",
                  "1.0",
                  "0.7086244776126517",
                  "0.6234314389183622",
                  "0.7909816005838053",
                  "-0.041035535500049486",
                  "-0.1180692306146022",
                  "-0.05068563355867178",
                  "-0.015525374015419788",
                  "-0.0464801960323448",
                  "-0.15398979048536576"
                ],
                [
                  "GrLivArea",
                  "0.7086244776126517",
                  "1.0",
                  "0.4689974773229655",
                  "0.5930074300286511",
                  "-0.04412133574789907",
                  "-0.04117257036659855",
                  "-0.04020754031409613",
                  "0.03228341998178835",
                  "-0.007743147427099559",
                  "-0.09157229691623892"
                ],
                [
                  "GarageArea",
                  "0.6234314389183622",
                  "0.4689974773229655",
                  "1.0",
                  "0.5620217566126084",
                  "0.047794293214865925",
                  "-0.09683728093066692",
                  "-0.10127674127587352",
                  "-0.00545763335146432",
                  "-0.016172571870957008",
                  "-0.1308743564445308"
                ],
                [
                  "OverallQual",
                  "0.7909816005838053",
                  "0.5930074300286511",
                  "0.5620217566126084",
                  "1.0",
                  "-0.05882318667045905",
                  "-0.10353462843180625",
                  "-0.04167726154406613",
                  "-0.04495014594584158",
                  "-0.02551467373399197",
                  "-0.14328185905679897"
                ],
                [
                  "Grvl",
                  "-0.041035535500049486",
                  "-0.04412133574789907",
                  "0.047794293214865925",
                  "-0.05882318667045905",
                  "1.0",
                  "-0.017512348066260824",
                  "-0.0033669970052303396",
                  "0.1127344716329036",
                  "-0.007570545495625119",
                  "0.002140331974766629"
                ],
                [
                  "Abnorml",
                  "-0.1180692306146022",
                  "-0.04117257036659855",
                  "-0.09683728093066692",
                  "-0.10353462843180625",
                  "-0.017512348066260824",
                  "1.0",
                  "-0.014288948359961534",
                  "-0.024817458288434478",
                  "-0.0321280753964693",
                  "-0.5829465305280437"
                ],
                [
                  "AdjLand",
                  "-0.05068563355867178",
                  "-0.04020754031409613",
                  "-0.10127674127587352",
                  "-0.04167726154406613",
                  "-0.0033669970052303396",
                  "-0.014288948359961534",
                  "1.0",
                  "-0.004771507933626237",
                  "-0.006177077638842499",
                  "-0.11207972883309787"
                ],
                [
                  "Alloca",
                  "-0.015525374015419788",
                  "0.03228341998178835",
                  "-0.00545763335146432",
                  "-0.04495014594584158",
                  "0.1127344716329036",
                  "-0.024817458288434478",
                  "-0.004771507933626237",
                  "1.0",
                  "-0.01072852688557186",
                  "-0.1946633107785925"
                ],
                [
                  "Family",
                  "-0.0464801960323448",
                  "-0.007743147427099559",
                  "-0.016172571870957008",
                  "-0.02551467373399197",
                  "-0.007570545495625119",
                  "-0.0321280753964693",
                  "-0.006177077638842499",
                  "-0.01072852688557186",
                  "1.0",
                  "-0.2520063679742559"
                ],
                [
                  "Normal",
                  "-0.15398979048536576",
                  "-0.09157229691623892",
                  "-0.1308743564445308",
                  "-0.14328185905679897",
                  "0.002140331974766629",
                  "-0.5829465305280437",
                  "-0.11207972883309787",
                  "-0.1946633107785925",
                  "-0.2520063679742559",
                  "1.0"
                ]
              ],
              "shape": {
                "columns": 10,
                "rows": 10
              }
            },
            "text/html": [
              "<div>\n",
              "<style scoped>\n",
              "    .dataframe tbody tr th:only-of-type {\n",
              "        vertical-align: middle;\n",
              "    }\n",
              "\n",
              "    .dataframe tbody tr th {\n",
              "        vertical-align: top;\n",
              "    }\n",
              "\n",
              "    .dataframe thead th {\n",
              "        text-align: right;\n",
              "    }\n",
              "</style>\n",
              "<table border=\"1\" class=\"dataframe\">\n",
              "  <thead>\n",
              "    <tr style=\"text-align: right;\">\n",
              "      <th></th>\n",
              "      <th>SalePrice</th>\n",
              "      <th>GrLivArea</th>\n",
              "      <th>GarageArea</th>\n",
              "      <th>OverallQual</th>\n",
              "      <th>Grvl</th>\n",
              "      <th>Abnorml</th>\n",
              "      <th>AdjLand</th>\n",
              "      <th>Alloca</th>\n",
              "      <th>Family</th>\n",
              "      <th>Normal</th>\n",
              "    </tr>\n",
              "  </thead>\n",
              "  <tbody>\n",
              "    <tr>\n",
              "      <th>SalePrice</th>\n",
              "      <td>1.000000</td>\n",
              "      <td>0.708624</td>\n",
              "      <td>0.623431</td>\n",
              "      <td>0.790982</td>\n",
              "      <td>-0.041036</td>\n",
              "      <td>-0.118069</td>\n",
              "      <td>-0.050686</td>\n",
              "      <td>-0.015525</td>\n",
              "      <td>-0.046480</td>\n",
              "      <td>-0.153990</td>\n",
              "    </tr>\n",
              "    <tr>\n",
              "      <th>GrLivArea</th>\n",
              "      <td>0.708624</td>\n",
              "      <td>1.000000</td>\n",
              "      <td>0.468997</td>\n",
              "      <td>0.593007</td>\n",
              "      <td>-0.044121</td>\n",
              "      <td>-0.041173</td>\n",
              "      <td>-0.040208</td>\n",
              "      <td>0.032283</td>\n",
              "      <td>-0.007743</td>\n",
              "      <td>-0.091572</td>\n",
              "    </tr>\n",
              "    <tr>\n",
              "      <th>GarageArea</th>\n",
              "      <td>0.623431</td>\n",
              "      <td>0.468997</td>\n",
              "      <td>1.000000</td>\n",
              "      <td>0.562022</td>\n",
              "      <td>0.047794</td>\n",
              "      <td>-0.096837</td>\n",
              "      <td>-0.101277</td>\n",
              "      <td>-0.005458</td>\n",
              "      <td>-0.016173</td>\n",
              "      <td>-0.130874</td>\n",
              "    </tr>\n",
              "    <tr>\n",
              "      <th>OverallQual</th>\n",
              "      <td>0.790982</td>\n",
              "      <td>0.593007</td>\n",
              "      <td>0.562022</td>\n",
              "      <td>1.000000</td>\n",
              "      <td>-0.058823</td>\n",
              "      <td>-0.103535</td>\n",
              "      <td>-0.041677</td>\n",
              "      <td>-0.044950</td>\n",
              "      <td>-0.025515</td>\n",
              "      <td>-0.143282</td>\n",
              "    </tr>\n",
              "    <tr>\n",
              "      <th>Grvl</th>\n",
              "      <td>-0.041036</td>\n",
              "      <td>-0.044121</td>\n",
              "      <td>0.047794</td>\n",
              "      <td>-0.058823</td>\n",
              "      <td>1.000000</td>\n",
              "      <td>-0.017512</td>\n",
              "      <td>-0.003367</td>\n",
              "      <td>0.112734</td>\n",
              "      <td>-0.007571</td>\n",
              "      <td>0.002140</td>\n",
              "    </tr>\n",
              "    <tr>\n",
              "      <th>Abnorml</th>\n",
              "      <td>-0.118069</td>\n",
              "      <td>-0.041173</td>\n",
              "      <td>-0.096837</td>\n",
              "      <td>-0.103535</td>\n",
              "      <td>-0.017512</td>\n",
              "      <td>1.000000</td>\n",
              "      <td>-0.014289</td>\n",
              "      <td>-0.024817</td>\n",
              "      <td>-0.032128</td>\n",
              "      <td>-0.582947</td>\n",
              "    </tr>\n",
              "    <tr>\n",
              "      <th>AdjLand</th>\n",
              "      <td>-0.050686</td>\n",
              "      <td>-0.040208</td>\n",
              "      <td>-0.101277</td>\n",
              "      <td>-0.041677</td>\n",
              "      <td>-0.003367</td>\n",
              "      <td>-0.014289</td>\n",
              "      <td>1.000000</td>\n",
              "      <td>-0.004772</td>\n",
              "      <td>-0.006177</td>\n",
              "      <td>-0.112080</td>\n",
              "    </tr>\n",
              "    <tr>\n",
              "      <th>Alloca</th>\n",
              "      <td>-0.015525</td>\n",
              "      <td>0.032283</td>\n",
              "      <td>-0.005458</td>\n",
              "      <td>-0.044950</td>\n",
              "      <td>0.112734</td>\n",
              "      <td>-0.024817</td>\n",
              "      <td>-0.004772</td>\n",
              "      <td>1.000000</td>\n",
              "      <td>-0.010729</td>\n",
              "      <td>-0.194663</td>\n",
              "    </tr>\n",
              "    <tr>\n",
              "      <th>Family</th>\n",
              "      <td>-0.046480</td>\n",
              "      <td>-0.007743</td>\n",
              "      <td>-0.016173</td>\n",
              "      <td>-0.025515</td>\n",
              "      <td>-0.007571</td>\n",
              "      <td>-0.032128</td>\n",
              "      <td>-0.006177</td>\n",
              "      <td>-0.010729</td>\n",
              "      <td>1.000000</td>\n",
              "      <td>-0.252006</td>\n",
              "    </tr>\n",
              "    <tr>\n",
              "      <th>Normal</th>\n",
              "      <td>-0.153990</td>\n",
              "      <td>-0.091572</td>\n",
              "      <td>-0.130874</td>\n",
              "      <td>-0.143282</td>\n",
              "      <td>0.002140</td>\n",
              "      <td>-0.582947</td>\n",
              "      <td>-0.112080</td>\n",
              "      <td>-0.194663</td>\n",
              "      <td>-0.252006</td>\n",
              "      <td>1.000000</td>\n",
              "    </tr>\n",
              "  </tbody>\n",
              "</table>\n",
              "</div>"
            ],
            "text/plain": [
              "             SalePrice  GrLivArea  GarageArea  ...    Alloca    Family    Normal\n",
              "SalePrice     1.000000   0.708624    0.623431  ... -0.015525 -0.046480 -0.153990\n",
              "GrLivArea     0.708624   1.000000    0.468997  ...  0.032283 -0.007743 -0.091572\n",
              "GarageArea    0.623431   0.468997    1.000000  ... -0.005458 -0.016173 -0.130874\n",
              "OverallQual   0.790982   0.593007    0.562022  ... -0.044950 -0.025515 -0.143282\n",
              "Grvl         -0.041036  -0.044121    0.047794  ...  0.112734 -0.007571  0.002140\n",
              "Abnorml      -0.118069  -0.041173   -0.096837  ... -0.024817 -0.032128 -0.582947\n",
              "AdjLand      -0.050686  -0.040208   -0.101277  ... -0.004772 -0.006177 -0.112080\n",
              "Alloca       -0.015525   0.032283   -0.005458  ...  1.000000 -0.010729 -0.194663\n",
              "Family       -0.046480  -0.007743   -0.016173  ... -0.010729  1.000000 -0.252006\n",
              "Normal       -0.153990  -0.091572   -0.130874  ... -0.194663 -0.252006  1.000000\n",
              "\n",
              "[10 rows x 10 columns]"
            ]
          },
          "execution_count": 128,
          "metadata": {},
          "output_type": "execute_result"
        }
      ],
      "source": [
        "cm =  df.corr()\n",
        "cm"
      ]
    },
    {
      "cell_type": "markdown",
      "metadata": {},
      "source": [
        "Вероятно, новые признаки, независящие от существующих выделить не получится."
      ]
    },
    {
      "cell_type": "markdown",
      "metadata": {},
      "source": [
        "Сильнее всего коррелируют с целевой переменной значения общего качества, площади жилья и площади гаража.\n",
        "\n",
        "Имеющиеся категориальные (бинарные) признаки коррелируют не сильно и со знаком минус, потому их можно не учитывать (или учитывать только те, у которых корреляция по модулю > 0.1)."
      ]
    },
    {
      "cell_type": "code",
      "execution_count": 129,
      "metadata": {},
      "outputs": [
        {
          "data": {
            "application/vnd.microsoft.datawrangler.viewer.v0+json": {
              "columns": [
                {
                  "name": "index",
                  "rawType": "int64",
                  "type": "integer"
                },
                {
                  "name": "SalePrice",
                  "rawType": "int64",
                  "type": "integer"
                },
                {
                  "name": "GrLivArea",
                  "rawType": "int64",
                  "type": "integer"
                },
                {
                  "name": "GarageArea",
                  "rawType": "int64",
                  "type": "integer"
                },
                {
                  "name": "OverallQual",
                  "rawType": "int64",
                  "type": "integer"
                },
                {
                  "name": "Abnorml",
                  "rawType": "int32",
                  "type": "integer"
                },
                {
                  "name": "Normal",
                  "rawType": "int32",
                  "type": "integer"
                }
              ],
              "conversionMethod": "pd.DataFrame",
              "ref": "b79ab391-2ad7-4304-a9c0-1c96005f9ead",
              "rows": [
                [
                  "0",
                  "208500",
                  "1710",
                  "548",
                  "7",
                  "0",
                  "1"
                ],
                [
                  "1",
                  "181500",
                  "1262",
                  "460",
                  "6",
                  "0",
                  "1"
                ],
                [
                  "2",
                  "223500",
                  "1786",
                  "608",
                  "7",
                  "0",
                  "1"
                ],
                [
                  "3",
                  "140000",
                  "1717",
                  "642",
                  "7",
                  "1",
                  "0"
                ],
                [
                  "4",
                  "250000",
                  "2198",
                  "836",
                  "8",
                  "0",
                  "1"
                ],
                [
                  "5",
                  "143000",
                  "1362",
                  "480",
                  "5",
                  "0",
                  "1"
                ],
                [
                  "6",
                  "307000",
                  "1694",
                  "636",
                  "8",
                  "0",
                  "1"
                ],
                [
                  "7",
                  "200000",
                  "2090",
                  "484",
                  "7",
                  "0",
                  "1"
                ],
                [
                  "8",
                  "129900",
                  "1774",
                  "468",
                  "7",
                  "1",
                  "0"
                ],
                [
                  "9",
                  "118000",
                  "1077",
                  "205",
                  "5",
                  "0",
                  "1"
                ],
                [
                  "10",
                  "129500",
                  "1040",
                  "384",
                  "5",
                  "0",
                  "1"
                ],
                [
                  "11",
                  "345000",
                  "2324",
                  "736",
                  "9",
                  "0",
                  "0"
                ],
                [
                  "12",
                  "144000",
                  "912",
                  "352",
                  "5",
                  "0",
                  "1"
                ],
                [
                  "13",
                  "279500",
                  "1494",
                  "840",
                  "7",
                  "0",
                  "0"
                ],
                [
                  "14",
                  "157000",
                  "1253",
                  "352",
                  "6",
                  "0",
                  "1"
                ],
                [
                  "15",
                  "132000",
                  "854",
                  "576",
                  "7",
                  "0",
                  "1"
                ],
                [
                  "16",
                  "149000",
                  "1004",
                  "480",
                  "6",
                  "0",
                  "1"
                ],
                [
                  "17",
                  "90000",
                  "1296",
                  "516",
                  "4",
                  "0",
                  "1"
                ],
                [
                  "18",
                  "159000",
                  "1114",
                  "576",
                  "5",
                  "0",
                  "1"
                ],
                [
                  "19",
                  "139000",
                  "1339",
                  "294",
                  "5",
                  "1",
                  "0"
                ],
                [
                  "20",
                  "325300",
                  "2376",
                  "853",
                  "8",
                  "0",
                  "0"
                ],
                [
                  "21",
                  "139400",
                  "1108",
                  "280",
                  "7",
                  "0",
                  "1"
                ],
                [
                  "22",
                  "230000",
                  "1795",
                  "534",
                  "8",
                  "0",
                  "1"
                ],
                [
                  "23",
                  "129900",
                  "1060",
                  "572",
                  "5",
                  "0",
                  "1"
                ],
                [
                  "24",
                  "154000",
                  "1060",
                  "270",
                  "5",
                  "0",
                  "1"
                ],
                [
                  "25",
                  "256300",
                  "1600",
                  "890",
                  "8",
                  "0",
                  "1"
                ],
                [
                  "26",
                  "134800",
                  "900",
                  "576",
                  "5",
                  "0",
                  "1"
                ],
                [
                  "27",
                  "306000",
                  "1704",
                  "772",
                  "8",
                  "0",
                  "1"
                ],
                [
                  "28",
                  "207500",
                  "1600",
                  "319",
                  "5",
                  "0",
                  "1"
                ],
                [
                  "29",
                  "68500",
                  "520",
                  "240",
                  "4",
                  "0",
                  "1"
                ],
                [
                  "30",
                  "40000",
                  "1317",
                  "250",
                  "4",
                  "0",
                  "1"
                ],
                [
                  "31",
                  "149350",
                  "1228",
                  "271",
                  "5",
                  "0",
                  "1"
                ],
                [
                  "32",
                  "179900",
                  "1234",
                  "484",
                  "8",
                  "0",
                  "1"
                ],
                [
                  "33",
                  "165500",
                  "1700",
                  "447",
                  "5",
                  "0",
                  "1"
                ],
                [
                  "34",
                  "277500",
                  "1561",
                  "556",
                  "9",
                  "0",
                  "1"
                ],
                [
                  "35",
                  "309000",
                  "2452",
                  "691",
                  "8",
                  "0",
                  "1"
                ],
                [
                  "36",
                  "145000",
                  "1097",
                  "672",
                  "5",
                  "0",
                  "1"
                ],
                [
                  "37",
                  "153000",
                  "1297",
                  "498",
                  "5",
                  "0",
                  "1"
                ],
                [
                  "38",
                  "109000",
                  "1057",
                  "246",
                  "5",
                  "1",
                  "0"
                ],
                [
                  "39",
                  "82000",
                  "1152",
                  "0",
                  "4",
                  "0",
                  "0"
                ],
                [
                  "40",
                  "160000",
                  "1324",
                  "440",
                  "6",
                  "1",
                  "0"
                ],
                [
                  "41",
                  "170000",
                  "1328",
                  "308",
                  "5",
                  "0",
                  "1"
                ],
                [
                  "42",
                  "144000",
                  "884",
                  "504",
                  "5",
                  "0",
                  "1"
                ],
                [
                  "43",
                  "130250",
                  "938",
                  "308",
                  "5",
                  "0",
                  "1"
                ],
                [
                  "44",
                  "141000",
                  "1150",
                  "300",
                  "5",
                  "0",
                  "1"
                ],
                [
                  "45",
                  "319900",
                  "1752",
                  "576",
                  "9",
                  "0",
                  "1"
                ],
                [
                  "46",
                  "239686",
                  "2149",
                  "670",
                  "7",
                  "1",
                  "0"
                ],
                [
                  "47",
                  "249700",
                  "1656",
                  "826",
                  "8",
                  "0",
                  "1"
                ],
                [
                  "48",
                  "113000",
                  "1452",
                  "0",
                  "4",
                  "0",
                  "0"
                ],
                [
                  "49",
                  "127000",
                  "955",
                  "386",
                  "5",
                  "0",
                  "1"
                ]
              ],
              "shape": {
                "columns": 6,
                "rows": 1460
              }
            },
            "text/html": [
              "<div>\n",
              "<style scoped>\n",
              "    .dataframe tbody tr th:only-of-type {\n",
              "        vertical-align: middle;\n",
              "    }\n",
              "\n",
              "    .dataframe tbody tr th {\n",
              "        vertical-align: top;\n",
              "    }\n",
              "\n",
              "    .dataframe thead th {\n",
              "        text-align: right;\n",
              "    }\n",
              "</style>\n",
              "<table border=\"1\" class=\"dataframe\">\n",
              "  <thead>\n",
              "    <tr style=\"text-align: right;\">\n",
              "      <th></th>\n",
              "      <th>SalePrice</th>\n",
              "      <th>GrLivArea</th>\n",
              "      <th>GarageArea</th>\n",
              "      <th>OverallQual</th>\n",
              "      <th>Abnorml</th>\n",
              "      <th>Normal</th>\n",
              "    </tr>\n",
              "  </thead>\n",
              "  <tbody>\n",
              "    <tr>\n",
              "      <th>0</th>\n",
              "      <td>208500</td>\n",
              "      <td>1710</td>\n",
              "      <td>548</td>\n",
              "      <td>7</td>\n",
              "      <td>0</td>\n",
              "      <td>1</td>\n",
              "    </tr>\n",
              "    <tr>\n",
              "      <th>1</th>\n",
              "      <td>181500</td>\n",
              "      <td>1262</td>\n",
              "      <td>460</td>\n",
              "      <td>6</td>\n",
              "      <td>0</td>\n",
              "      <td>1</td>\n",
              "    </tr>\n",
              "    <tr>\n",
              "      <th>2</th>\n",
              "      <td>223500</td>\n",
              "      <td>1786</td>\n",
              "      <td>608</td>\n",
              "      <td>7</td>\n",
              "      <td>0</td>\n",
              "      <td>1</td>\n",
              "    </tr>\n",
              "    <tr>\n",
              "      <th>3</th>\n",
              "      <td>140000</td>\n",
              "      <td>1717</td>\n",
              "      <td>642</td>\n",
              "      <td>7</td>\n",
              "      <td>1</td>\n",
              "      <td>0</td>\n",
              "    </tr>\n",
              "    <tr>\n",
              "      <th>4</th>\n",
              "      <td>250000</td>\n",
              "      <td>2198</td>\n",
              "      <td>836</td>\n",
              "      <td>8</td>\n",
              "      <td>0</td>\n",
              "      <td>1</td>\n",
              "    </tr>\n",
              "    <tr>\n",
              "      <th>...</th>\n",
              "      <td>...</td>\n",
              "      <td>...</td>\n",
              "      <td>...</td>\n",
              "      <td>...</td>\n",
              "      <td>...</td>\n",
              "      <td>...</td>\n",
              "    </tr>\n",
              "    <tr>\n",
              "      <th>1455</th>\n",
              "      <td>175000</td>\n",
              "      <td>1647</td>\n",
              "      <td>460</td>\n",
              "      <td>6</td>\n",
              "      <td>0</td>\n",
              "      <td>1</td>\n",
              "    </tr>\n",
              "    <tr>\n",
              "      <th>1456</th>\n",
              "      <td>210000</td>\n",
              "      <td>2073</td>\n",
              "      <td>500</td>\n",
              "      <td>6</td>\n",
              "      <td>0</td>\n",
              "      <td>1</td>\n",
              "    </tr>\n",
              "    <tr>\n",
              "      <th>1457</th>\n",
              "      <td>266500</td>\n",
              "      <td>2340</td>\n",
              "      <td>252</td>\n",
              "      <td>7</td>\n",
              "      <td>0</td>\n",
              "      <td>1</td>\n",
              "    </tr>\n",
              "    <tr>\n",
              "      <th>1458</th>\n",
              "      <td>142125</td>\n",
              "      <td>1078</td>\n",
              "      <td>240</td>\n",
              "      <td>5</td>\n",
              "      <td>0</td>\n",
              "      <td>1</td>\n",
              "    </tr>\n",
              "    <tr>\n",
              "      <th>1459</th>\n",
              "      <td>147500</td>\n",
              "      <td>1256</td>\n",
              "      <td>276</td>\n",
              "      <td>5</td>\n",
              "      <td>0</td>\n",
              "      <td>1</td>\n",
              "    </tr>\n",
              "  </tbody>\n",
              "</table>\n",
              "<p>1460 rows × 6 columns</p>\n",
              "</div>"
            ],
            "text/plain": [
              "      SalePrice  GrLivArea  GarageArea  OverallQual  Abnorml  Normal\n",
              "0        208500       1710         548            7        0       1\n",
              "1        181500       1262         460            6        0       1\n",
              "2        223500       1786         608            7        0       1\n",
              "3        140000       1717         642            7        1       0\n",
              "4        250000       2198         836            8        0       1\n",
              "...         ...        ...         ...          ...      ...     ...\n",
              "1455     175000       1647         460            6        0       1\n",
              "1456     210000       2073         500            6        0       1\n",
              "1457     266500       2340         252            7        0       1\n",
              "1458     142125       1078         240            5        0       1\n",
              "1459     147500       1256         276            5        0       1\n",
              "\n",
              "[1460 rows x 6 columns]"
            ]
          },
          "execution_count": 129,
          "metadata": {},
          "output_type": "execute_result"
        }
      ],
      "source": [
        "df = df.drop(cm.loc[cm['SalePrice'].abs() < 0.1, ['SalePrice']].index, axis=1)\n",
        "df"
      ]
    },
    {
      "cell_type": "markdown",
      "metadata": {
        "id": "pu4cFGblBPfG"
      },
      "source": [
        "### 4. Разделение на обучающую и тестовую выборки"
      ]
    },
    {
      "cell_type": "code",
      "execution_count": 130,
      "metadata": {
        "id": "Ba7fXJU_wOJ9"
      },
      "outputs": [],
      "source": [
        "train, test = train_test_split(df, test_size=0.25, random_state=42)\n",
        "x_train, y_train = train.drop('SalePrice', axis=1), train['SalePrice']\n",
        "x_test, y_test = test.drop('SalePrice', axis=1), test['SalePrice']"
      ]
    },
    {
      "cell_type": "markdown",
      "metadata": {
        "id": "s5zxLft5BPfH"
      },
      "source": [
        "### 5. Обучение модели линейной регрессии\n",
        "\n",
        "Дополнительно можно взглянуть на коэффициенты и смещение обученной модели."
      ]
    },
    {
      "cell_type": "code",
      "execution_count": 131,
      "metadata": {
        "id": "p8zJv01ywONB"
      },
      "outputs": [
        {
          "name": "stdout",
          "output_type": "stream",
          "text": [
            "-71701.13635405916\n",
            "[    46.08481684     71.41573521  27094.25601264 -26209.1363906\n",
            " -18856.01366857]\n"
          ]
        }
      ],
      "source": [
        "lnr = LinearRegression()\n",
        "lnr.fit(x_train, y_train)\n",
        "\n",
        "print(lnr.intercept_)\n",
        "print(lnr.coef_)"
      ]
    },
    {
      "cell_type": "markdown",
      "metadata": {
        "id": "2yttVRilBPfI"
      },
      "source": [
        "### 6. Получение предсказаний для обучающей и тестовой выборок"
      ]
    },
    {
      "cell_type": "code",
      "execution_count": 132,
      "metadata": {
        "id": "vX2VqH2pwOnH"
      },
      "outputs": [],
      "source": [
        "y_train_pred = lnr.predict(x_train)\n",
        "y_test_pred = lnr.predict(x_test)"
      ]
    },
    {
      "cell_type": "markdown",
      "metadata": {
        "id": "7yoAXuOOBPfJ"
      },
      "source": [
        "### 7. Проверка предсказаний\n",
        "\n",
        "1. Проверьте качество модели на обучающей и тестовой выборках с помощью MAE, MSE.\n",
        "2. Постройте диаграмму рассеяния целевой и предсказанной переменных. "
      ]
    },
    {
      "cell_type": "code",
      "execution_count": 133,
      "metadata": {
        "id": "23Pj6ErtzByI"
      },
      "outputs": [
        {
          "name": "stdout",
          "output_type": "stream",
          "text": [
            "Train MAE: 26580.353634590807, test MAE: 26461.241788578052\n",
            "Train MSE: 1617913654.632538, test MSE: 1604879395.5931954\n"
          ]
        }
      ],
      "source": [
        "train_mae = mean_absolute_error(y_train, y_train_pred)\n",
        "test_mae = mean_absolute_error(y_test, y_test_pred)\n",
        "train_mse = mean_squared_error(y_train, y_train_pred)\n",
        "test_mse = mean_squared_error(y_test, y_test_pred)\n",
        "\n",
        "print(f'Train MAE: {train_mae}, test MAE: {test_mae}')\n",
        "print(f'Train MSE: {train_mse}, test MSE: {test_mse}')"
      ]
    },
    {
      "cell_type": "markdown",
      "metadata": {},
      "source": [
        "Значения ошибок незначительно отличаются, следовательно модель не переобучилась"
      ]
    },
    {
      "cell_type": "code",
      "execution_count": 134,
      "metadata": {},
      "outputs": [
        {
          "data": {
            "image/png": "[encoded data removed]",
            "text/plain": [
              "<Figure size 640x480 with 1 Axes>"
            ]
          },
          "metadata": {},
          "output_type": "display_data"
        }
      ],
      "source": [
        "plt.scatter(y_train, y_train_pred, s=10)\n",
        "plt.title('Train predictions')\n",
        "plt.xlabel('true')\n",
        "plt.ylabel('pred')\n",
        "plt.show()"
      ]
    },
    {
      "cell_type": "code",
      "execution_count": 135,
      "metadata": {},
      "outputs": [
        {
          "data": {
            "image/png": "[encoded data removed]",
            "text/plain": [
              "<Figure size 640x480 with 1 Axes>"
            ]
          },
          "metadata": {},
          "output_type": "display_data"
        }
      ],
      "source": [
        "plt.scatter(y_test, y_test_pred, s=10)\n",
        "plt.title('Test predictions')\n",
        "plt.xlabel('true')\n",
        "plt.ylabel('pred')\n",
        "plt.show()"
      ]
    }
  ],
  "metadata": {
    "colab": {
      "provenance": []
    },
    "kernelspec": {
      "display_name": "Python 3",
      "language": "python",
      "name": "python3"
    },
    "language_info": {
      "codemirror_mode": {
        "name": "ipython",
        "version": 3
      },
      "file_extension": ".py",
      "mimetype": "text/x-python",
      "name": "python",
      "nbconvert_exporter": "python",
      "pygments_lexer": "ipython3",
      "version": "3.10.7"
    }
  },
  "nbformat": 4,
  "nbformat_minor": 0
}
