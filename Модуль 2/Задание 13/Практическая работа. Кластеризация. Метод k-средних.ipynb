{
  "cells": [
    {
      "cell_type": "markdown",
      "metadata": {
        "id": "oVMbcSx_xb-M"
      },
      "source": [
        "# Практическая работа «Кластеризация. Метод k-средних»"
      ]
    },
    {
      "cell_type": "markdown",
      "metadata": {
        "id": "hmnQIYr6xjfK"
      },
      "source": [
        "## Цель практической работы\n",
        "\n",
        "- Научиться строить модель кластеризации на реальных данных."
      ]
    },
    {
      "cell_type": "markdown",
      "metadata": {
        "id": "81AbAi97xm6L"
      },
      "source": [
        "## Что входит в работу\n",
        "\n",
        "\n",
        "- Загрузить данные и провести разведочный анализ.\n",
        "- Предположить оптимальное количество кластеров.\n",
        "- Построить модель кластеризации с помощью  библиотеки scikit-learn.\n",
        "- Вычислить оптимальное количество кластеров.\n",
        "- Интерпретировать результаты."
      ]
    },
    {
      "cell_type": "markdown",
      "metadata": {
        "id": "StX992xQztzF"
      },
      "source": [
        "## Что оценивается\n",
        "\n",
        "*   Выполнены все этапы задания.\n",
        "*   Сделаны выводы по результатам."
      ]
    },
    {
      "cell_type": "markdown",
      "metadata": {
        "id": "t_J_HM7H0CDt"
      },
      "source": [
        "## Как отправить работу на проверку\n",
        "\n",
        "Скачайте файл с заданием в материалах, откройте его через Jupyter Notebook и выполните задачи. Сохраните изменения при помощи опции Save and Checkpoint из вкладки меню File или кнопки Save and Checkpoint на панели инструментов. Отправьте через форму ниже итоговый файл Jupyter Notebook (с расширением .ipynb) или ссылку на него.\n"
      ]
    },
    {
      "cell_type": "markdown",
      "metadata": {
        "id": "bhAMV2tT1m9m"
      },
      "source": [
        "## Задача\n",
        "\n",
        "Пусть имеется набор данных `Mall_Customers.csv` о покупателях супермаркета:\n",
        "\n",
        "* CustomerID — идентификатор покупателя;\n",
        "* Genre — пол;\n",
        "* Age — возраст;\n",
        "* Annual Income (k$) — годовой доход покупателя в тыс. долл.;\n",
        "* Spending Score (1–100) — рейтинг трат покупателя.\n",
        "\n",
        "Решите задачу кластеризации покупателей, чтобы в дальнейшем планировать маркетинговые акции для каждой группы."
      ]
    },
    {
      "cell_type": "markdown",
      "metadata": {
        "id": "bJbBgdmb3dOM"
      },
      "source": [
        "### Задание 1\n",
        "\n",
        "Загрузите датасет и выполните разведочный анализ данных. Сделайте выводы о найденных закономерностях, особенностях и других обнаруженных свойствах данных."
      ]
    },
    {
      "cell_type": "code",
      "execution_count": 27,
      "metadata": {
        "id": "ELaA4v6XCHBx"
      },
      "outputs": [
        {
          "data": {
            "application/vnd.microsoft.datawrangler.viewer.v0+json": {
              "columns": [
                {
                  "name": "index",
                  "rawType": "int64",
                  "type": "integer"
                },
                {
                  "name": "CustomerID",
                  "rawType": "int64",
                  "type": "integer"
                },
                {
                  "name": "Genre",
                  "rawType": "object",
                  "type": "string"
                },
                {
                  "name": "Age",
                  "rawType": "int64",
                  "type": "integer"
                },
                {
                  "name": "Annual Income (k$)",
                  "rawType": "int64",
                  "type": "integer"
                },
                {
                  "name": "Spending Score (1-100)",
                  "rawType": "int64",
                  "type": "integer"
                }
              ],
              "conversionMethod": "pd.DataFrame",
              "ref": "2cf8429a-0da0-4cbb-961e-1134d79e1d95",
              "rows": [
                [
                  "0",
                  "1",
                  "Male",
                  "19",
                  "15",
                  "39"
                ],
                [
                  "1",
                  "2",
                  "Male",
                  "21",
                  "15",
                  "81"
                ],
                [
                  "2",
                  "3",
                  "Female",
                  "20",
                  "16",
                  "6"
                ],
                [
                  "3",
                  "4",
                  "Female",
                  "23",
                  "16",
                  "77"
                ],
                [
                  "4",
                  "5",
                  "Female",
                  "31",
                  "17",
                  "40"
                ],
                [
                  "5",
                  "6",
                  "Female",
                  "22",
                  "17",
                  "76"
                ],
                [
                  "6",
                  "7",
                  "Female",
                  "35",
                  "18",
                  "6"
                ],
                [
                  "7",
                  "8",
                  "Female",
                  "23",
                  "18",
                  "94"
                ],
                [
                  "8",
                  "9",
                  "Male",
                  "64",
                  "19",
                  "3"
                ],
                [
                  "9",
                  "10",
                  "Female",
                  "30",
                  "19",
                  "72"
                ],
                [
                  "10",
                  "11",
                  "Male",
                  "67",
                  "19",
                  "14"
                ],
                [
                  "11",
                  "12",
                  "Female",
                  "35",
                  "19",
                  "99"
                ],
                [
                  "12",
                  "13",
                  "Female",
                  "58",
                  "20",
                  "15"
                ],
                [
                  "13",
                  "14",
                  "Female",
                  "24",
                  "20",
                  "77"
                ],
                [
                  "14",
                  "15",
                  "Male",
                  "37",
                  "20",
                  "13"
                ],
                [
                  "15",
                  "16",
                  "Male",
                  "22",
                  "20",
                  "79"
                ],
                [
                  "16",
                  "17",
                  "Female",
                  "35",
                  "21",
                  "35"
                ],
                [
                  "17",
                  "18",
                  "Male",
                  "20",
                  "21",
                  "66"
                ],
                [
                  "18",
                  "19",
                  "Male",
                  "52",
                  "23",
                  "29"
                ],
                [
                  "19",
                  "20",
                  "Female",
                  "35",
                  "23",
                  "98"
                ],
                [
                  "20",
                  "21",
                  "Male",
                  "35",
                  "24",
                  "35"
                ],
                [
                  "21",
                  "22",
                  "Male",
                  "25",
                  "24",
                  "73"
                ],
                [
                  "22",
                  "23",
                  "Female",
                  "46",
                  "25",
                  "5"
                ],
                [
                  "23",
                  "24",
                  "Male",
                  "31",
                  "25",
                  "73"
                ],
                [
                  "24",
                  "25",
                  "Female",
                  "54",
                  "28",
                  "14"
                ],
                [
                  "25",
                  "26",
                  "Male",
                  "29",
                  "28",
                  "82"
                ],
                [
                  "26",
                  "27",
                  "Female",
                  "45",
                  "28",
                  "32"
                ],
                [
                  "27",
                  "28",
                  "Male",
                  "35",
                  "28",
                  "61"
                ],
                [
                  "28",
                  "29",
                  "Female",
                  "40",
                  "29",
                  "31"
                ],
                [
                  "29",
                  "30",
                  "Female",
                  "23",
                  "29",
                  "87"
                ],
                [
                  "30",
                  "31",
                  "Male",
                  "60",
                  "30",
                  "4"
                ],
                [
                  "31",
                  "32",
                  "Female",
                  "21",
                  "30",
                  "73"
                ],
                [
                  "32",
                  "33",
                  "Male",
                  "53",
                  "33",
                  "4"
                ],
                [
                  "33",
                  "34",
                  "Male",
                  "18",
                  "33",
                  "92"
                ],
                [
                  "34",
                  "35",
                  "Female",
                  "49",
                  "33",
                  "14"
                ],
                [
                  "35",
                  "36",
                  "Female",
                  "21",
                  "33",
                  "81"
                ],
                [
                  "36",
                  "37",
                  "Female",
                  "42",
                  "34",
                  "17"
                ],
                [
                  "37",
                  "38",
                  "Female",
                  "30",
                  "34",
                  "73"
                ],
                [
                  "38",
                  "39",
                  "Female",
                  "36",
                  "37",
                  "26"
                ],
                [
                  "39",
                  "40",
                  "Female",
                  "20",
                  "37",
                  "75"
                ],
                [
                  "40",
                  "41",
                  "Female",
                  "65",
                  "38",
                  "35"
                ],
                [
                  "41",
                  "42",
                  "Male",
                  "24",
                  "38",
                  "92"
                ],
                [
                  "42",
                  "43",
                  "Male",
                  "48",
                  "39",
                  "36"
                ],
                [
                  "43",
                  "44",
                  "Female",
                  "31",
                  "39",
                  "61"
                ],
                [
                  "44",
                  "45",
                  "Female",
                  "49",
                  "39",
                  "28"
                ],
                [
                  "45",
                  "46",
                  "Female",
                  "24",
                  "39",
                  "65"
                ],
                [
                  "46",
                  "47",
                  "Female",
                  "50",
                  "40",
                  "55"
                ],
                [
                  "47",
                  "48",
                  "Female",
                  "27",
                  "40",
                  "47"
                ],
                [
                  "48",
                  "49",
                  "Female",
                  "29",
                  "40",
                  "42"
                ],
                [
                  "49",
                  "50",
                  "Female",
                  "31",
                  "40",
                  "42"
                ]
              ],
              "shape": {
                "columns": 5,
                "rows": 200
              }
            },
            "text/html": [
              "<div>\n",
              "<style scoped>\n",
              "    .dataframe tbody tr th:only-of-type {\n",
              "        vertical-align: middle;\n",
              "    }\n",
              "\n",
              "    .dataframe tbody tr th {\n",
              "        vertical-align: top;\n",
              "    }\n",
              "\n",
              "    .dataframe thead th {\n",
              "        text-align: right;\n",
              "    }\n",
              "</style>\n",
              "<table border=\"1\" class=\"dataframe\">\n",
              "  <thead>\n",
              "    <tr style=\"text-align: right;\">\n",
              "      <th></th>\n",
              "      <th>CustomerID</th>\n",
              "      <th>Genre</th>\n",
              "      <th>Age</th>\n",
              "      <th>Annual Income (k$)</th>\n",
              "      <th>Spending Score (1-100)</th>\n",
              "    </tr>\n",
              "  </thead>\n",
              "  <tbody>\n",
              "    <tr>\n",
              "      <th>0</th>\n",
              "      <td>1</td>\n",
              "      <td>Male</td>\n",
              "      <td>19</td>\n",
              "      <td>15</td>\n",
              "      <td>39</td>\n",
              "    </tr>\n",
              "    <tr>\n",
              "      <th>1</th>\n",
              "      <td>2</td>\n",
              "      <td>Male</td>\n",
              "      <td>21</td>\n",
              "      <td>15</td>\n",
              "      <td>81</td>\n",
              "    </tr>\n",
              "    <tr>\n",
              "      <th>2</th>\n",
              "      <td>3</td>\n",
              "      <td>Female</td>\n",
              "      <td>20</td>\n",
              "      <td>16</td>\n",
              "      <td>6</td>\n",
              "    </tr>\n",
              "    <tr>\n",
              "      <th>3</th>\n",
              "      <td>4</td>\n",
              "      <td>Female</td>\n",
              "      <td>23</td>\n",
              "      <td>16</td>\n",
              "      <td>77</td>\n",
              "    </tr>\n",
              "    <tr>\n",
              "      <th>4</th>\n",
              "      <td>5</td>\n",
              "      <td>Female</td>\n",
              "      <td>31</td>\n",
              "      <td>17</td>\n",
              "      <td>40</td>\n",
              "    </tr>\n",
              "    <tr>\n",
              "      <th>...</th>\n",
              "      <td>...</td>\n",
              "      <td>...</td>\n",
              "      <td>...</td>\n",
              "      <td>...</td>\n",
              "      <td>...</td>\n",
              "    </tr>\n",
              "    <tr>\n",
              "      <th>195</th>\n",
              "      <td>196</td>\n",
              "      <td>Female</td>\n",
              "      <td>35</td>\n",
              "      <td>120</td>\n",
              "      <td>79</td>\n",
              "    </tr>\n",
              "    <tr>\n",
              "      <th>196</th>\n",
              "      <td>197</td>\n",
              "      <td>Female</td>\n",
              "      <td>45</td>\n",
              "      <td>126</td>\n",
              "      <td>28</td>\n",
              "    </tr>\n",
              "    <tr>\n",
              "      <th>197</th>\n",
              "      <td>198</td>\n",
              "      <td>Male</td>\n",
              "      <td>32</td>\n",
              "      <td>126</td>\n",
              "      <td>74</td>\n",
              "    </tr>\n",
              "    <tr>\n",
              "      <th>198</th>\n",
              "      <td>199</td>\n",
              "      <td>Male</td>\n",
              "      <td>32</td>\n",
              "      <td>137</td>\n",
              "      <td>18</td>\n",
              "    </tr>\n",
              "    <tr>\n",
              "      <th>199</th>\n",
              "      <td>200</td>\n",
              "      <td>Male</td>\n",
              "      <td>30</td>\n",
              "      <td>137</td>\n",
              "      <td>83</td>\n",
              "    </tr>\n",
              "  </tbody>\n",
              "</table>\n",
              "<p>200 rows × 5 columns</p>\n",
              "</div>"
            ],
            "text/plain": [
              "     CustomerID   Genre  Age  Annual Income (k$)  Spending Score (1-100)\n",
              "0             1    Male   19                  15                      39\n",
              "1             2    Male   21                  15                      81\n",
              "2             3  Female   20                  16                       6\n",
              "3             4  Female   23                  16                      77\n",
              "4             5  Female   31                  17                      40\n",
              "..          ...     ...  ...                 ...                     ...\n",
              "195         196  Female   35                 120                      79\n",
              "196         197  Female   45                 126                      28\n",
              "197         198    Male   32                 126                      74\n",
              "198         199    Male   32                 137                      18\n",
              "199         200    Male   30                 137                      83\n",
              "\n",
              "[200 rows x 5 columns]"
            ]
          },
          "execution_count": 27,
          "metadata": {},
          "output_type": "execute_result"
        }
      ],
      "source": [
        "import pandas as pd\n",
        "import seaborn as sns\n",
        "\n",
        "\n",
        "df = pd.read_csv('Mall_Customers.csv')\n",
        "df"
      ]
    },
    {
      "cell_type": "code",
      "execution_count": 28,
      "metadata": {},
      "outputs": [
        {
          "data": {
            "application/vnd.microsoft.datawrangler.viewer.v0+json": {
              "columns": [
                {
                  "name": "index",
                  "rawType": "object",
                  "type": "string"
                },
                {
                  "name": "CustomerID",
                  "rawType": "float64",
                  "type": "float"
                },
                {
                  "name": "Age",
                  "rawType": "float64",
                  "type": "float"
                },
                {
                  "name": "Annual Income (k$)",
                  "rawType": "float64",
                  "type": "float"
                },
                {
                  "name": "Spending Score (1-100)",
                  "rawType": "float64",
                  "type": "float"
                }
              ],
              "conversionMethod": "pd.DataFrame",
              "ref": "b99ffc8b-15c3-432d-b524-3b68c6d9c22b",
              "rows": [
                [
                  "count",
                  "200.0",
                  "200.0",
                  "200.0",
                  "200.0"
                ],
                [
                  "mean",
                  "100.5",
                  "38.85",
                  "60.56",
                  "50.2"
                ],
                [
                  "std",
                  "57.879184513951124",
                  "13.96900733155888",
                  "26.264721165271244",
                  "25.823521668370173"
                ],
                [
                  "min",
                  "1.0",
                  "18.0",
                  "15.0",
                  "1.0"
                ],
                [
                  "25%",
                  "50.75",
                  "28.75",
                  "41.5",
                  "34.75"
                ],
                [
                  "50%",
                  "100.5",
                  "36.0",
                  "61.5",
                  "50.0"
                ],
                [
                  "75%",
                  "150.25",
                  "49.0",
                  "78.0",
                  "73.0"
                ],
                [
                  "max",
                  "200.0",
                  "70.0",
                  "137.0",
                  "99.0"
                ]
              ],
              "shape": {
                "columns": 4,
                "rows": 8
              }
            },
            "text/html": [
              "<div>\n",
              "<style scoped>\n",
              "    .dataframe tbody tr th:only-of-type {\n",
              "        vertical-align: middle;\n",
              "    }\n",
              "\n",
              "    .dataframe tbody tr th {\n",
              "        vertical-align: top;\n",
              "    }\n",
              "\n",
              "    .dataframe thead th {\n",
              "        text-align: right;\n",
              "    }\n",
              "</style>\n",
              "<table border=\"1\" class=\"dataframe\">\n",
              "  <thead>\n",
              "    <tr style=\"text-align: right;\">\n",
              "      <th></th>\n",
              "      <th>CustomerID</th>\n",
              "      <th>Age</th>\n",
              "      <th>Annual Income (k$)</th>\n",
              "      <th>Spending Score (1-100)</th>\n",
              "    </tr>\n",
              "  </thead>\n",
              "  <tbody>\n",
              "    <tr>\n",
              "      <th>count</th>\n",
              "      <td>200.000000</td>\n",
              "      <td>200.000000</td>\n",
              "      <td>200.000000</td>\n",
              "      <td>200.000000</td>\n",
              "    </tr>\n",
              "    <tr>\n",
              "      <th>mean</th>\n",
              "      <td>100.500000</td>\n",
              "      <td>38.850000</td>\n",
              "      <td>60.560000</td>\n",
              "      <td>50.200000</td>\n",
              "    </tr>\n",
              "    <tr>\n",
              "      <th>std</th>\n",
              "      <td>57.879185</td>\n",
              "      <td>13.969007</td>\n",
              "      <td>26.264721</td>\n",
              "      <td>25.823522</td>\n",
              "    </tr>\n",
              "    <tr>\n",
              "      <th>min</th>\n",
              "      <td>1.000000</td>\n",
              "      <td>18.000000</td>\n",
              "      <td>15.000000</td>\n",
              "      <td>1.000000</td>\n",
              "    </tr>\n",
              "    <tr>\n",
              "      <th>25%</th>\n",
              "      <td>50.750000</td>\n",
              "      <td>28.750000</td>\n",
              "      <td>41.500000</td>\n",
              "      <td>34.750000</td>\n",
              "    </tr>\n",
              "    <tr>\n",
              "      <th>50%</th>\n",
              "      <td>100.500000</td>\n",
              "      <td>36.000000</td>\n",
              "      <td>61.500000</td>\n",
              "      <td>50.000000</td>\n",
              "    </tr>\n",
              "    <tr>\n",
              "      <th>75%</th>\n",
              "      <td>150.250000</td>\n",
              "      <td>49.000000</td>\n",
              "      <td>78.000000</td>\n",
              "      <td>73.000000</td>\n",
              "    </tr>\n",
              "    <tr>\n",
              "      <th>max</th>\n",
              "      <td>200.000000</td>\n",
              "      <td>70.000000</td>\n",
              "      <td>137.000000</td>\n",
              "      <td>99.000000</td>\n",
              "    </tr>\n",
              "  </tbody>\n",
              "</table>\n",
              "</div>"
            ],
            "text/plain": [
              "       CustomerID         Age  Annual Income (k$)  Spending Score (1-100)\n",
              "count  200.000000  200.000000          200.000000              200.000000\n",
              "mean   100.500000   38.850000           60.560000               50.200000\n",
              "std     57.879185   13.969007           26.264721               25.823522\n",
              "min      1.000000   18.000000           15.000000                1.000000\n",
              "25%     50.750000   28.750000           41.500000               34.750000\n",
              "50%    100.500000   36.000000           61.500000               50.000000\n",
              "75%    150.250000   49.000000           78.000000               73.000000\n",
              "max    200.000000   70.000000          137.000000               99.000000"
            ]
          },
          "execution_count": 28,
          "metadata": {},
          "output_type": "execute_result"
        }
      ],
      "source": [
        "df.describe()"
      ]
    },
    {
      "cell_type": "code",
      "execution_count": 29,
      "metadata": {},
      "outputs": [
        {
          "name": "stdout",
          "output_type": "stream",
          "text": [
            "<class 'pandas.core.frame.DataFrame'>\n",
            "RangeIndex: 200 entries, 0 to 199\n",
            "Data columns (total 4 columns):\n",
            " #   Column                  Non-Null Count  Dtype \n",
            "---  ------                  --------------  ----- \n",
            " 0   Genre                   200 non-null    object\n",
            " 1   Age                     200 non-null    int64 \n",
            " 2   Annual Income (k$)      200 non-null    int64 \n",
            " 3   Spending Score (1-100)  200 non-null    int64 \n",
            "dtypes: int64(3), object(1)\n",
            "memory usage: 6.4+ KB\n"
          ]
        }
      ],
      "source": [
        "df = df.drop('CustomerID', axis=1)\n",
        "df.info()"
      ]
    },
    {
      "cell_type": "code",
      "execution_count": 30,
      "metadata": {},
      "outputs": [
        {
          "data": {
            "application/vnd.microsoft.datawrangler.viewer.v0+json": {
              "columns": [
                {
                  "name": "index",
                  "rawType": "object",
                  "type": "string"
                },
                {
                  "name": "Age",
                  "rawType": "float64",
                  "type": "float"
                },
                {
                  "name": "Annual Income (k$)",
                  "rawType": "float64",
                  "type": "float"
                },
                {
                  "name": "Spending Score (1-100)",
                  "rawType": "float64",
                  "type": "float"
                }
              ],
              "conversionMethod": "pd.DataFrame",
              "ref": "c7cf389a-2235-4308-8ae5-c88e11001eea",
              "rows": [
                [
                  "Age",
                  "1.0",
                  "-0.01239804273606026",
                  "-0.32722684603909025"
                ],
                [
                  "Annual Income (k$)",
                  "-0.01239804273606026",
                  "1.0",
                  "0.009902848094037497"
                ],
                [
                  "Spending Score (1-100)",
                  "-0.32722684603909025",
                  "0.009902848094037497",
                  "1.0"
                ]
              ],
              "shape": {
                "columns": 3,
                "rows": 3
              }
            },
            "text/html": [
              "<div>\n",
              "<style scoped>\n",
              "    .dataframe tbody tr th:only-of-type {\n",
              "        vertical-align: middle;\n",
              "    }\n",
              "\n",
              "    .dataframe tbody tr th {\n",
              "        vertical-align: top;\n",
              "    }\n",
              "\n",
              "    .dataframe thead th {\n",
              "        text-align: right;\n",
              "    }\n",
              "</style>\n",
              "<table border=\"1\" class=\"dataframe\">\n",
              "  <thead>\n",
              "    <tr style=\"text-align: right;\">\n",
              "      <th></th>\n",
              "      <th>Age</th>\n",
              "      <th>Annual Income (k$)</th>\n",
              "      <th>Spending Score (1-100)</th>\n",
              "    </tr>\n",
              "  </thead>\n",
              "  <tbody>\n",
              "    <tr>\n",
              "      <th>Age</th>\n",
              "      <td>1.000000</td>\n",
              "      <td>-0.012398</td>\n",
              "      <td>-0.327227</td>\n",
              "    </tr>\n",
              "    <tr>\n",
              "      <th>Annual Income (k$)</th>\n",
              "      <td>-0.012398</td>\n",
              "      <td>1.000000</td>\n",
              "      <td>0.009903</td>\n",
              "    </tr>\n",
              "    <tr>\n",
              "      <th>Spending Score (1-100)</th>\n",
              "      <td>-0.327227</td>\n",
              "      <td>0.009903</td>\n",
              "      <td>1.000000</td>\n",
              "    </tr>\n",
              "  </tbody>\n",
              "</table>\n",
              "</div>"
            ],
            "text/plain": [
              "                             Age  Annual Income (k$)  Spending Score (1-100)\n",
              "Age                     1.000000           -0.012398               -0.327227\n",
              "Annual Income (k$)     -0.012398            1.000000                0.009903\n",
              "Spending Score (1-100) -0.327227            0.009903                1.000000"
            ]
          },
          "execution_count": 30,
          "metadata": {},
          "output_type": "execute_result"
        }
      ],
      "source": [
        "df.corr(numeric_only='True')"
      ]
    },
    {
      "cell_type": "code",
      "execution_count": 31,
      "metadata": {},
      "outputs": [
        {
          "data": {
            "text/plain": [
              "<seaborn.axisgrid.PairGrid at 0x1dec1fe5510>"
            ]
          },
          "execution_count": 31,
          "metadata": {},
          "output_type": "execute_result"
        },
        {
          "data": {
            "image/png": "[encoded data removed]",
            "text/plain": [
              "<Figure size 750x750 with 12 Axes>"
            ]
          },
          "metadata": {},
          "output_type": "display_data"
        }
      ],
      "source": [
        "sns.pairplot(df)"
      ]
    },
    {
      "cell_type": "markdown",
      "metadata": {
        "id": "cwIRoXHl32Wy"
      },
      "source": [
        "### Задание 2\n",
        "\n",
        "Метод k-средних требует явно задать количество кластеров, на которые будут разбиваться данные. Поскольку данных может быть настолько много, что построение одной модели будет занимать несколько часов, важно примерно оценить количество кластеров до запуска обучения модели.\n",
        "\n",
        "На основе результатов разведочного анализа данных предположите, какое количество кластеров будет оптимальным, и аргументируйте предположение."
      ]
    },
    {
      "cell_type": "markdown",
      "metadata": {},
      "source": [
        "Судя по графикам, предположительно оптимальным будет 5 кластеров, так как они явно выделяются на графиках зависимости ежегодного дохода от рейтинга трат."
      ]
    },
    {
      "cell_type": "markdown",
      "metadata": {
        "id": "PZ8Pk1Pb8GeE"
      },
      "source": [
        "### Задание 3\n",
        "\n",
        "Преобразуйте категориальный признак Genre в численный. Аргументируйте выбор метода кодирования признака."
      ]
    },
    {
      "cell_type": "code",
      "execution_count": 32,
      "metadata": {
        "id": "zTVIfcWyCIt3"
      },
      "outputs": [
        {
          "data": {
            "text/plain": [
              "Genre\n",
              "Female    112\n",
              "Male       88\n",
              "Name: count, dtype: int64"
            ]
          },
          "execution_count": 32,
          "metadata": {},
          "output_type": "execute_result"
        }
      ],
      "source": [
        "df['Genre'].value_counts()"
      ]
    },
    {
      "cell_type": "code",
      "execution_count": 33,
      "metadata": {},
      "outputs": [],
      "source": [
        "# Так как признак имеет два уникальных значения, то кодируем как 0 и 1\n",
        "df['Genre'] = df['Genre'].apply(lambda x: 1 if x == 'Male' else 0)"
      ]
    },
    {
      "cell_type": "markdown",
      "metadata": {
        "id": "2-Oij_8p8aa6"
      },
      "source": [
        "### Задание 4\n",
        "\n",
        "Постройте модель кластеризации с помощью метода k-средних. Определите оптимальное количество кластеров с помощью метода локтя."
      ]
    },
    {
      "cell_type": "code",
      "execution_count": 34,
      "metadata": {
        "id": "gdG7vNGkCJzH"
      },
      "outputs": [
        {
          "data": {
            "text/plain": [
              "<Axes: >"
            ]
          },
          "execution_count": 34,
          "metadata": {},
          "output_type": "execute_result"
        },
        {
          "data": {
            "image/png": "[encoded data removed]",
            "text/plain": [
              "<Figure size 640x480 with 1 Axes>"
            ]
          },
          "metadata": {},
          "output_type": "display_data"
        }
      ],
      "source": [
        "from sklearn.cluster import KMeans\n",
        "\n",
        "\n",
        "n_clusters = list(range(2, 10))\n",
        "metrics = []\n",
        "for k in n_clusters:\n",
        "    km = KMeans(k)\n",
        "    km.fit(df)\n",
        "    metrics.append(km.inertia_)\n",
        "\n",
        "sns.lineplot(x=n_clusters, y=metrics)"
      ]
    },
    {
      "cell_type": "markdown",
      "metadata": {
        "id": "Y8L1TnE8BC79"
      },
      "source": [
        "### Задание 5\n",
        "\n",
        "Постройте финальную модель кластеризации с количеством кластеров, опредёленным в предыдущем задании."
      ]
    },
    {
      "cell_type": "code",
      "execution_count": 43,
      "metadata": {
        "id": "U-kUrm0ZCK20"
      },
      "outputs": [
        {
          "data": {
            "text/plain": [
              "0      0\n",
              "1      4\n",
              "2      0\n",
              "3      4\n",
              "4      0\n",
              "      ..\n",
              "195    3\n",
              "196    2\n",
              "197    3\n",
              "198    2\n",
              "199    3\n",
              "Name: cluster, Length: 200, dtype: int32"
            ]
          },
          "execution_count": 43,
          "metadata": {},
          "output_type": "execute_result"
        }
      ],
      "source": [
        "from sklearn.cluster import KMeans\n",
        "\n",
        "\n",
        "km = KMeans(5)\n",
        "df['cluster'] = km.fit_predict(df.drop('cluster', axis=1))\n",
        "df['cluster']"
      ]
    },
    {
      "cell_type": "code",
      "execution_count": 45,
      "metadata": {},
      "outputs": [
        {
          "data": {
            "image/png": "[encoded data removed]",
            "text/plain": [
              "<Figure size 640x480 with 1 Axes>"
            ]
          },
          "metadata": {},
          "output_type": "display_data"
        }
      ],
      "source": [
        "import matplotlib.pyplot as plt\n",
        "\n",
        "\n",
        "colors = ['red', 'orange', 'green', 'blue', 'purple']\n",
        "vars = ['Annual Income (k$)', 'Spending Score (1-100)']\n",
        "for cluster in sorted(df['cluster'].unique()):\n",
        "    data = df[df['cluster'] == cluster][[*vars]]\n",
        "    plt.scatter(data[vars[0]], data[vars[1]], color=colors[cluster], label=cluster)\n",
        "\n",
        "plt.xlabel(vars[0])\n",
        "plt.ylabel(vars[1])\n",
        "plt.legend();"
      ]
    },
    {
      "cell_type": "markdown",
      "metadata": {
        "id": "DW-w1FvL9SXs"
      },
      "source": [
        "### Задание 6 (выполните по желанию)\n",
        "\n",
        "При работе с данными важно не только качество моделей машинного обучения, но и интерпретация полученных результатов и представление их в виде, понятном пользователям и заказчикам.\n",
        "\n",
        "После построения модели кластеризации вы разбили покупателей на группы. Теперь важно интерпретировать эти группы, то есть создать профиль группы. \n",
        "\n",
        "В качестве профиля группы часто используют её типичного представителя. В кластерах типичным представителем можно назвать центроиду кластера. В sklearn получить список центроид можно с помощью атрибута `cluster_centers_` у объекта класса KMeans (этот атрибут возвращает матрицу с размерностями (количество кластеров, количество признаков), подробнее об этом [в материале](https://scikit-learn.org/stable/modules/generated/sklearn.cluster.KMeans.html)). \n",
        "\n",
        "Получите центроиды кластеров, преобразуйте их к датафрейму, опишите типичного представителя каждой группы и чем группы отличаются друг от друга. При описании и сравнении используйте методы визуализации."
      ]
    },
    {
      "cell_type": "code",
      "execution_count": 46,
      "metadata": {
        "id": "GfKF5lKkBYY8"
      },
      "outputs": [
        {
          "data": {
            "application/vnd.microsoft.datawrangler.viewer.v0+json": {
              "columns": [
                {
                  "name": "index",
                  "rawType": "int64",
                  "type": "integer"
                },
                {
                  "name": "Genre",
                  "rawType": "float64",
                  "type": "float"
                },
                {
                  "name": "Age",
                  "rawType": "float64",
                  "type": "float"
                },
                {
                  "name": "Annual Income (k$)",
                  "rawType": "float64",
                  "type": "float"
                },
                {
                  "name": "Spending Score (1-100)",
                  "rawType": "float64",
                  "type": "float"
                }
              ],
              "conversionMethod": "pd.DataFrame",
              "ref": "07148b88-6b6e-4f3a-8c4b-f36fea6a7153",
              "rows": [
                [
                  "0",
                  "0.391304347826087",
                  "45.21739130434783",
                  "26.304347826086982",
                  "20.913043478260867"
                ],
                [
                  "1",
                  "0.42307692307692313",
                  "43.28205128205128",
                  "55.025641025641036",
                  "49.69230769230769"
                ],
                [
                  "2",
                  "0.5135135135135136",
                  "40.32432432432432",
                  "87.43243243243245",
                  "18.18918918918917"
                ],
                [
                  "3",
                  "0.46153846153846156",
                  "32.6923076923077",
                  "86.53846153846155",
                  "82.12820512820511"
                ],
                [
                  "4",
                  "0.391304347826087",
                  "25.52173913043478",
                  "26.304347826086982",
                  "78.56521739130434"
                ]
              ],
              "shape": {
                "columns": 4,
                "rows": 5
              }
            },
            "text/html": [
              "<div>\n",
              "<style scoped>\n",
              "    .dataframe tbody tr th:only-of-type {\n",
              "        vertical-align: middle;\n",
              "    }\n",
              "\n",
              "    .dataframe tbody tr th {\n",
              "        vertical-align: top;\n",
              "    }\n",
              "\n",
              "    .dataframe thead th {\n",
              "        text-align: right;\n",
              "    }\n",
              "</style>\n",
              "<table border=\"1\" class=\"dataframe\">\n",
              "  <thead>\n",
              "    <tr style=\"text-align: right;\">\n",
              "      <th></th>\n",
              "      <th>Genre</th>\n",
              "      <th>Age</th>\n",
              "      <th>Annual Income (k$)</th>\n",
              "      <th>Spending Score (1-100)</th>\n",
              "    </tr>\n",
              "  </thead>\n",
              "  <tbody>\n",
              "    <tr>\n",
              "      <th>0</th>\n",
              "      <td>0.391304</td>\n",
              "      <td>45.217391</td>\n",
              "      <td>26.304348</td>\n",
              "      <td>20.913043</td>\n",
              "    </tr>\n",
              "    <tr>\n",
              "      <th>1</th>\n",
              "      <td>0.423077</td>\n",
              "      <td>43.282051</td>\n",
              "      <td>55.025641</td>\n",
              "      <td>49.692308</td>\n",
              "    </tr>\n",
              "    <tr>\n",
              "      <th>2</th>\n",
              "      <td>0.513514</td>\n",
              "      <td>40.324324</td>\n",
              "      <td>87.432432</td>\n",
              "      <td>18.189189</td>\n",
              "    </tr>\n",
              "    <tr>\n",
              "      <th>3</th>\n",
              "      <td>0.461538</td>\n",
              "      <td>32.692308</td>\n",
              "      <td>86.538462</td>\n",
              "      <td>82.128205</td>\n",
              "    </tr>\n",
              "    <tr>\n",
              "      <th>4</th>\n",
              "      <td>0.391304</td>\n",
              "      <td>25.521739</td>\n",
              "      <td>26.304348</td>\n",
              "      <td>78.565217</td>\n",
              "    </tr>\n",
              "  </tbody>\n",
              "</table>\n",
              "</div>"
            ],
            "text/plain": [
              "      Genre        Age  Annual Income (k$)  Spending Score (1-100)\n",
              "0  0.391304  45.217391           26.304348               20.913043\n",
              "1  0.423077  43.282051           55.025641               49.692308\n",
              "2  0.513514  40.324324           87.432432               18.189189\n",
              "3  0.461538  32.692308           86.538462               82.128205\n",
              "4  0.391304  25.521739           26.304348               78.565217"
            ]
          },
          "execution_count": 46,
          "metadata": {},
          "output_type": "execute_result"
        }
      ],
      "source": [
        "centroids = pd.DataFrame(km.cluster_centers_, columns=km.feature_names_in_)\n",
        "centroids"
      ]
    },
    {
      "cell_type": "code",
      "execution_count": 21,
      "metadata": {},
      "outputs": [
        {
          "data": {
            "image/png": "[encoded data removed]",
            "text/plain": [
              "<Figure size 640x480 with 1 Axes>"
            ]
          },
          "metadata": {},
          "output_type": "display_data"
        }
      ],
      "source": [
        "# import matplotlib.pyplot as plt\n",
        "\n",
        "\n",
        "colors = ['red', 'orange', 'green', 'blue', 'purple']\n",
        "vars = ['Age', 'Annual Income (k$)', 'Spending Score (1-100)']\n",
        "# for cluster in df['cluster'].unique():\n",
        "#     data = df[df['cluster'] == cluster][[*vars]]\n",
        "#     plt.bar(data[vars[0]], data[vars[1]], color=colors[cluster])\n",
        "\n",
        "df.groupby('cluster')['Age'].plot.hist(legend=True, alpha=0.6, title='Age');"
      ]
    },
    {
      "cell_type": "code",
      "execution_count": 22,
      "metadata": {},
      "outputs": [
        {
          "data": {
            "image/png": "[encoded data removed]",
            "text/plain": [
              "<Figure size 640x480 with 1 Axes>"
            ]
          },
          "metadata": {},
          "output_type": "display_data"
        }
      ],
      "source": [
        "df.groupby('cluster')['Annual Income (k$)'].plot.hist(legend=True, alpha=0.6, title='Annual Income');"
      ]
    },
    {
      "cell_type": "code",
      "execution_count": 23,
      "metadata": {},
      "outputs": [
        {
          "data": {
            "image/png": "[encoded data removed]",
            "text/plain": [
              "<Figure size 640x480 with 1 Axes>"
            ]
          },
          "metadata": {},
          "output_type": "display_data"
        }
      ],
      "source": [
        "df.groupby('cluster')['Spending Score (1-100)'].plot.hist(legend=True, alpha=0.6, title='Spending Score');"
      ]
    },
    {
      "cell_type": "markdown",
      "metadata": {},
      "source": [
        "По доходам и тратам данные разделились на 5 явно выделенных кластеров: \n",
        "\n",
        "0 - низкие доходы и низкие траты;\n",
        "\n",
        "1 - средние доходы и средние траты;\n",
        "\n",
        "2 - высокий доход и низкие траты;\n",
        "\n",
        "3 - высокие доходы и высокие траты;\n",
        "\n",
        "4 - низкий доход и высокие траты.\n",
        "\n",
        "По возрасту у кластеры 0-2 не отличаются значимо (примерно 40-45 лет), для кластера 3 средний возраст 32, а для 4 - 25 лет.\n",
        "\n",
        "По полу во всех кластерах преобладет доля женщин, кроме кластера 3, в котором немного более половины мужчин."
      ]
    }
  ],
  "metadata": {
    "colab": {
      "provenance": []
    },
    "kernelspec": {
      "display_name": "Python 3",
      "name": "python3"
    },
    "language_info": {
      "codemirror_mode": {
        "name": "ipython",
        "version": 3
      },
      "file_extension": ".py",
      "mimetype": "text/x-python",
      "name": "python",
      "nbconvert_exporter": "python",
      "pygments_lexer": "ipython3",
      "version": "3.10.7"
    }
  },
  "nbformat": 4,
  "nbformat_minor": 0
}
